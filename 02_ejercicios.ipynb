{
 "cells": [
  {
   "cell_type": "markdown",
   "metadata": {
    "ein.tags": "worksheet-0",
    "slideshow": {
     "slide_type": "-"
    }
   },
   "source": [
    "## Ejercicios 02\n",
    "\n",
    "\n",
    "1. Para el número complejo $z= 1 + 0.5 i$\n",
    "    * Calcular $z^2, z^3, z^4, z^5.$\n",
    "    * Calcular los complejos conjugados de $z$, $z^2$ y $z^3$.\n",
    "    * Escribir $z$, $z^2$ y $z^3$ en coordenadas polares.\n",
    "    * Escribir un programa, utilizando formato de strings, que escriba las frases:\n",
    "       - \"El conjugado de z=1+0.5j es 1-0.5j\"\n",
    "       - \"El conjugado de z=(1+0.5j)^2 es ...\" (con el valor correspondiente)\n",
    "\n",
    "1. Escriba un script que encuentre las raíces de la ecuación cuadrática $a x^{2} + bx +c  = 0$. Los valores de los parámetros defínalos en el mismo script, un poco más arriba.\n",
    "\n",
    "3. Considere un polígono regular de $N$ lados inscripto en un círculo de radio unidad:\n",
    "    - Calcule el ángulo interior del polígono regular de $N$ lados (por ejemplo el de un triángulo es 60 grados, de un cuadrado es 90 grados, y de un pentágono es 108 grados). Exprese el resultado en grados y en radianes para valores de  $N= 3, 5, 6, 8, 9, 10, 12$.\n",
    "    - ¿Puede calcular la longitud del lado de los polígonos regulares si se encuentran inscriptos en un círculo de radio unidad?\n",
    "\n",
    "5. Manejos de listas:\n",
    "    - Cree la lista **N** de longitud 50, donde cada elemento es un número entero de 1 a 50 inclusive (Ayuda: vea la expresión ``range``).\n",
    "    - Invierta la lista.\n",
    "    - Extraiga una lista **N2** que contenga sólo los elementos pares de **N**.\n",
    "    - Extraiga una lista **N3** que contenga sólo aquellos elementos que sean el cuadrado de algún número entero.\n",
    "\n",
    "6. Cree una lista de la forma `L = [1,3,5,...,17,19,19,17,...,3,1]`\n",
    "\n",
    "8. Utilizando el string:\n",
    "```python\n",
    "s1='En un lugar de la Mancha de cuyo nombre no quiero acordarme'```\n",
    "y utilizando los métodos de strings:\n",
    "    - Obtenga la cantidad de caracteres.\n",
    "    - Imprima la frase anterior pero con cada palabra empezando en mayúsculas.\n",
    "    - Cuente cuantas letras 'a' tiene la frase, ¿cuántas vocales tiene?\n",
    "    - Imprima el string `s1` centrado en una línea de 80 caracteres, rodeado de guiones en la forma:\n",
    "    \n",
    "    ``----------En un lugar de la Mancha de cuyo nombre no quiero acordarme-----------``\n",
    "\n",
    "    - Obtenga una lista **L1** donde cada elemento sea una palabra.\n",
    "    - Cuente la cantidad de palabras en ``s1`` (utilizando python).\n",
    "    - Ordene la lista **L1** en orden alfabético.\n",
    "    - Ordene la lista **L1** tal que las palabras más cortas estén primero.\n",
    "    - Ordene la lista **L1** tal que las palabras más largas estén primero.\n",
    "    - Construya un string **s2** con la lista del resultado del punto anterior.\n",
    "    - Encuentre la palabra más larga y la más corta de la frase.\n",
    "\n",
    "8. Escriba un *script* (llamado distancia1.py) que defina las variables velocidad y posición inicial $v_{0}$, $z_{0}$, la aceleración $g$, y la masa $m=1$ kg a tiempo $t=0$, y calcule e imprima la posición y velocidad a un tiempo posterior $t$. Ejecute el programa para varios valores de posición y velocidad inicial para $t=2$ segundos.\n",
    "Recuerde que las ecuaciones de movimiento con aceleración constante son:\n",
    "\\begin{align}\n",
    "  v &= v_0 - g t \\,  \\\\\n",
    "  z &= z_0 + v_0 t - g t^2/2.\n",
    "\\end{align}\n",
    "\n",
    "9. Calcular la suma:\n",
    "$$s_{1} = \\frac{1}{2} \\left(\\sum_{k=0}^{100}k \\right)^{-1}$$\n",
    "\n",
    "*Ayuda*: busque información sobre la función `sum()`\n",
    "\n",
    "1. Calcule la suma\n",
    "$$s_{2} = \\sum_{k=1}^{\\infty} \\frac{(-1)^{k} (k+1)}{2 k^{3} + k^{2}}$$\n",
    "con un error relativo estimado menor a $\\epsilon=10^{-5}$. Imprima por pantalla el resultado, el valor máximo de $k$ computado y el error relativo estimado.\n"
   ]
  }
 ],
 "metadata": {
  "kernelspec": {
   "display_name": "Python 3",
   "language": "python",
   "name": "python3"
  },
  "language_info": {
   "codemirror_mode": {
    "name": "ipython",
    "version": 3
   },
   "file_extension": ".py",
   "mimetype": "text/x-python",
   "name": "python",
   "nbconvert_exporter": "python",
   "pygments_lexer": "ipython3",
   "version": "3.9.1"
  },
  "name": "02_ejercicios.ipynb",
  "toc": {
   "base_numbering": 1,
   "nav_menu": {},
   "number_sections": true,
   "sideBar": true,
   "skip_h1_title": false,
   "title_cell": "Contenidos",
   "title_sidebar": "Contenidos",
   "toc_cell": false,
   "toc_position": {},
   "toc_section_display": true,
   "toc_window_display": false
  }
 },
 "nbformat": 4,
 "nbformat_minor": 4
}
