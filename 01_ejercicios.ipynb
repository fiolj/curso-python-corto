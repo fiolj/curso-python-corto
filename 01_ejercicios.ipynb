{
 "cells": [
  {
   "cell_type": "markdown",
   "metadata": {
    "ein.tags": "worksheet-0",
    "slideshow": {
     "slide_type": "-"
    }
   },
   "source": [
    "## Ejercicios 01\n",
    " \n",
    "1. Abra una terminal (consola) de Ipython y utilícela como una calculadora para realizar las siguientes acciones:\n",
    "     - Suponiendo que, de las cuatro horas de clases, tomamos un descanso de 15 minutos y nos distraemos otros 13 minutos, calcular cuántos minutos efectivos de trabajo tendremos en las 16 clases.\n",
    "     - Para la cantidad de alumnos presentes en el aula: ¿cuántas horas-persona de trabajo hay involucradas?\n",
    "\n",
    "3. Abra un editor de textos y escriba las líneas necesarias para imprimir por pantalla las siguientes frases (una por línea). Guarde y ejecute su programa.\n",
    "    - Hola, por primera vez\n",
    "    - Hola, hoy es mi día de escribir frases intrascendentes\n",
    "    - Hola, nuevamente, y espero que por última vez\n",
    "    - E = mc²\n",
    "    - Adiós\n",
    "  \n",
    "  Ejecute el programa.\n",
    "\n",
    "4. Para cubos de lados de longitud L= 1, 3, 5 y 8, calcule su superficie y su volumen.\n",
    "\n",
    "5. Para esferas de radios r= 1, 3, 5 y 8, calcule su superficie y su volumen.\n",
    "\n",
    "6. Fíjese si alguno de los valores de $x=2.05$, $x=2.11$, $x=2.21$ es un cero de la función $f(x)=x^{2} + x/4 - 1/2$.\n",
    "\n"
   ]
  }
 ],
 "metadata": {
  "kernelspec": {
   "display_name": "Python 3",
   "language": "python",
   "name": "python3"
  },
  "language_info": {
   "codemirror_mode": {
    "name": "ipython",
    "version": 3
   },
   "file_extension": ".py",
   "mimetype": "text/x-python",
   "name": "python",
   "nbconvert_exporter": "python",
   "pygments_lexer": "ipython3",
   "version": "3.7.2"
  },
  "name": "01_ejercicios.ipynb",
  "toc": {
   "base_numbering": 1,
   "nav_menu": {},
   "number_sections": true,
   "sideBar": true,
   "skip_h1_title": false,
   "title_cell": "Contenidos",
   "title_sidebar": "Contenidos",
   "toc_cell": false,
   "toc_position": {},
   "toc_section_display": true,
   "toc_window_display": false
  }
 },
 "nbformat": 4,
 "nbformat_minor": 1
}
