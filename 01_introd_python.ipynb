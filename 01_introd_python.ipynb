{
 "cells": [
  {
   "cell_type": "markdown",
   "metadata": {
    "ein.tags": "worksheet-0",
    "slideshow": {
     "slide_type": "-"
    }
   },
   "source": [
    "# Conceptos básicos de Python    <a class=\"tocSkip\">"
   ]
  },
  {
   "cell_type": "markdown",
   "metadata": {
    "ein.tags": "worksheet-0",
    "slideshow": {
     "slide_type": "-"
    }
   },
   "source": [
    "## Características generales del lenguaje\n",
    "Python presenta características modernas. Posiblemente su característica más visible/notable es que la estructuración del código está fuertemente relacionada con su legibilidad:\n",
    "\n",
    "- Es un lenguaje interpretado (no se compila separadamente)\n",
    "\n",
    "- Provee tanto un entorno interactivo como de programas separados \n",
    "\n",
    "- Las funciones, bloques, ámbitos están definidos por la indentación\n",
    "\n",
    "- Tiene una estructura altamente modular, permitiendo su reusabilidad\n",
    "\n",
    "- Es un lenguaje de *tipeado dinámico*, no tenemos que declarar el tipo de variable antes de usarla."
   ]
  },
  {
   "cell_type": "markdown",
   "metadata": {
    "ein.tags": "worksheet-0",
    "slideshow": {
     "slide_type": "-"
    }
   },
   "source": [
    "Python es un lenguaje altamente modular con una biblioteca standard que provee de funciones y tipos para un amplio rango de aplicaciones, y que se distribuye junto con el lenguaje. Además hay un conjunto muy importante de utilidades que pueden instalarse e incorporarse muy fácilmente. El núcleo del lenguaje es pequeño, existiendo sólo unas pocas palabras reservadas:\n",
    "\n",
    "\n",
    "\n",
    "| False    | class      | finally   | is         | return   |\n",
    "|----------|------------|-----------|------------|----------|\n",
    "| None     | continue   | for       | lambda     | try      |\n",
    "| True     | def        | from      | nonlocal   | while    |\n",
    "| and      | del        | global    | not        | with     |\n",
    "| as       | elif       | if        | or         | yield    |\n",
    "| assert   | else       | import    | pass       |          |\n",
    "| break    | except     | in        | raise      |          |"
   ]
  },
  {
   "cell_type": "markdown",
   "metadata": {
    "ein.tags": "worksheet-0",
    "slideshow": {
     "slide_type": "-"
    }
   },
   "source": [
    "Además de las palabras reservadas, es relevante el caracter `#`, porque inicia un comentario que se continúa hasta el final de la línea. Los comentarios son fragmentos que se ignoran completamente en la ejecución del código."
   ]
  },
  {
   "cell_type": "code",
   "execution_count": null,
   "metadata": {},
   "outputs": [],
   "source": [
    "1+1\n",
    "# 3+3"
   ]
  },
  {
   "cell_type": "markdown",
   "metadata": {},
   "source": [
    "Como vemos, la segunda línea es ignorada completamente."
   ]
  },
  {
   "cell_type": "markdown",
   "metadata": {
    "ein.tags": "worksheet-0",
    "slideshow": {
     "slide_type": "-"
    }
   },
   "source": [
    "## Tipos simples de variables\n",
    "\n",
    "Python es un lenguaje de muy alto nivel y por lo tanto trae muchos *tipos* de datos ya definidos:\n",
    "\n",
    "  - Números: enteros, reales, complejos\n",
    "  - Tipos lógicos (booleanos)\n",
    "  - Cadenas de caracteres (strings) y bytes\n",
    "  - Listas: una lista es una colección de cosas, ordenadas, que pueden ser todas distintas entre sí\n",
    "  - Diccionarios: También son colecciones de cosas, pero no están ordenadas y son identificadas con una etiqueta\n",
    "  - Conjuntos, tuples, ..."
   ]
  },
  {
   "cell_type": "markdown",
   "metadata": {
    "ein.tags": "worksheet-0",
    "slideshow": {
     "slide_type": "-"
    }
   },
   "source": [
    "### Números\n",
    "\n",
    "Hay varios tipos de números en Python. Aquí definimos y asignamos valor a distintas variables:"
   ]
  },
  {
   "cell_type": "code",
   "execution_count": 5,
   "metadata": {
    "autoscroll": false,
    "ein.hycell": false,
    "ein.tags": "worksheet-0",
    "slideshow": {
     "slide_type": "-"
    }
   },
   "outputs": [],
   "source": [
    "a = 13\n",
    "b = 1.235\n",
    "c = a + b"
   ]
  },
  {
   "cell_type": "code",
   "execution_count": 6,
   "metadata": {
    "autoscroll": false,
    "ein.hycell": false,
    "ein.tags": "worksheet-0",
    "slideshow": {
     "slide_type": "-"
    }
   },
   "outputs": [
    {
     "name": "stdout",
     "output_type": "stream",
     "text": [
      "13 <class 'int'>\n"
     ]
    }
   ],
   "source": [
    "print(a, type(a))"
   ]
  },
  {
   "cell_type": "code",
   "execution_count": 7,
   "metadata": {
    "autoscroll": false,
    "ein.hycell": false,
    "ein.tags": "worksheet-0",
    "slideshow": {
     "slide_type": "-"
    }
   },
   "outputs": [
    {
     "name": "stdout",
     "output_type": "stream",
     "text": [
      "1.235 <class 'float'>\n",
      "14.235 <class 'float'>\n"
     ]
    }
   ],
   "source": [
    "print(b, type(b))\n",
    "print(c, type(c))"
   ]
  },
  {
   "cell_type": "markdown",
   "metadata": {
    "ein.tags": "worksheet-0",
    "slideshow": {
     "slide_type": "-"
    }
   },
   "source": [
    "Esta es una de las características de Python. Se define el tipo de variable en forma dinámica, al asignarle un valor. "
   ]
  },
  {
   "cell_type": "markdown",
   "metadata": {
    "ein.tags": "worksheet-0",
    "slideshow": {
     "slide_type": "-"
    }
   },
   "source": [
    "De la misma manera se cambia el tipo de una variable en forma dinámica, para poder operar. Por ejemplo en el último caso, la variable `a` es de tipo `int`, pero para poder sumarla con la variable `b` debe convertirse su valor a otra de tipo `float`."
   ]
  },
  {
   "cell_type": "code",
   "execution_count": 9,
   "metadata": {
    "autoscroll": false,
    "ein.hycell": false,
    "ein.tags": "worksheet-0",
    "slideshow": {
     "slide_type": "-"
    }
   },
   "outputs": [
    {
     "name": "stdout",
     "output_type": "stream",
     "text": [
      "19.5 <class 'float'>\n",
      "29.25 <class 'float'>\n"
     ]
    }
   ],
   "source": [
    "print (a, type(a))\n",
    "a = 1.5 * a\n",
    "print (a, type(a))"
   ]
  },
  {
   "cell_type": "markdown",
   "metadata": {
    "ein.tags": "worksheet-0",
    "slideshow": {
     "slide_type": "-"
    }
   },
   "source": [
    "Ahora, la variable `a` es del tipo `float`. "
   ]
  },
  {
   "cell_type": "markdown",
   "metadata": {
    "ein.tags": "worksheet-0",
    "slideshow": {
     "slide_type": "-"
    }
   },
   "source": [
    "-----\n",
    "\n",
    "**Nota:** La función `print`\n",
    "\n",
    "Estuvimos usando, sin hacer ningún comentario, la función \n",
    "\n",
    "```\n",
    "print(arg1, arg2, arg3, ..., sep=' ', end='\\n', file=sys.stdout, flush=False)` \n",
    "```\n",
    "\n",
    "acepta un número variable de argumentos. Imprime por pantalla todos los argumentos que se le pasan separados por el string `sep` (cuyo valor por defecto es un espacio), y termina con el string `end` (con valor por defecto *newline*)."
   ]
  },
  {
   "cell_type": "code",
   "execution_count": null,
   "metadata": {
    "autoscroll": false,
    "ein.hycell": false,
    "ein.tags": "worksheet-0",
    "slideshow": {
     "slide_type": "-"
    }
   },
   "outputs": [],
   "source": [
    "print?"
   ]
  },
  {
   "cell_type": "code",
   "execution_count": 10,
   "metadata": {
    "autoscroll": false,
    "ein.hycell": false,
    "ein.tags": "worksheet-0",
    "slideshow": {
     "slide_type": "-"
    }
   },
   "outputs": [
    {
     "name": "stdout",
     "output_type": "stream",
     "text": [
      "3 2 hola\n",
      "4 1 chau\n"
     ]
    }
   ],
   "source": [
    "print(3,2,'hola')\n",
    "print(4,1,'chau')"
   ]
  },
  {
   "cell_type": "code",
   "execution_count": 11,
   "metadata": {
    "autoscroll": false,
    "ein.hycell": false,
    "ein.tags": "worksheet-0",
    "slideshow": {
     "slide_type": "-"
    }
   },
   "outputs": [
    {
     "name": "stdout",
     "output_type": "stream",
     "text": [
      "3++++2++++hola -> 4++++1++++chau\n"
     ]
    }
   ],
   "source": [
    "print(3,2,'hola',sep='++++',end=' -> ')\n",
    "print(4,1,'chau',sep='++++')"
   ]
  },
  {
   "cell_type": "code",
   "execution_count": 13,
   "metadata": {
    "autoscroll": false,
    "ein.hycell": false,
    "ein.tags": "worksheet-0",
    "slideshow": {
     "slide_type": "-"
    }
   },
   "outputs": [
    {
     "name": "stdout",
     "output_type": "stream",
     "text": [
      "3,2,hola\n"
     ]
    }
   ],
   "source": [
    "print(3,2,'hola',sep=',')"
   ]
  },
  {
   "cell_type": "markdown",
   "metadata": {},
   "source": [
    "\n",
    "--------"
   ]
  },
  {
   "cell_type": "markdown",
   "metadata": {
    "ein.tags": "worksheet-0",
    "slideshow": {
     "slide_type": "-"
    }
   },
   "source": [
    "#### Números complejos\n",
    "\n",
    "Los números complejos son parte standard del lenguaje, y las operaciones básicas que están incorporadas en forma nativa pueden utilizarse normalmente"
   ]
  },
  {
   "cell_type": "code",
   "execution_count": 14,
   "metadata": {
    "autoscroll": false,
    "ein.hycell": false,
    "ein.tags": "worksheet-0",
    "slideshow": {
     "slide_type": "-"
    }
   },
   "outputs": [
    {
     "name": "stdout",
     "output_type": "stream",
     "text": [
      "z1 = (3+1j) , z2 = (2+2.124j)\n"
     ]
    }
   ],
   "source": [
    "z1 = 3 + 1j\n",
    "z2 = 2 + 2.124j\n",
    "print ('z1 =', z1, ', z2 =', z2)"
   ]
  },
  {
   "cell_type": "code",
   "execution_count": 15,
   "metadata": {},
   "outputs": [
    {
     "data": {
      "text/plain": [
       "complex"
      ]
     },
     "execution_count": 15,
     "metadata": {},
     "output_type": "execute_result"
    }
   ],
   "source": [
    "type(z1)"
   ]
  },
  {
   "cell_type": "code",
   "execution_count": 16,
   "metadata": {
    "autoscroll": false,
    "ein.hycell": false,
    "ein.tags": "worksheet-0",
    "slideshow": {
     "slide_type": "-"
    }
   },
   "outputs": [
    {
     "name": "stdout",
     "output_type": "stream",
     "text": [
      "1.5j * z2 + z1 =  (-0.18599999999999994+4j)\n",
      "z2² =  (-0.5113760000000003+8.496j)\n",
      "conj(z1) =  (3-1j)\n"
     ]
    }
   ],
   "source": [
    "print('1.5j * z2 + z1 = ', 1.5j * z2 + z1)  # sumas, multiplicaciones de números complejos\n",
    "print('z2² = ', z2**2)  # potencia de números complejos\n",
    "print('conj(z1) = ',  z1.conjugate()  )"
   ]
  },
  {
   "cell_type": "code",
   "execution_count": 17,
   "metadata": {
    "autoscroll": false,
    "ein.hycell": false,
    "ein.tags": "worksheet-0",
    "slideshow": {
     "slide_type": "-"
    }
   },
   "outputs": [
    {
     "name": "stdout",
     "output_type": "stream",
     "text": [
      "Im(z1) =  1.0\n",
      "Re(z1) =  3.0\n",
      "abs(z1) =  3.1622776601683795\n"
     ]
    }
   ],
   "source": [
    "print ('Im(z1) = ', z1.imag)\n",
    "print ('Re(z1) = ', z1.real)\n",
    "print ('abs(z1) = ', abs(z1))"
   ]
  },
  {
   "cell_type": "markdown",
   "metadata": {
    "ein.tags": "worksheet-0",
    "slideshow": {
     "slide_type": "-"
    }
   },
   "source": [
    "#### Operaciones\n",
    "Las operaciones aritméticas básicas son:\n",
    "\n",
    "* adición: `+`\n",
    "* sustracción: `-`\n",
    "* multiplicación: `*`\n",
    "* división: `/`\n",
    "* potencia: `**`\n",
    "* módulo: `%`\n",
    "* división entera: `//`\n",
    "\n",
    "Las operaciones se pueden agrupar con parentesis y tienen precedencia estándar.\n",
    "\n",
    "División entera (//) significa quedarse con la parte entera de la división (sin redondear).\n",
    "\n",
    "--------\n",
    "\n",
    "**Nota:**  Las operaciones matemáticas están incluidas en el lenguaje, pero las funciones no.\n",
    "\n",
    "En particular las funciones elementales: trigonométricas, hiperbólicas, logaritmos no están incluidas. En todos los casos es fácil utilizarlas porque las proveen módulos. Lo veremos pronto. \n",
    "\n",
    "--------\n"
   ]
  },
  {
   "cell_type": "code",
   "execution_count": 21,
   "metadata": {
    "autoscroll": false,
    "ein.hycell": false,
    "ein.tags": "worksheet-0",
    "slideshow": {
     "slide_type": "-"
    }
   },
   "outputs": [
    {
     "name": "stdout",
     "output_type": "stream",
     "text": [
      "división de 20/3:          6.666666666666667\n",
      "parte entera de 20/3:      6\n",
      "fracción restante de 20/3: 0.666666666666667\n",
      "Resto de 20/3:             2\n"
     ]
    }
   ],
   "source": [
    "print('división de 20/3:         ', 20/3)\n",
    "print('parte entera de 20/3:     ', 20//3)\n",
    "print('fracción restante de 20/3:', 20/3 - 20//3)\n",
    "print('Resto de 20/3:            ', 20%3)"
   ]
  },
  {
   "cell_type": "markdown",
   "metadata": {
    "ein.tags": "worksheet-0",
    "slideshow": {
     "slide_type": "-"
    }
   },
   "source": [
    "En Python 3 la división entre números enteros da como resultado un número flotante "
   ]
  },
  {
   "cell_type": "code",
   "execution_count": 22,
   "metadata": {
    "autoscroll": false,
    "ein.hycell": false,
    "ein.tags": "worksheet-0",
    "slideshow": {
     "slide_type": "-"
    }
   },
   "outputs": [
    {
     "name": "stdout",
     "output_type": "stream",
     "text": [
      "4.0\n",
      "<class 'float'>\n",
      "6.666666666666667\n"
     ]
    }
   ],
   "source": [
    "print(20/5)\n",
    "print(type(20/5))\n",
    "print(20/3)"
   ]
  },
  {
   "cell_type": "markdown",
   "metadata": {
    "ein.tags": "worksheet-0",
    "slideshow": {
     "slide_type": "-"
    }
   },
   "source": [
    "----\n",
    "\n",
    "**Advertencia:** En *Python 2.x* la división entre números enteros es entera"
   ]
  },
  {
   "cell_type": "code",
   "execution_count": 23,
   "metadata": {
    "autoscroll": false,
    "ein.hycell": false,
    "ein.tags": "worksheet-0",
    "slideshow": {
     "slide_type": "-"
    }
   },
   "outputs": [
    {
     "name": "stdout",
     "output_type": "stream",
     "text": [
      "0 6\n"
     ]
    }
   ],
   "source": [
    "%%python2\n",
    "print 1/2,  20/3"
   ]
  },
  {
   "cell_type": "code",
   "execution_count": 24,
   "metadata": {
    "autoscroll": false,
    "ein.hycell": false,
    "ein.tags": "worksheet-0",
    "slideshow": {
     "slide_type": "-"
    }
   },
   "outputs": [
    {
     "name": "stdout",
     "output_type": "stream",
     "text": [
      "0 6\n",
      "0.5 6.666666666666667\n"
     ]
    }
   ],
   "source": [
    "print( 1//2,  20//3)  # División entera \n",
    "print( 1/2,  20/3)    # División"
   ]
  },
  {
   "cell_type": "markdown",
   "metadata": {},
   "source": [
    "-----"
   ]
  },
  {
   "cell_type": "markdown",
   "metadata": {
    "ein.tags": "worksheet-0",
    "slideshow": {
     "slide_type": "-"
    }
   },
   "source": [
    "### Tipos simples: Booleanos\n",
    "\n",
    "Los tipos lógicos o *booleanos*, pueden tomar los valores *Verdadero* o *Falso* (`True` o `False`).\n",
    "También hay un tipo *especial*, el elemento ``None``."
   ]
  },
  {
   "cell_type": "code",
   "execution_count": 25,
   "metadata": {
    "autoscroll": false,
    "ein.hycell": false,
    "ein.tags": "worksheet-0",
    "slideshow": {
     "slide_type": "-"
    }
   },
   "outputs": [
    {
     "name": "stdout",
     "output_type": "stream",
     "text": [
      "¿t is True? False\n",
      "¿t is False? True\n"
     ]
    }
   ],
   "source": [
    "t = False\n",
    "print('¿t is True?', t == True)\n",
    "print('¿t is False?', t == False)"
   ]
  },
  {
   "cell_type": "markdown",
   "metadata": {},
   "source": [
    "Los valores se pueden asignar a variables, como se hace con números "
   ]
  },
  {
   "cell_type": "code",
   "execution_count": 26,
   "metadata": {
    "autoscroll": false,
    "ein.hycell": false,
    "ein.tags": "worksheet-0",
    "slideshow": {
     "slide_type": "-"
    }
   },
   "outputs": [
    {
     "name": "stdout",
     "output_type": "stream",
     "text": [
      "¿t is True? False\n",
      "<class 'bool'>\n"
     ]
    }
   ],
   "source": [
    "c = (t == True)\n",
    "print('¿t is True?', c)\n",
    "print (type(c))"
   ]
  },
  {
   "cell_type": "markdown",
   "metadata": {},
   "source": [
    "El tipo `None` no es un número, pero tampoco es Verdadero o Falso"
   ]
  },
  {
   "cell_type": "code",
   "execution_count": 27,
   "metadata": {
    "autoscroll": false,
    "ein.hycell": false,
    "ein.tags": "worksheet-0",
    "slideshow": {
     "slide_type": "-"
    }
   },
   "outputs": [
    {
     "name": "stdout",
     "output_type": "stream",
     "text": [
      "True == None:  False\n",
      "False == None:  False\n"
     ]
    }
   ],
   "source": [
    "print ('True == None: ',True == None)\n",
    "print ('False == None: ', False == None)"
   ]
  },
  {
   "cell_type": "code",
   "execution_count": 28,
   "metadata": {
    "autoscroll": false,
    "ein.hycell": false,
    "ein.tags": "worksheet-0",
    "slideshow": {
     "slide_type": "-"
    }
   },
   "outputs": [
    {
     "name": "stdout",
     "output_type": "stream",
     "text": [
      "type(a):  <class 'NoneType'>\n",
      "False\n"
     ]
    }
   ],
   "source": [
    "a = None\n",
    "print ('type(a): ',type(a))\n",
    "print (bool(None))"
   ]
  },
  {
   "cell_type": "markdown",
   "metadata": {
    "ein.tags": "worksheet-0",
    "slideshow": {
     "slide_type": "-"
    }
   },
   "source": [
    "Aquí hemos estado preguntando si dos cosas eran iguales o no (igualdad). También podemos preguntar si una **es** la otra (identidad). En el siguiente ejemplo vemos que dos variables pueden tener el mismo valor pero ser diferentes"
   ]
  },
  {
   "cell_type": "code",
   "execution_count": 29,
   "metadata": {
    "autoscroll": false,
    "ein.hycell": false,
    "ein.tags": "worksheet-0",
    "slideshow": {
     "slide_type": "-"
    }
   },
   "outputs": [
    {
     "name": "stdout",
     "output_type": "stream",
     "text": [
      "True\n",
      "True\n"
     ]
    }
   ],
   "source": [
    "d = 1.5\n",
    "a = d\n",
    "print(d == a)\n",
    "print(d is a)"
   ]
  },
  {
   "cell_type": "code",
   "execution_count": 30,
   "metadata": {},
   "outputs": [
    {
     "name": "stdout",
     "output_type": "stream",
     "text": [
      "True\n",
      "False\n"
     ]
    }
   ],
   "source": [
    "d = 1.5\n",
    "a = 1.5\n",
    "print(d == a)\n",
    "print(d is a)"
   ]
  },
  {
   "cell_type": "markdown",
   "metadata": {},
   "source": [
    "Sin embargo, dos variables que tienen valores `True` son efectivamente \"la misma\" (son idénticas). Lo mismo ocurre con `False` y `None`"
   ]
  },
  {
   "cell_type": "code",
   "execution_count": 31,
   "metadata": {
    "autoscroll": false,
    "ein.hycell": false,
    "ein.tags": "worksheet-0",
    "slideshow": {
     "slide_type": "-"
    }
   },
   "outputs": [
    {
     "name": "stdout",
     "output_type": "stream",
     "text": [
      "a is True:  True\n",
      "c is None:  True\n",
      "¿Son idénticas las variables?\n",
      "b is a:  True\n",
      "d is c:  True\n"
     ]
    }
   ],
   "source": [
    "a = True\n",
    "b = True\n",
    "c = None\n",
    "d = None\n",
    "print ('a is True: ', a is True)\n",
    "print ('c is None: ', c is None)\n",
    "print(\"¿Son idénticas las variables?\")\n",
    "print ('b is a: ', b is a)\n",
    "print ('d is c: ', d is c)"
   ]
  },
  {
   "cell_type": "markdown",
   "metadata": {
    "ein.tags": "worksheet-0",
    "slideshow": {
     "slide_type": "-"
    }
   },
   "source": [
    "#### Operadores lógicos\n",
    "\n",
    "Los operadores lógicos en Python son muy explicitos:\n",
    "\n",
    "    A == B  (A igual que B)\n",
    "    A > B   (A mayor que B)\n",
    "    A < B   (A menor que B)\n",
    "    A >= B  (A igual o mayor que B)\n",
    "    A <= B  (A igual o menor que B)\n",
    "    A != B  (A diferente que B)\n",
    "    A in B  (A incluido en B)\n",
    "    A is B  (Identidad: A es el mismo elemento que B)\n",
    "\n",
    "y a todos los podemos combinar con `not`, que niega la condición"
   ]
  },
  {
   "cell_type": "code",
   "execution_count": 32,
   "metadata": {
    "autoscroll": false,
    "ein.hycell": false,
    "ein.tags": "worksheet-0",
    "slideshow": {
     "slide_type": "-"
    }
   },
   "outputs": [
    {
     "name": "stdout",
     "output_type": "stream",
     "text": [
      "¿20/3 == 6?  -> False\n",
      "¿20//3 == 6? -> True\n",
      "¿20//3 >= 6? -> True\n",
      "¿20//3 > 6?  -> False\n"
     ]
    }
   ],
   "source": [
    "print ('¿20/3 == 6?  ->', 20/3 == 6)\n",
    "print ('¿20//3 == 6? ->', 20//3 == 6)\n",
    "print ('¿20//3 >= 6? ->', 20//3 >= 6)\n",
    "print ('¿20//3 > 6?  ->', 20//3 > 6)"
   ]
  },
  {
   "cell_type": "code",
   "execution_count": 33,
   "metadata": {
    "autoscroll": false,
    "ein.hycell": false,
    "ein.tags": "worksheet-0",
    "slideshow": {
     "slide_type": "-"
    }
   },
   "outputs": [
    {
     "name": "stdout",
     "output_type": "stream",
     "text": [
      "a == b     -> True\n",
      "a is b     -> False\n",
      "a is not b -> True\n"
     ]
    }
   ],
   "source": [
    "a = 1001\n",
    "b = 1001\n",
    "print ('a == b     ->', a == b)\n",
    "print ('a is b     ->', a is b)\n",
    "print ('a is not b ->', a is not b)"
   ]
  },
  {
   "cell_type": "markdown",
   "metadata": {
    "ein.tags": "worksheet-0",
    "slideshow": {
     "slide_type": "-"
    }
   },
   "source": [
    "Note que en las últimas dos líneas estamos fijándonos si las dos variables son la misma (identidad), y no ocurre aunque sus valores son iguales."
   ]
  },
  {
   "cell_type": "markdown",
   "metadata": {},
   "source": [
    "## Modularización y reuso"
   ]
  },
  {
   "cell_type": "markdown",
   "metadata": {
    "ein.tags": "worksheet-0",
    "slideshow": {
     "slide_type": "-"
    }
   },
   "source": [
    "Los módulos son el mecanismo de Python para reusar código. Una gran ventaja del lenguaje es que ya existen muchos módulos que son parte de la biblioteca *standard*. Además, existen numerosas bibliotecas y módulos para ayudarnos en cualquier tarea.\n",
    "\n",
    "El uso de los módulos es muy simple, para poder aprovecharlo necesitaremos saber dos cosas:\n",
    "\n",
    "* Qué funciones están ya definidas y listas para usar\n",
    "* Cómo acceder a ellas\n",
    "\n",
    "La primera pregunta: cómo saber cuáles son los posibles módulos que ya están definidos, su nombre, y que funciones están disponibles tiene una respuesta muy general que es \"buscar\" (en internet). \n",
    "La primera respuesta que podemos (deberíamos) intentar es: la [documentación](https://docs.python.org/es/3/index.html), y en particular la [biblioteca standard](https://docs.python.org/es/3/library/index.html).\n",
    "\n",
    "La segunda cuestión: una vez que sabemos qué existe (y no necesitamos reinventar), cómo podemos usarlo:\n",
    "\n",
    "Para utilizar todas las funcionalidades que están definidas en un *modulo* debemos primero hacerle saber a nuestro programa que existen. Eso se hace *importando* el módulo con el simple comando `import modulo`, donde modulo es el nombre que queremos importar.\n",
    "\n",
    "Una vez importado, podemos utilizar constantes y funciones definidas en el módulo con la notación \"de punto\": `modulo.funcion()`."
   ]
  },
  {
   "cell_type": "markdown",
   "metadata": {},
   "source": [
    "### Ejemplos: Módulos math y cmath\n",
    "\n",
    "El módulo [math](https://docs.python.org/es/3/library/math.html) contiene funciones y utilidades para trabajar con números reales (enteros y punto flotante). Es parte de la biblioteca standard de Python por lo que no tenemos que instalar nada nuevo. Contiene todas las funciones más comunes (trigonométricas, exponenciales, logaritmos, etc) y algunas constantes importantes ($\\pi$, e, etc). En realidad es una interface para dar acceso a la biblioteca ``math`` en C.\n",
    "\n",
    "Veamos como utilizarlo:"
   ]
  },
  {
   "cell_type": "code",
   "execution_count": 38,
   "metadata": {
    "autoscroll": false,
    "ein.hycell": false,
    "ein.tags": "worksheet-0",
    "slideshow": {
     "slide_type": "-"
    }
   },
   "outputs": [],
   "source": [
    "import math"
   ]
  },
  {
   "cell_type": "markdown",
   "metadata": {},
   "source": [
    "Después de este comando, tenemos disponible todos los objetos definidos (por algún amable programador) en el módulo [math](https://docs.python.org/es/3/library/math.html)"
   ]
  },
  {
   "cell_type": "code",
   "execution_count": 35,
   "metadata": {},
   "outputs": [
    {
     "data": {
      "text/plain": [
       "3.141592653589793"
      ]
     },
     "execution_count": 35,
     "metadata": {},
     "output_type": "execute_result"
    }
   ],
   "source": [
    "# Veamos el valor de Pi:\n",
    "math.pi"
   ]
  },
  {
   "cell_type": "code",
   "execution_count": 36,
   "metadata": {
    "autoscroll": false,
    "ein.hycell": false,
    "ein.tags": "worksheet-0",
    "slideshow": {
     "slide_type": "-"
    }
   },
   "outputs": [],
   "source": [
    "# algunas constantes y funciones elementales\n",
    "raiz5pi = math.sqrt(5*math.pi)"
   ]
  },
  {
   "cell_type": "code",
   "execution_count": 37,
   "metadata": {},
   "outputs": [
    {
     "data": {
      "text/plain": [
       "3.963327297606011"
      ]
     },
     "execution_count": 37,
     "metadata": {},
     "output_type": "execute_result"
    }
   ],
   "source": [
    "raiz5pi"
   ]
  },
  {
   "cell_type": "markdown",
   "metadata": {},
   "source": [
    "Otras funciones disponibles son `floor` y `ceil`:"
   ]
  },
  {
   "cell_type": "code",
   "execution_count": 39,
   "metadata": {
    "autoscroll": false,
    "ein.hycell": false,
    "ein.tags": "worksheet-0",
    "slideshow": {
     "slide_type": "-"
    }
   },
   "outputs": [
    {
     "name": "stdout",
     "output_type": "stream",
     "text": [
      "3.963327297606011 3 4\n",
      "2.718281828459045 2 3\n"
     ]
    }
   ],
   "source": [
    "print (raiz5pi, math.floor(raiz5pi), math.ceil(raiz5pi))\n",
    "print (math.e, math.floor(math.e), math.ceil(math.e))"
   ]
  },
  {
   "cell_type": "markdown",
   "metadata": {
    "autoscroll": false,
    "ein.hycell": false,
    "ein.tags": "worksheet-0",
    "slideshow": {
     "slide_type": "-"
    }
   },
   "source": [
    "Como puede leerse en la documentación del módulo, se definen también funciones elementales:"
   ]
  },
  {
   "cell_type": "code",
   "execution_count": 40,
   "metadata": {
    "autoscroll": false,
    "ein.hycell": false,
    "ein.tags": "worksheet-0",
    "slideshow": {
     "slide_type": "-"
    }
   },
   "outputs": [
    {
     "name": "stdout",
     "output_type": "stream",
     "text": [
      "10.0 3.0\n",
      "5040 362880 3628800\n",
      "Combinatorio: C(6,2): 15.0\n"
     ]
    }
   ],
   "source": [
    "# algunas funciones elementales\n",
    "print (math.log(1024,2), math.log(27,3))\n",
    "print (math.factorial(7), math.factorial(9), math.factorial(10))\n",
    "print ('Combinatorio: C(6,2):',math.factorial(6)/(math.factorial(4)*math.factorial(2)))"
   ]
  },
  {
   "cell_type": "markdown",
   "metadata": {
    "ein.tags": "worksheet-0",
    "slideshow": {
     "slide_type": "-"
    }
   },
   "source": [
    "A veces, sólo necesitamos unas pocas funciones de un módulo. Entonces para abreviar la notación combiene importar sólo lo que vamos a usar, usando la notación:\n",
    "\n",
    "   `from xxx import yyy`"
   ]
  },
  {
   "cell_type": "code",
   "execution_count": 41,
   "metadata": {
    "autoscroll": false,
    "ein.hycell": false,
    "ein.tags": "worksheet-0",
    "slideshow": {
     "slide_type": "-"
    }
   },
   "outputs": [],
   "source": [
    "from math import sqrt, pi, log, floor"
   ]
  },
  {
   "cell_type": "code",
   "execution_count": 42,
   "metadata": {
    "autoscroll": false,
    "ein.hycell": false,
    "ein.tags": "worksheet-0",
    "slideshow": {
     "slide_type": "-"
    }
   },
   "outputs": [
    {
     "name": "stdout",
     "output_type": "stream",
     "text": [
      "10.0\n",
      "3.963327297606011 3\n"
     ]
    }
   ],
   "source": [
    "raiz5pi = sqrt(5*pi)\n",
    "print (log(1024, 2))\n",
    "print (raiz5pi, floor(raiz5pi))"
   ]
  },
  {
   "cell_type": "markdown",
   "metadata": {
    "ein.tags": "worksheet-0",
    "slideshow": {
     "slide_type": "-"
    }
   },
   "source": [
    "-----\n",
    "\n",
    "**Nota:** Para importar todas las definiciones de un módulo pueden encontrar la (perfectamente válida) notación:\n",
    "\n",
    "  `from xxx import *`\n",
    "\n",
    "donde el asterisco indica \"todo\".\n",
    "Este uso no está recomendado porque varios módulos pueden usar los mismos nombres y no sabríamos cuál estamos usando. También puede traer inconvenientes si después queremos reusar el código que estamos escribiendo.\n",
    "\n",
    "------"
   ]
  },
  {
   "cell_type": "markdown",
   "metadata": {},
   "source": [
    "Otra opción es utilizar un \"alias\" para el módulo. Esto permite mantener información del origen de los objetos sin tener que escribir el nombre completo"
   ]
  },
  {
   "cell_type": "code",
   "execution_count": 43,
   "metadata": {
    "autoscroll": false,
    "ein.hycell": false,
    "ein.tags": "worksheet-0",
    "slideshow": {
     "slide_type": "-"
    }
   },
   "outputs": [
    {
     "data": {
      "text/plain": [
       "1.7888543819998317"
      ]
     },
     "execution_count": 43,
     "metadata": {},
     "output_type": "execute_result"
    }
   ],
   "source": [
    "import math as m\n",
    "m.sqrt(3.2)"
   ]
  },
  {
   "cell_type": "markdown",
   "metadata": {},
   "source": [
    "El módulo `math` contiene funciones para trabajar con números reales"
   ]
  },
  {
   "cell_type": "code",
   "execution_count": 45,
   "metadata": {
    "autoscroll": false,
    "ein.hycell": false,
    "ein.tags": "worksheet-0",
    "slideshow": {
     "slide_type": "-"
    }
   },
   "outputs": [
    {
     "ename": "SyntaxError",
     "evalue": "unexpected EOF while parsing (<ipython-input-45-dcf65d789be2>, line 3)",
     "output_type": "error",
     "traceback": [
      "\u001b[0;36m  File \u001b[0;32m\"<ipython-input-45-dcf65d789be2>\"\u001b[0;36m, line \u001b[0;32m3\u001b[0m\n\u001b[0;31m    math.sqrt(-1)\u001b[0m\n\u001b[0m                 ^\u001b[0m\n\u001b[0;31mSyntaxError\u001b[0m\u001b[0;31m:\u001b[0m unexpected EOF while parsing\n"
     ]
    }
   ],
   "source": [
    "import math\n",
    "try:\n",
    "    math.sqrt(-1)"
   ]
  },
  {
   "cell_type": "markdown",
   "metadata": {
    "ein.tags": "worksheet-0",
    "slideshow": {
     "slide_type": "-"
    }
   },
   "source": [
    "y falla con números complejos, para ello existe el módulo [cmath](https://docs.python.org/es/3/library/cmath.html)"
   ]
  },
  {
   "cell_type": "code",
   "execution_count": 46,
   "metadata": {
    "autoscroll": false,
    "ein.hycell": false,
    "ein.tags": "worksheet-0",
    "slideshow": {
     "slide_type": "-"
    }
   },
   "outputs": [],
   "source": [
    "import cmath as c"
   ]
  },
  {
   "cell_type": "markdown",
   "metadata": {},
   "source": [
    "Ahora tenemos a nuestra disposición todas las utilidades definidas en el módulo:"
   ]
  },
  {
   "cell_type": "code",
   "execution_count": 48,
   "metadata": {
    "autoscroll": false,
    "ein.hycell": false,
    "ein.tags": "worksheet-0",
    "slideshow": {
     "slide_type": "-"
    }
   },
   "outputs": [
    {
     "name": "stdout",
     "output_type": "stream",
     "text": [
      "Usando cmath (-1)^0.5:  1j\n"
     ]
    }
   ],
   "source": [
    "print('Usando cmath (-1)^0.5: ', c.sqrt(-1))"
   ]
  },
  {
   "cell_type": "code",
   "execution_count": 49,
   "metadata": {
    "autoscroll": false,
    "ein.hycell": false,
    "ein.tags": "worksheet-0",
    "slideshow": {
     "slide_type": "-"
    }
   },
   "outputs": [
    {
     "name": "stdout",
     "output_type": "stream",
     "text": [
      "(1.8810978455418161-3.1409532491755083j)\n"
     ]
    }
   ],
   "source": [
    "print(c.cos(c.pi/3 + 2j))"
   ]
  },
  {
   "cell_type": "markdown",
   "metadata": {
    "ein.tags": "worksheet-0",
    "slideshow": {
     "slide_type": "-"
    }
   },
   "source": [
    "Si queremos calcular la fase (el ángulo que forma con el eje x) podemos usar la función phase"
   ]
  },
  {
   "cell_type": "code",
   "execution_count": 52,
   "metadata": {
    "autoscroll": false,
    "ein.hycell": false,
    "ein.tags": "worksheet-0",
    "slideshow": {
     "slide_type": "-"
    }
   },
   "outputs": [
    {
     "data": {
      "text/plain": [
       "0.7853981633974483"
      ]
     },
     "execution_count": 52,
     "metadata": {},
     "output_type": "execute_result"
    }
   ],
   "source": [
    "z = 1 + 1j\n",
    "c.phase(z)                  # Resultado en radianes"
   ]
  },
  {
   "cell_type": "code",
   "execution_count": 54,
   "metadata": {
    "autoscroll": false,
    "ein.hycell": false,
    "ein.tags": "worksheet-0",
    "slideshow": {
     "slide_type": "-"
    }
   },
   "outputs": [
    {
     "data": {
      "text/plain": [
       "45.0"
      ]
     },
     "execution_count": 54,
     "metadata": {},
     "output_type": "execute_result"
    }
   ],
   "source": [
    "math.degrees(c.phase(z))    # Resultado en grados"
   ]
  },
  {
   "cell_type": "markdown",
   "metadata": {
    "ein.tags": "worksheet-0",
    "slideshow": {
     "slide_type": "-"
    }
   },
   "source": [
    "## Disgresión: Objetos\n",
    "\n",
    "En python, cualquier elemento es un *objeto*. Todos los objetos tienen, al menos:\n",
    "\n",
    "-  un tipo,\n",
    "-  un valor,\n",
    "-  una identidad.\n",
    "\n",
    "Además, pueden tener *métodos*, es decir funciones asociadas que, habitualmente, actúan sobre el objeto que la posee. Veamos algunos ejemplos cotidianos:"
   ]
  },
  {
   "cell_type": "code",
   "execution_count": 55,
   "metadata": {
    "autoscroll": false,
    "ein.hycell": false,
    "ein.tags": "worksheet-0",
    "slideshow": {
     "slide_type": "-"
    }
   },
   "outputs": [
    {
     "name": "stdout",
     "output_type": "stream",
     "text": [
      "(1+1j) <class 'complex'>\n",
      "1.0\n",
      "1.0\n",
      "<built-in method conjugate of complex object at 0x7f2873f0bd50>\n",
      "(1-1j)\n"
     ]
    }
   ],
   "source": [
    "z = 1 + 1j\n",
    "print(z, type(z))\n",
    "print( z.real )\n",
    "print( z.imag )\n",
    "print( z.conjugate )\n",
    "print( z.conjugate() )"
   ]
  },
  {
   "cell_type": "markdown",
   "metadata": {
    "ein.tags": "worksheet-0",
    "slideshow": {
     "slide_type": "-"
    }
   },
   "source": [
    "Los números complejos tienen un valor (en este caso $1 + i$), pero además tienen más información (su parte real, imaginaria) y una función que nos da su conjugado.\n",
    "\n",
    "Los números enteros, más simples, también son objetos, con propiedades y métodos:"
   ]
  },
  {
   "cell_type": "code",
   "execution_count": 56,
   "metadata": {
    "autoscroll": false,
    "ein.hycell": false,
    "ein.tags": "worksheet-0",
    "slideshow": {
     "slide_type": "-"
    }
   },
   "outputs": [
    {
     "name": "stdout",
     "output_type": "stream",
     "text": [
      "<class 'int'>\n"
     ]
    },
    {
     "data": {
      "text/plain": [
       "2"
      ]
     },
     "execution_count": 56,
     "metadata": {},
     "output_type": "execute_result"
    }
   ],
   "source": [
    "a = 3                           # Números enteros\n",
    "print(type(a))\n",
    "a.bit_length()"
   ]
  },
  {
   "cell_type": "code",
   "execution_count": 57,
   "metadata": {
    "autoscroll": false,
    "ein.hycell": false,
    "ein.tags": "worksheet-0",
    "slideshow": {
     "slide_type": "-"
    }
   },
   "outputs": [
    {
     "name": "stdout",
     "output_type": "stream",
     "text": [
      "<class 'int'>\n"
     ]
    },
    {
     "data": {
      "text/plain": [
       "14"
      ]
     },
     "execution_count": 57,
     "metadata": {},
     "output_type": "execute_result"
    }
   ],
   "source": [
    "a = 12312\n",
    "print(type(a))\n",
    "a.bit_length()"
   ]
  },
  {
   "cell_type": "markdown",
   "metadata": {
    "ein.tags": "worksheet-0",
    "slideshow": {
     "slide_type": "-"
    }
   },
   "source": [
    "En estos casos, usamos el método `bit_length` de los enteros, que nos dice cuántos bits son necesarios para representar el número. "
   ]
  },
  {
   "cell_type": "markdown",
   "metadata": {},
   "source": [
    "## Ejercicios\n",
    "\n",
    "1. Para el número complejo $z= 1 + 0.5 i$\n",
    "    * Calcular $z^2, z^3, z^4, z^5.$\n",
    "    * Calcular los complejos conjugados de $z$, $z^2$ y $z^3$.\n",
    "    * Escribir $z$, $z^2$ y $z^3$ en coordenadas polares.\n",
    "   \n",
    "   (Recuerde que puede utilizar los módulos `math` y/o `cmath`) "
   ]
  },
  {
   "cell_type": "markdown",
   "metadata": {
    "ein.tags": "worksheet-0",
    "slideshow": {
     "slide_type": "-"
    }
   },
   "source": [
    "## Tipos compuestos\n",
    "\n",
    "En Python, además de los tipos simples (números y booleanos, entre ellos) existen tipos compuestos, que pueden contener más de un valor de algún tipo. Entre los tipos compuestos más importantes vamos a referirnos a:\n",
    "\n",
    "- **[Strings](https://docs.python.org/es/3/library/stdtypes.html#text-sequence-type-str)**  \n",
    "    Se pueden definir con comillas dobles ( \" ), comillas simples ( ' ), o tres comillas (simples o dobles). \n",
    "    Comillas (dobles) y comillas simples producen el mismo resultado. Sólo debe asegurarse que se utiliza el mismo tipo para abrir y para cerrar el *string*  \n",
    "    Ejemplo: `s = \"abc\"` (el elemento `s[0]` tiene el valor `\"a\"`).\n",
    "\n",
    "- **[Listas](https://docs.python.org/es/3/library/stdtypes.html#sequence-types-list-tuple-range)**  \n",
    "    Las listas son tipos que pueden contener más de un elemento de cualquier tipo. Los tipos de los elementos pueden ser diferentes. Las listas se definen separando los diferentes valores con comas, encerrados entre corchetes. Se puede referir a un elemento por su índice.  \n",
    "    Ejemplo: `L = [\"a\",1, 0.5 + 1j]` (el elemento `L[0]` es igual al *string* `\"a\"`).\n",
    "    \n",
    "- **[Tuplas](https://docs.python.org/es/3/library/stdtypes.html#sequence-types-list-tuple-range)**  \n",
    "    Las tuplas se definen de la misma manera que las listas pero con paréntesis en lugar de corchetes.\n",
    "    Ejemplo: `T = (\"a\",1, 0.5 + 1j).`\n",
    "\n",
    "- **[Diccionarios](https://docs.python.org/es/3/library/stdtypes.html#mapping-types-dict)**  \n",
    "    Los diccionarios son contenedores a cuyos elementos se los identifica con un nombre (*key*) en lugar de un índice. Se los puede definir dando los pares `key:value` entre llaves   \n",
    "    Ejemplo: `D = {'a': 1, 'b': 2, 1: 'hola', 2: 3.14}` (el elemento `D['a']` es igual al número 1).\n",
    "    \n",
    "- **[Numpy Arrays](https://numpy.org/doc/stable/user/absolute_beginners.html#what-is-an-array)**  \n",
    "    Los *arrays* de [Numpy](https://numpy.org/doc/stable/user/whatisnumpy.html) son vectores (multidimensionales) que están optimizados para cálculos. Sus elementos deben ser todos del mismo tipoy pueden accederse por índice en una misma similar que a los *strings*, *listas* y *tuples*  \n",
    "    Ejemplo: `A = numpy.array([1., 2., 3.])` (el elemento `A[0]` es igual al número 1)."
   ]
  },
  {
   "cell_type": "markdown",
   "metadata": {
    "ein.tags": "worksheet-0",
    "slideshow": {
     "slide_type": "-"
    }
   },
   "source": [
    "### Strings: Secuencias de caracteres\n",
    "\n",
    "Una cadena o *string* es una **secuencia** de caracteres (letras, \"números\", símbolos). \n",
    "\n",
    "Se pueden definir con comillas, comillas simples, o tres comillas (simples o dobles). \n",
    "Comillas (normales) y comillas simples producen el mismo resultado. Sólo debe asegurarse que se utiliza el mismo tipo para abrir y para cerrar el *string*"
   ]
  },
  {
   "cell_type": "code",
   "execution_count": 58,
   "metadata": {
    "autoscroll": false,
    "ein.hycell": false,
    "ein.tags": "worksheet-0",
    "slideshow": {
     "slide_type": "-"
    }
   },
   "outputs": [],
   "source": [
    "saludo = 'Hola Mundo'\n",
    "otro= \"that's all\"\n",
    "dijo = 'Él dijo: \"hola\" y yo no dije nada'"
   ]
  },
  {
   "cell_type": "code",
   "execution_count": 59,
   "metadata": {},
   "outputs": [
    {
     "name": "stdout",
     "output_type": "stream",
     "text": [
      "Hola Mundo\n"
     ]
    }
   ],
   "source": [
    "print(saludo)"
   ]
  },
  {
   "cell_type": "code",
   "execution_count": 60,
   "metadata": {},
   "outputs": [
    {
     "name": "stdout",
     "output_type": "stream",
     "text": [
      "that's all\n"
     ]
    }
   ],
   "source": [
    "print(otro)"
   ]
  },
  {
   "cell_type": "code",
   "execution_count": 61,
   "metadata": {},
   "outputs": [
    {
     "name": "stdout",
     "output_type": "stream",
     "text": [
      "Él dijo: \"hola\" y yo no dije nada\n"
     ]
    }
   ],
   "source": [
    "print(dijo)"
   ]
  },
  {
   "cell_type": "markdown",
   "metadata": {},
   "source": [
    "----\n",
    "**Nota:** Python trabaja con una codificación (*UTF-8*) por lo que reconoce nativamente un amplio rango de caracteres "
   ]
  },
  {
   "cell_type": "code",
   "execution_count": 63,
   "metadata": {
    "autoscroll": false,
    "ein.hycell": false,
    "ein.tags": "worksheet-0",
    "slideshow": {
     "slide_type": "-"
    }
   },
   "outputs": [
    {
     "name": "stdout",
     "output_type": "stream",
     "text": [
      "tipo de label:  <class 'str'>\n",
      "Resultados corresponden a: σ = λ T/ µ + π · δξ  (en m²)\n"
     ]
    }
   ],
   "source": [
    "label = \"σ = λ T/ µ + π · δξ\"\n",
    "print('tipo de label: ', type(label))\n",
    "print ('Resultados corresponden a:', label, ' (en m²)')"
   ]
  },
  {
   "cell_type": "markdown",
   "metadata": {},
   "source": [
    "----"
   ]
  },
  {
   "cell_type": "markdown",
   "metadata": {
    "ein.tags": "worksheet-0",
    "slideshow": {
     "slide_type": "-"
    }
   },
   "source": [
    "Tres comillas (simples o dobles) sirven para incluir una cadena de caracteres en forma textual, incluyendo saltos de líneas."
   ]
  },
  {
   "cell_type": "code",
   "execution_count": 64,
   "metadata": {
    "autoscroll": false,
    "ein.hycell": false,
    "ein.tags": "worksheet-0",
    "slideshow": {
     "slide_type": "-"
    }
   },
   "outputs": [],
   "source": [
    "Texto_largo = '''Aquí me pongo a cantar\n",
    "Al compás de la vigüela,\n",
    "Que el hombre que lo desvela\n",
    "Una pena estraordinaria\n",
    "Como la ave solitaria\n",
    "Con el cantar se consuela.'''"
   ]
  },
  {
   "cell_type": "code",
   "execution_count": 65,
   "metadata": {},
   "outputs": [
    {
     "name": "stdout",
     "output_type": "stream",
     "text": [
      "Aquí me pongo a cantar\n",
      "Al compás de la vigüela,\n",
      "Que el hombre que lo desvela\n",
      "Una pena estraordinaria\n",
      "Como la ave solitaria\n",
      "Con el cantar se consuela.\n"
     ]
    }
   ],
   "source": [
    "print(Texto_largo)"
   ]
  },
  {
   "cell_type": "markdown",
   "metadata": {
    "ein.tags": "worksheet-0",
    "slideshow": {
     "slide_type": "-"
    }
   },
   "source": [
    "#### Operaciones\n",
    "\n",
    "En **Python** ya hay definidas algunas operaciones como suma (composición o concatenación), producto por enteros (repetición)."
   ]
  },
  {
   "cell_type": "markdown",
   "metadata": {
    "ein.tags": "worksheet-0",
    "slideshow": {
     "slide_type": "-"
    }
   },
   "source": [
    "##### Suma de *strings*\n",
    "\n",
    "La suma entre dos cadenas de caracteres está definida y el resultado es una nueva cadena, conteniendo la concatenación de los dos sumandos"
   ]
  },
  {
   "cell_type": "code",
   "execution_count": 66,
   "metadata": {
    "autoscroll": false,
    "ein.hycell": false,
    "ein.tags": "worksheet-0",
    "slideshow": {
     "slide_type": "-"
    }
   },
   "outputs": [
    {
     "name": "stdout",
     "output_type": "stream",
     "text": [
      "Hola Mundo ----> [Él dijo: \"hola\" y yo no dije nada] <---- chau\n"
     ]
    }
   ],
   "source": [
    "s = saludo + \" ----> [\" + dijo + \"] <---- chau\"\n",
    "print(s)"
   ]
  },
  {
   "cell_type": "markdown",
   "metadata": {
    "ein.tags": "worksheet-0",
    "slideshow": {
     "slide_type": "-"
    }
   },
   "source": [
    "##### Multiplicación por un entero\n",
    "\n",
    "La multiplicación de un número entero `n` por un string `s` está definida como \"n veces s\""
   ]
  },
  {
   "cell_type": "code",
   "execution_count": 70,
   "metadata": {
    "autoscroll": false,
    "ein.hycell": false,
    "ein.tags": "worksheet-0",
    "slideshow": {
     "slide_type": "-"
    }
   },
   "outputs": [
    {
     "name": "stdout",
     "output_type": "stream",
     "text": [
      "Hola Mundo\n",
      "Hola MundoHola Mundo\n",
      "++++++++++Hola Mundo,Hola Mundo,++++++++++\n",
      "\n",
      "Chau\n"
     ]
    }
   ],
   "source": [
    "print( saludo )\n",
    "print( 2*saludo )\n",
    "print( 10*\"+\" + 2* ( saludo + \",\" ) + 10*\"+\" + 2*\"\\n\" + \"Chau\" )"
   ]
  },
  {
   "cell_type": "markdown",
   "metadata": {},
   "source": [
    "Notar que (obviamente) hay una diferencia entre un número y un string cuyo valor podemos interpretar como el número. Acá, la variable `a` es un *string* y `b` en un número entero "
   ]
  },
  {
   "cell_type": "code",
   "execution_count": 71,
   "metadata": {
    "autoscroll": false,
    "ein.hycell": false,
    "ein.tags": "worksheet-0",
    "slideshow": {
     "slide_type": "-"
    }
   },
   "outputs": [
    {
     "name": "stdout",
     "output_type": "stream",
     "text": [
      "1 <class 'str'>\n",
      "1 <class 'int'>\n"
     ]
    }
   ],
   "source": [
    "a = '1'\n",
    "b = 1\n",
    "print(a, type(a))\n",
    "print(b, type(b))"
   ]
  },
  {
   "cell_type": "markdown",
   "metadata": {},
   "source": [
    "En consecuencia, las operaciones tienen distinto significado:"
   ]
  },
  {
   "cell_type": "code",
   "execution_count": 72,
   "metadata": {
    "autoscroll": false,
    "ein.hycell": false,
    "ein.tags": "worksheet-0",
    "slideshow": {
     "slide_type": "-"
    }
   },
   "outputs": [
    {
     "name": "stdout",
     "output_type": "stream",
     "text": [
      "11\n",
      "111\n",
      "111\n"
     ]
    }
   ],
   "source": [
    "print ( a + a )\n",
    "print ( 3*a )\n",
    "print ( a*3 )"
   ]
  },
  {
   "cell_type": "code",
   "execution_count": 73,
   "metadata": {
    "autoscroll": false,
    "ein.hycell": false,
    "ein.tags": "worksheet-0",
    "slideshow": {
     "slide_type": "-"
    }
   },
   "outputs": [
    {
     "name": "stdout",
     "output_type": "stream",
     "text": [
      "2\n",
      "3\n",
      "3\n"
     ]
    }
   ],
   "source": [
    "print ( b + b )\n",
    "print ( 3*b )\n",
    "print ( b*3 )"
   ]
  },
  {
   "cell_type": "markdown",
   "metadata": {
    "ein.tags": "worksheet-0",
    "slideshow": {
     "slide_type": "-"
    }
   },
   "source": [
    "También podemos calcular la longitud de un *string* con la función `len()`"
   ]
  },
  {
   "cell_type": "code",
   "execution_count": 74,
   "metadata": {
    "autoscroll": false,
    "ein.hycell": false,
    "ein.tags": "worksheet-0",
    "slideshow": {
     "slide_type": "-"
    }
   },
   "outputs": [
    {
     "data": {
      "text/plain": [
       "10"
      ]
     },
     "execution_count": 74,
     "metadata": {},
     "output_type": "execute_result"
    }
   ],
   "source": [
    "len(saludo)"
   ]
  },
  {
   "cell_type": "markdown",
   "metadata": {
    "ein.tags": "worksheet-0",
    "slideshow": {
     "slide_type": "-"
    }
   },
   "source": [
    "Utilizando esta función podemos hacer un centrado de texto \"manual\""
   ]
  },
  {
   "cell_type": "code",
   "execution_count": 75,
   "metadata": {
    "autoscroll": false,
    "ein.hycell": false,
    "ein.tags": "worksheet-0",
    "slideshow": {
     "slide_type": "-"
    }
   },
   "outputs": [
    {
     "name": "stdout",
     "output_type": "stream",
     "text": [
      "************************* Hola Mundo *************************\n"
     ]
    }
   ],
   "source": [
    "n = int((30-len(saludo)//2)) \n",
    "print (n*'*', saludo, n*'*')"
   ]
  },
  {
   "cell_type": "code",
   "execution_count": 76,
   "metadata": {},
   "outputs": [
    {
     "name": "stdout",
     "output_type": "stream",
     "text": [
      "<<<<<<<<<<<<<< Nuevo texto que queremos centrar >>>>>>>>>>>>>>\n"
     ]
    }
   ],
   "source": [
    "ntext = \"Nuevo texto que queremos centrar\"\n",
    "n = int((30-len(ntext)//2)) \n",
    "print (n*'<', ntext,n*'>')"
   ]
  },
  {
   "cell_type": "markdown",
   "metadata": {
    "ein.tags": "worksheet-0",
    "slideshow": {
     "slide_type": "-"
    }
   },
   "source": [
    "#### Indexado de *strings*\n",
    "\n",
    "Los *strings* poseen varias cualidades y funcionalidades.\n",
    "Por ejemplo:\n",
    "\n",
    "- Se puede iterar sobre ellos, o quedarse con una parte (slicing)\n",
    "- Tienen métodos (funciones que se aplican a su *dueño*)\n",
    "  \n",
    "Podemos referirnos a un caracter o una parte de una cadena de caracteres mediante su índice. Los índices en **Python** empiezan en 0."
   ]
  },
  {
   "cell_type": "code",
   "execution_count": 77,
   "metadata": {
    "autoscroll": false,
    "ein.hycell": false,
    "ein.tags": "worksheet-0",
    "slideshow": {
     "slide_type": "-"
    }
   },
   "outputs": [
    {
     "name": "stdout",
     "output_type": "stream",
     "text": [
      "Primer caracter  : 0\n",
      "Segundo caracter : 1\n",
      "El último caracter : 9\n",
      "El anteúltimo caracter : 8\n"
     ]
    }
   ],
   "source": [
    "s = \"0123456789\"\n",
    "print ('Primer caracter  :', s[0])\n",
    "print (\"Segundo caracter :\", s[1])\n",
    "print (\"El último caracter :\", s[-1])\n",
    "print (\"El anteúltimo caracter :\", s[-2])"
   ]
  },
  {
   "cell_type": "markdown",
   "metadata": {},
   "source": [
    "También podemos elegir un subconjunto de caracteres:"
   ]
  },
  {
   "cell_type": "code",
   "execution_count": 83,
   "metadata": {
    "autoscroll": false,
    "ein.hycell": false,
    "ein.tags": "worksheet-0",
    "slideshow": {
     "slide_type": "-"
    }
   },
   "outputs": [
    {
     "name": "stdout",
     "output_type": "stream",
     "text": [
      "Los tres primeros:           012\n",
      "Todos a partir del tercero:  3456789\n",
      "Los últimos dos:             89\n",
      "Todos menos los últimos dos: 01234567\n"
     ]
    }
   ],
   "source": [
    "print ('Los tres primeros:          ', s[:3])\n",
    "print ('Todos a partir del tercero: ', s[3:])\n",
    "print ('Los últimos dos:            ', s[-2:])\n",
    "print ('Todos menos los últimos dos:', s[:-2])"
   ]
  },
  {
   "cell_type": "markdown",
   "metadata": {},
   "source": [
    "Estas \"subcadenas\" son cadenas de caracteres, y por lo tanto pueden utilizarse de la misma manera que cualquier otra cadena:  "
   ]
  },
  {
   "cell_type": "code",
   "execution_count": 84,
   "metadata": {
    "autoscroll": false,
    "ein.hycell": false,
    "ein.tags": "worksheet-0",
    "slideshow": {
     "slide_type": "-"
    }
   },
   "outputs": [
    {
     "name": "stdout",
     "output_type": "stream",
     "text": [
      "01289\n"
     ]
    }
   ],
   "source": [
    "print (s[:3] + s[-2:])"
   ]
  },
  {
   "cell_type": "markdown",
   "metadata": {
    "ein.tags": "worksheet-0",
    "slideshow": {
     "slide_type": "-"
    }
   },
   "source": [
    "La selección de elementos y subcadenas de una cadena `s` tiene la forma `s[i:f:p]` donde\n",
    "`i, f, p` son enteros. La notación se refiere a la subcadena empezando en el índice `i`, hasta el índice `f` recorriendo con paso `p`. Casos particulares de esta notación son:\n",
    "\n",
    "* Un índice simple. Por ejemplo `s[3]` se refiere al tercer elemento\n",
    "* Un índice negativo se cuenta desde el final, empezando desde `-1`\n",
    "* Si el paso `p` no está presente el valor por defecto es 1. Ejemplo: `s[2:4] = s[2:4:1]`\n",
    "* Si se omite el primer índice, el valor asumido es 0. Ejemplo: `s[:2:1] = s[0:2:1]`\n",
    "* Si se omite el segundo índice, el valor asumido es -1. Ejemplo: `s[1::1] = s[1:-1:1]`\n",
    "* Notar que puede omitirse más de un índice. Ejemplo: `s[::2] = s[0:-1:2]`"
   ]
  },
  {
   "cell_type": "code",
   "execution_count": 87,
   "metadata": {
    "autoscroll": false,
    "ein.hycell": false,
    "ein.tags": "worksheet-0",
    "slideshow": {
     "slide_type": "-"
    }
   },
   "outputs": [
    {
     "name": "stdout",
     "output_type": "stream",
     "text": [
      "23\n",
      "01\n",
      "9876543210\n"
     ]
    }
   ],
   "source": [
    "print (s[2:4])\n",
    "print (s[:2:1])\n",
    "print (s[::-1])\n",
    "s1 = s[:1:-3]"
   ]
  },
  {
   "cell_type": "code",
   "execution_count": 88,
   "metadata": {},
   "outputs": [
    {
     "data": {
      "text/plain": [
       "'963'"
      ]
     },
     "execution_count": 88,
     "metadata": {},
     "output_type": "execute_result"
    }
   ],
   "source": [
    "s1"
   ]
  },
  {
   "cell_type": "markdown",
   "metadata": {},
   "source": [
    "#### Formato de *strings*\n",
    "\n",
    "Existen varias maneras de aplicar formato a una cadena de caracteres. Vamos a ver dos opciones:\n",
    "- Uso del método `format`\n",
    "- Uso de \"f-strings\""
   ]
  },
  {
   "cell_type": "code",
   "execution_count": 90,
   "metadata": {},
   "outputs": [],
   "source": [
    "from math import pi\n",
    "s1 = \"El valor de π es {}\""
   ]
  },
  {
   "cell_type": "code",
   "execution_count": 91,
   "metadata": {},
   "outputs": [
    {
     "data": {
      "text/plain": [
       "'El valor de π es {}'"
      ]
     },
     "execution_count": 91,
     "metadata": {},
     "output_type": "execute_result"
    }
   ],
   "source": [
    "s1"
   ]
  },
  {
   "cell_type": "code",
   "execution_count": 92,
   "metadata": {},
   "outputs": [],
   "source": [
    "s1 = \"El valor de π es {}\".format(pi)"
   ]
  },
  {
   "cell_type": "code",
   "execution_count": 93,
   "metadata": {},
   "outputs": [
    {
     "data": {
      "text/plain": [
       "'El valor de π es 3.141592653589793'"
      ]
     },
     "execution_count": 93,
     "metadata": {},
     "output_type": "execute_result"
    }
   ],
   "source": [
    "s1"
   ]
  },
  {
   "cell_type": "code",
   "execution_count": 94,
   "metadata": {},
   "outputs": [],
   "source": [
    "h = 7    # Hora\n",
    "T = 5.2  # Temperatura en grados\n",
    "s2 = \"La temperatura a las {} horas era {} grados\".format(h, T)"
   ]
  },
  {
   "cell_type": "code",
   "execution_count": 95,
   "metadata": {},
   "outputs": [
    {
     "name": "stdout",
     "output_type": "stream",
     "text": [
      "La temperatura a las 7 horas era 5.2 grados\n"
     ]
    }
   ],
   "source": [
    "print(s2)"
   ]
  },
  {
   "cell_type": "markdown",
   "metadata": {},
   "source": [
    "Aquí definimos un *string* llamado `s1`, donde utilizamos el valor de la variable pi (definida en el módulo math) para completar el valor."
   ]
  },
  {
   "cell_type": "code",
   "execution_count": 96,
   "metadata": {},
   "outputs": [
    {
     "name": "stdout",
     "output_type": "stream",
     "text": [
      "El valor de π es 3.141592653589793\n"
     ]
    }
   ],
   "source": [
    "print(s1)"
   ]
  },
  {
   "cell_type": "markdown",
   "metadata": {},
   "source": [
    "En su versión más simple la función `format` reemplaza el lugar entre llaves por el valor dado, en este caso un número.\n",
    "Esta función permite más de un argumento, y reemplaza operaciones por su resultado, como en el siguiente ejemplo:"
   ]
  },
  {
   "cell_type": "code",
   "execution_count": 97,
   "metadata": {},
   "outputs": [
    {
     "name": "stdout",
     "output_type": "stream",
     "text": [
      "El valor de π es 3.141592653589793 y su doble es 6.283185307179586\n"
     ]
    }
   ],
   "source": [
    "s2 = \"El valor de π es {} y su doble es {}\".format(pi, 2*pi)\n",
    "print(s2)"
   ]
  },
  {
   "cell_type": "markdown",
   "metadata": {},
   "source": [
    "El mismo efecto se puede obtener utilizando interpolación literal (\"f-strings\")"
   ]
  },
  {
   "cell_type": "code",
   "execution_count": 98,
   "metadata": {},
   "outputs": [],
   "source": [
    "s1 = f\"El valor de π es {pi}\"\n",
    "s2 = f\"El valor de π es {pi} y su doble es {2*pi}\""
   ]
  },
  {
   "cell_type": "code",
   "execution_count": 99,
   "metadata": {},
   "outputs": [
    {
     "name": "stdout",
     "output_type": "stream",
     "text": [
      "El valor de π es 3.141592653589793\n",
      "El valor de π es 3.141592653589793 y su doble es 6.283185307179586\n"
     ]
    }
   ],
   "source": [
    "print(s1)\n",
    "print(s2)"
   ]
  },
  {
   "cell_type": "markdown",
   "metadata": {},
   "source": [
    "Notar que no es necesario definir una variable previamente para imprimir un string. Los ejemplos anteriores pueden escribirse:"
   ]
  },
  {
   "cell_type": "code",
   "execution_count": null,
   "metadata": {},
   "outputs": [],
   "source": [
    "print( f\"El valor de π es {pi} y su doble es {2*pi}\" )\n",
    "print( \"El valor de π es {} y su doble es {}\".format(pi, 2*pi) )"
   ]
  },
  {
   "cell_type": "markdown",
   "metadata": {},
   "source": [
    "Para controlar el formato de los strings existe una notación específica que se puede indicar dentro de las llaves tanto para el [método format](https://docs.python.org/es/3/library/string.html#formatstrings) como para los [\"f-strings\"](https://docs.python.org/es/3/reference/lexical_analysis.html#f-strings). En su versión más simple se agregan \":\" (dos puntos) seguidos del formato deseado. Por ejemplo para imprimir con sólo cuatro decimales podemos escribir:"
   ]
  },
  {
   "cell_type": "code",
   "execution_count": 101,
   "metadata": {},
   "outputs": [
    {
     "name": "stdout",
     "output_type": "stream",
     "text": [
      "El valor de π con cuatro decimales es 3.1416\n",
      "El valor de π con cuatro decimales es 3.1416\n"
     ]
    }
   ],
   "source": [
    "print(\"El valor de π con cuatro decimales es {:.4f}\".format(pi))\n",
    "print(f\"El valor de π con cuatro decimales es {pi:.4f}\")"
   ]
  },
  {
   "cell_type": "markdown",
   "metadata": {
    "ein.tags": "worksheet-0",
    "slideshow": {
     "slide_type": "-"
    }
   },
   "source": [
    "#### Métodos de Strings\n",
    "\n",
    "Métodos son \"funciones\" que actúan sobre el mismo objeto y son parte de su definición. \n",
    "\n",
    "Por ejemplo, cuando uno define un *string*, ya está en la definición incluida la información sobre como realizar algunas operaciones.  \n",
    "\n",
    "Veamos algunos de los métodos definidos sobre *strings*:"
   ]
  },
  {
   "cell_type": "code",
   "execution_count": 102,
   "metadata": {
    "autoscroll": false,
    "ein.hycell": false,
    "ein.tags": "worksheet-0",
    "slideshow": {
     "slide_type": "-"
    }
   },
   "outputs": [
    {
     "name": "stdout",
     "output_type": "stream",
     "text": [
      "La mar estaba serena!\n"
     ]
    }
   ],
   "source": [
    "a = \"La mar estaba serena!\"\n",
    "print(a)"
   ]
  },
  {
   "cell_type": "markdown",
   "metadata": {
    "ein.tags": "worksheet-0",
    "slideshow": {
     "slide_type": "-"
    }
   },
   "source": [
    "En python existe un método `replace()` que hace que sea muy fácil reemplazar una subcadena por otra:"
   ]
  },
  {
   "cell_type": "code",
   "execution_count": 103,
   "metadata": {
    "autoscroll": false,
    "ein.hycell": false,
    "ein.tags": "worksheet-0",
    "slideshow": {
     "slide_type": "-"
    }
   },
   "outputs": [
    {
     "name": "stdout",
     "output_type": "stream",
     "text": [
      "La mar astaba sarana!\n"
     ]
    }
   ],
   "source": [
    "b = a.replace('e','a')\n",
    "print(b)"
   ]
  },
  {
   "cell_type": "markdown",
   "metadata": {
    "ein.tags": "worksheet-0",
    "slideshow": {
     "slide_type": "-"
    }
   },
   "source": [
    "Separar las palabras:"
   ]
  },
  {
   "cell_type": "code",
   "execution_count": 104,
   "metadata": {
    "autoscroll": false,
    "ein.hycell": false,
    "ein.tags": "worksheet-0",
    "slideshow": {
     "slide_type": "-"
    }
   },
   "outputs": [
    {
     "data": {
      "text/plain": [
       "['La', 'mar', 'astaba', 'sarana!']"
      ]
     },
     "execution_count": 104,
     "metadata": {},
     "output_type": "execute_result"
    }
   ],
   "source": [
    "b.split()"
   ]
  },
  {
   "cell_type": "code",
   "execution_count": 105,
   "metadata": {
    "autoscroll": false,
    "ein.hycell": false,
    "ein.tags": "worksheet-0",
    "slideshow": {
     "slide_type": "-"
    }
   },
   "outputs": [
    {
     "data": {
      "text/plain": [
       "['L', ' m', 'r ', 'st', 'b', ' s', 'r', 'n', '!']"
      ]
     },
     "execution_count": 105,
     "metadata": {},
     "output_type": "execute_result"
    }
   ],
   "source": [
    "b.split('a')"
   ]
  },
  {
   "cell_type": "markdown",
   "metadata": {
    "ein.tags": "worksheet-0",
    "slideshow": {
     "slide_type": "-"
    }
   },
   "source": [
    "Estos son métodos que tienen definidos **todos** los *strings*.\n",
    "\n",
    "Un método es una función que está definida junto con el objeto. En este caso el string. Hay más información sobre los métodos de las cadenas de caracteres en: [String Methods](https://docs.python.org/3/library/stdtypes.html#string-methods \"String Methods en la documentación oficial de Python\")\n",
    "\n",
    " Veamos algunos ejemplos más:"
   ]
  },
  {
   "cell_type": "code",
   "execution_count": 106,
   "metadata": {
    "autoscroll": false,
    "ein.hycell": false,
    "ein.tags": "worksheet-0",
    "slideshow": {
     "slide_type": "-"
    }
   },
   "outputs": [],
   "source": [
    "# Definimos dos strings\n",
    "a = 'Hola Mundo!'\n",
    "b = \"Somos los colectiveros que cumplimos nuestro deber!\""
   ]
  },
  {
   "cell_type": "markdown",
   "metadata": {
    "ein.tags": "worksheet-0",
    "slideshow": {
     "slide_type": "-"
    }
   },
   "source": [
    "Buscar y reemplazar cosas en un string:"
   ]
  },
  {
   "cell_type": "code",
   "execution_count": 107,
   "metadata": {
    "autoscroll": false,
    "ein.hycell": false,
    "ein.tags": "worksheet-0",
    "slideshow": {
     "slide_type": "-"
    }
   },
   "outputs": [
    {
     "data": {
      "text/plain": [
       "12"
      ]
     },
     "execution_count": 107,
     "metadata": {},
     "output_type": "execute_result"
    }
   ],
   "source": [
    "# find nos da el índice del lugar en el string donde se encuentra el substring dado\n",
    "b.find('le')"
   ]
  },
  {
   "cell_type": "code",
   "execution_count": 108,
   "metadata": {
    "autoscroll": false,
    "ein.hycell": false,
    "ein.tags": "worksheet-0",
    "slideshow": {
     "slide_type": "-"
    }
   },
   "outputs": [
    {
     "name": "stdout",
     "output_type": "stream",
     "text": [
      "Somos los colectiveros que cumplimos nuestro deber!\n",
      "Somos los colectiveros y cumplimos nuestro deber!\n"
     ]
    }
   ],
   "source": [
    "print (b)\n",
    "print (b.replace('que','y')) # Reemplazamos un substring"
   ]
  },
  {
   "cell_type": "code",
   "execution_count": 110,
   "metadata": {},
   "outputs": [
    {
     "data": {
      "text/plain": [
       "'         Somos los colectiveros que cumplimos nuestro deber!          '"
      ]
     },
     "execution_count": 110,
     "metadata": {},
     "output_type": "execute_result"
    }
   ],
   "source": [
    "b.center(70,' ')"
   ]
  },
  {
   "cell_type": "markdown",
   "metadata": {},
   "source": [
    "Para encontrar información sobre un `comando` en las *notebooks* podemos usar la notación `comando?`. Por ejemplo, si queremos saber como funciona el método `find` de los strings, usamos (recordar que definimos antes `b` como un *string*): "
   ]
  },
  {
   "cell_type": "code",
   "execution_count": 111,
   "metadata": {
    "autoscroll": false,
    "ein.hycell": false,
    "ein.tags": "worksheet-0",
    "slideshow": {
     "slide_type": "-"
    }
   },
   "outputs": [
    {
     "data": {
      "text/plain": [
       "\u001b[0;31mDocstring:\u001b[0m\n",
       "S.find(sub[, start[, end]]) -> int\n",
       "\n",
       "Return the lowest index in S where substring sub is found,\n",
       "such that sub is contained within S[start:end].  Optional\n",
       "arguments start and end are interpreted as in slice notation.\n",
       "\n",
       "Return -1 on failure.\n",
       "\u001b[0;31mType:\u001b[0m      builtin_function_or_method\n"
      ]
     },
     "metadata": {},
     "output_type": "display_data"
    }
   ],
   "source": [
    "b.find?"
   ]
  },
  {
   "cell_type": "markdown",
   "metadata": {
    "ein.tags": "worksheet-0",
    "slideshow": {
     "slide_type": "-"
    }
   },
   "source": [
    "### Ejercicios\n",
    "\n",
    "1.  Escribir un programa, utilizando formateo de strings, que escriba las frases:\n",
    "    - \"El conjugado de z=1+0.5j es 1-0.5j\"\n",
    "    - \"El conjugado de z=(1+0.5j)^2 es ...\" (con el valor correspondiente)\n",
    "    - \"El conjugado de z=(1+0.5j) $\\pi$ es ...\"  (con el valor correspondiente sólo hasta el tercer decimal incluido)"
   ]
  },
  {
   "cell_type": "code",
   "execution_count": 115,
   "metadata": {},
   "outputs": [
    {
     "name": "stdout",
     "output_type": "stream",
     "text": [
      "El conjugado de z = (1+0.5j)π es 3.142-1.571j\n"
     ]
    }
   ],
   "source": [
    "from math import pi\n",
    "\n",
    "z = (1 + 0.5j)\n",
    "zpic = (z * pi).conjugate()\n",
    "print( f\"El conjugado de z = {z}π es {zpic:.3f}\" )"
   ]
  },
  {
   "cell_type": "markdown",
   "metadata": {
    "ein.tags": "worksheet-0",
    "slideshow": {
     "slide_type": "-"
    }
   },
   "source": [
    "### Conversión de tipos\n",
    "\n",
    "Como comentamos anteriormente, y se ve en los ejemplos anteriores, uno no define el tipo de variable *a-priori* sino que queda definido al asignársele un valor (por ejemplo `a=3` define a como una variable del tipo entero).\n",
    "\n",
    "Si bien **Python** hace la conversión de tipos de variables en algunos casos, **no hace magia**, no puede adivinar nuestra intención si no la explicitamos."
   ]
  },
  {
   "cell_type": "code",
   "execution_count": null,
   "metadata": {
    "autoscroll": false,
    "ein.hycell": false,
    "ein.tags": "worksheet-0",
    "slideshow": {
     "slide_type": "-"
    }
   },
   "outputs": [],
   "source": [
    "a = 3                           # a es entero\n",
    "b = 3.1                         # b es real\n",
    "c = 3 + 0j                      # c es complejo\n",
    "print (f\"a es de tipo {type(a)}\\nb es de tipo {type(b)}\\nc es de tipo {type(c)}\")\n",
    "print (f\"'a + b' es de tipo {type(a+b)} y 'a + c' es de tipo {type(a+c)}\")"
   ]
  },
  {
   "cell_type": "code",
   "execution_count": null,
   "metadata": {
    "autoscroll": false,
    "ein.hycell": false,
    "ein.tags": "worksheet-0",
    "slideshow": {
     "slide_type": "-"
    }
   },
   "outputs": [],
   "source": [
    "try:\n",
    "    print (1+'1')"
   ]
  },
  {
   "cell_type": "markdown",
   "metadata": {
    "ein.tags": "worksheet-0",
    "slideshow": {
     "slide_type": "-"
    }
   },
   "source": [
    "Sin embargo, si le decimos explícitamente qué conversión queremos, todo funciona bien"
   ]
  },
  {
   "cell_type": "code",
   "execution_count": null,
   "metadata": {
    "autoscroll": false,
    "ein.hycell": false,
    "ein.tags": "worksheet-0",
    "slideshow": {
     "slide_type": "-"
    }
   },
   "outputs": [],
   "source": [
    "print (str(1) + '1')\n",
    "print (1 + int('1'))\n",
    "print (1 + float('1.e5'))\n",
    "print (\"x=\" + str(1.e5))\n",
    "print ('x=' + str(1.e-5))"
   ]
  },
  {
   "cell_type": "code",
   "execution_count": null,
   "metadata": {
    "autoscroll": false,
    "ein.hycell": false,
    "ein.tags": "worksheet-0",
    "slideshow": {
     "slide_type": "-"
    }
   },
   "outputs": [],
   "source": [
    "# a menos que nosotros **nos equivoquemos explícitamente**\n",
    "try:\n",
    "    print (1 + int('z'))"
   ]
  },
  {
   "cell_type": "markdown",
   "metadata": {
    "ein.tags": "worksheet-0",
    "slideshow": {
     "slide_type": "-"
    }
   },
   "source": [
    "### Listas\n",
    "\n",
    "Las listas son tipos compuestos, donde todos sus elementos pueden ser del mismo tipo o no. Algunas características de las listas son:\n",
    "\n",
    "* Los elementos no son necesariamente homogéneos en tipo\n",
    "* Elementos ordenados\n",
    "* Acceso mediante un índice\n",
    "* El valor de sus elementos pueden modificarse (esto no es cierto para *strings* ni *tuplas*)\n",
    "* Están definidas operaciones entre Listas, así como algunos métodos\n",
    "\n",
    "\n",
    "   - `x in L`             (¿x es un elemento de L?)\n",
    "   - `x not in L`         (¿x no es un elemento de L?)\n",
    "   - `L1 + L2`            (concatenar L1 y L2)\n",
    "   - `n*L1`               (n veces L1)\n",
    "   - `L1*n`               (n veces L1)\n",
    "   - `L[i]`               (Elemento i-ésimo)\n",
    "   - `L[i:j]`             (Elementos i a j)\n",
    "   - `L[i:j:k]`           (Elementos i a j, elegidos uno de cada k)\n",
    "   - `len(L)`             (longitud de L)\n",
    "   - `min(L)`             (Mínimo de L)\n",
    "   - `max(L)`             (Máximo de L)\n",
    "   - `L.index(x, [i])`    (Índice de x, iniciando en i)\n",
    "   - `L.count(x)`         (Número de veces que aparece x en L)\n",
    "   - `L.append(x)`        (Agrega el elemento x al final)\n",
    "\n",
    "Veamos algunos ejemplos:"
   ]
  },
  {
   "cell_type": "code",
   "execution_count": 1,
   "metadata": {
    "autoscroll": false,
    "ein.hycell": false,
    "ein.tags": "worksheet-0",
    "slideshow": {
     "slide_type": "-"
    }
   },
   "outputs": [],
   "source": [
    "cuadrados = [1, 9, 16, 25]"
   ]
  },
  {
   "cell_type": "markdown",
   "metadata": {
    "ein.tags": "worksheet-0",
    "slideshow": {
     "slide_type": "-"
    }
   },
   "source": [
    "En esta línea hemos declarado una variable llamada `cuadrados`, y le hemos asignado una lista de cuatro elementos. En algunos aspectos las listas son muy similares a los *strings*. Se pueden realizar muchas de las mismas operaciones en strings, listas y otros objetos sobre los que se pueden iterar (*iterables*). \n",
    "\n",
    "Las listas pueden accederse por posición y también pueden rebanarse (*slicing*)"
   ]
  },
  {
   "cell_type": "markdown",
   "metadata": {
    "ein.tags": "worksheet-0",
    "slideshow": {
     "slide_type": "-"
    }
   },
   "source": [
    "Los índices pueden ser positivos (empezando desde cero) o negativos empezando desde -1. \n",
    "\n",
    "\n",
    "| cuadrados:           | 1    | 9    | 16   | 25   |\n",
    "|----------------------|------|------|------|------|\n",
    "| índices:             | 0    | 1    | 2    | 3    |\n",
    "| índices negativos:   | -4   | -3   | -2   | -1   |"
   ]
  },
  {
   "cell_type": "markdown",
   "metadata": {
    "ein.tags": "worksheet-0",
    "slideshow": {
     "slide_type": "-"
    }
   },
   "source": [
    "#### Operaciones sobre listas\n",
    "\n",
    "Veamos algunas operaciones que se pueden realizar sobre listas. \n",
    "Por ejemplo, se puede fácilmente:\n",
    "\n",
    "  - concatenar dos listas,\n",
    "  - buscar un valor dado,\n",
    "  - agregar elementos,\n",
    "  - borrar elementos,\n",
    "  - calcular su longitud,\n",
    "  - invertirla\n",
    " \n",
    "Empecemos concatenando dos listas, usando el operador \"suma\""
   ]
  },
  {
   "cell_type": "code",
   "execution_count": 2,
   "metadata": {
    "autoscroll": false,
    "ein.hycell": false,
    "ein.tags": "worksheet-0",
    "slideshow": {
     "slide_type": "-"
    }
   },
   "outputs": [],
   "source": [
    "L = [0,1,2,3,4,5]"
   ]
  },
  {
   "cell_type": "code",
   "execution_count": 3,
   "metadata": {
    "autoscroll": false,
    "ein.hycell": false,
    "ein.tags": "worksheet-0",
    "slideshow": {
     "slide_type": "-"
    }
   },
   "outputs": [],
   "source": [
    "L1 = L+L"
   ]
  },
  {
   "cell_type": "code",
   "execution_count": 4,
   "metadata": {
    "autoscroll": false,
    "ein.hycell": false,
    "ein.tags": "worksheet-0",
    "slideshow": {
     "slide_type": "-"
    }
   },
   "outputs": [
    {
     "data": {
      "text/plain": [
       "[0, 1, 2, 3, 4, 5, 0, 1, 2, 3, 4, 5]"
      ]
     },
     "execution_count": 4,
     "metadata": {},
     "output_type": "execute_result"
    }
   ],
   "source": [
    "L1"
   ]
  },
  {
   "cell_type": "markdown",
   "metadata": {},
   "source": [
    "La multiplicación por un entero actúa igual que en el caso de *strings* "
   ]
  },
  {
   "cell_type": "code",
   "execution_count": 5,
   "metadata": {
    "autoscroll": false,
    "ein.hycell": false,
    "ein.tags": "worksheet-0",
    "slideshow": {
     "slide_type": "-"
    }
   },
   "outputs": [
    {
     "data": {
      "text/plain": [
       "True"
      ]
     },
     "execution_count": 5,
     "metadata": {},
     "output_type": "execute_result"
    }
   ],
   "source": [
    "2*L == L + L                     # Igualdad de cada uno de los elementos"
   ]
  },
  {
   "cell_type": "code",
   "execution_count": 6,
   "metadata": {
    "autoscroll": false,
    "ein.hycell": false,
    "ein.tags": "worksheet-0",
    "slideshow": {
     "slide_type": "-"
    }
   },
   "outputs": [
    {
     "data": {
      "text/plain": [
       "3"
      ]
     },
     "execution_count": 6,
     "metadata": {},
     "output_type": "execute_result"
    }
   ],
   "source": [
    "L1.index(3)                      # Índice del elemento de valor 3"
   ]
  },
  {
   "cell_type": "code",
   "execution_count": 7,
   "metadata": {
    "autoscroll": false,
    "ein.hycell": false,
    "ein.tags": "worksheet-0",
    "slideshow": {
     "slide_type": "-"
    }
   },
   "outputs": [
    {
     "data": {
      "text/plain": [
       "2"
      ]
     },
     "execution_count": 7,
     "metadata": {},
     "output_type": "execute_result"
    }
   ],
   "source": [
    "L1.count(3)                      # Cuenta las veces que aparece el valor \"3\""
   ]
  },
  {
   "cell_type": "markdown",
   "metadata": {
    "ein.tags": "worksheet-0",
    "slideshow": {
     "slide_type": "-"
    }
   },
   "source": [
    "Las listas tienen definidos métodos, que podemos ver con la ayuda incluida, por ejemplo haciendo `help(list)`"
   ]
  },
  {
   "cell_type": "markdown",
   "metadata": {
    "ein.tags": "worksheet-0",
    "slideshow": {
     "slide_type": "-"
    }
   },
   "source": [
    "Si queremos agregar un elemento al final utilizamos el método `append`:"
   ]
  },
  {
   "cell_type": "code",
   "execution_count": 8,
   "metadata": {
    "autoscroll": false,
    "ein.hycell": false,
    "ein.tags": "worksheet-0",
    "slideshow": {
     "slide_type": "-"
    }
   },
   "outputs": [
    {
     "name": "stdout",
     "output_type": "stream",
     "text": [
      "[0, 1, 2, 3, 4, 5]\n"
     ]
    }
   ],
   "source": [
    "print(L)"
   ]
  },
  {
   "cell_type": "code",
   "execution_count": 9,
   "metadata": {
    "autoscroll": false,
    "ein.hycell": false,
    "ein.tags": "worksheet-0",
    "slideshow": {
     "slide_type": "-"
    }
   },
   "outputs": [],
   "source": [
    "L.append(8)"
   ]
  },
  {
   "cell_type": "code",
   "execution_count": 10,
   "metadata": {
    "autoscroll": false,
    "ein.hycell": false,
    "ein.tags": "worksheet-0",
    "slideshow": {
     "slide_type": "-"
    }
   },
   "outputs": [
    {
     "name": "stdout",
     "output_type": "stream",
     "text": [
      "[0, 1, 2, 3, 4, 5, 8]\n"
     ]
    }
   ],
   "source": [
    "print(L)"
   ]
  },
  {
   "cell_type": "markdown",
   "metadata": {},
   "source": [
    "Notar que, como las listas pueden contener cualquier cosa (incluso otras listas), tratar de agregar una lista al final de otra con el método `append` puede dar resultados inesperados"
   ]
  },
  {
   "cell_type": "code",
   "execution_count": 11,
   "metadata": {
    "autoscroll": false,
    "ein.hycell": false,
    "ein.tags": "worksheet-0",
    "slideshow": {
     "slide_type": "-"
    }
   },
   "outputs": [
    {
     "name": "stdout",
     "output_type": "stream",
     "text": [
      "[0, 1, 2, 3, 4, 5, 8, [9, 8, 7]]\n"
     ]
    }
   ],
   "source": [
    "L.append([9, 8, 7])\n",
    "print(L)"
   ]
  },
  {
   "cell_type": "code",
   "execution_count": 12,
   "metadata": {},
   "outputs": [
    {
     "data": {
      "text/plain": [
       "[9, 8, 7]"
      ]
     },
     "execution_count": 12,
     "metadata": {},
     "output_type": "execute_result"
    }
   ],
   "source": [
    "L.pop(-1)  # pop() devuelve el elemento correspondiente y lo saca de la lista "
   ]
  },
  {
   "cell_type": "code",
   "execution_count": 13,
   "metadata": {},
   "outputs": [
    {
     "data": {
      "text/plain": [
       "[0, 1, 2, 3, 4, 5, 8]"
      ]
     },
     "execution_count": 13,
     "metadata": {},
     "output_type": "execute_result"
    }
   ],
   "source": [
    "L"
   ]
  },
  {
   "cell_type": "markdown",
   "metadata": {},
   "source": [
    "Si queremos agregar más de un elemento a una lista podemos usar `extend`"
   ]
  },
  {
   "cell_type": "code",
   "execution_count": 14,
   "metadata": {},
   "outputs": [
    {
     "name": "stdout",
     "output_type": "stream",
     "text": [
      "[0, 1, 2, 3, 4, 5, 8, 9, 8, 7]\n"
     ]
    }
   ],
   "source": [
    "L.extend([9,8,7])\n",
    "print(L)"
   ]
  },
  {
   "cell_type": "markdown",
   "metadata": {},
   "source": [
    "o sumar la nueva lista y asignarla a la misma variable"
   ]
  },
  {
   "cell_type": "code",
   "execution_count": 15,
   "metadata": {},
   "outputs": [
    {
     "name": "stdout",
     "output_type": "stream",
     "text": [
      "[0, 1, 2, 3, 4, 5, 8, 9, 8, 7, 3, 2, 1]\n"
     ]
    }
   ],
   "source": [
    "L += [3,2,1]         # equivalente a L = L + [3,2,1]\n",
    "print(L)"
   ]
  },
  {
   "cell_type": "markdown",
   "metadata": {
    "ein.tags": "worksheet-0",
    "slideshow": {
     "slide_type": "-"
    }
   },
   "source": [
    "Si queremos insertar un elemento en una posición que no es el final de la lista, usamos el método `insert()`. Por ejemplo para insertar el valor 6 en la primera posición:"
   ]
  },
  {
   "cell_type": "code",
   "execution_count": 16,
   "metadata": {
    "autoscroll": false,
    "ein.hycell": false,
    "ein.tags": "worksheet-0",
    "slideshow": {
     "slide_type": "-"
    }
   },
   "outputs": [
    {
     "name": "stdout",
     "output_type": "stream",
     "text": [
      "[0, 1, 2, 99, 3, 4, 5, 8, 9, 8, 7, 3, 2, 1]\n"
     ]
    }
   ],
   "source": [
    "L.insert(3,99)\n",
    "print(L)"
   ]
  },
  {
   "cell_type": "markdown",
   "metadata": {
    "ein.tags": "worksheet-0",
    "slideshow": {
     "slide_type": "-"
    }
   },
   "source": [
    "En las listas podemos sobreescribir uno o más elementos"
   ]
  },
  {
   "cell_type": "code",
   "execution_count": 17,
   "metadata": {
    "autoscroll": false,
    "ein.hycell": false,
    "ein.tags": "worksheet-0",
    "slideshow": {
     "slide_type": "-"
    }
   },
   "outputs": [
    {
     "name": "stdout",
     "output_type": "stream",
     "text": [
      "[0, 1, 2, 99, 3, 4, 5, 8, 9, 8, 7, 3, 2, 1]\n",
      "[-2, -3, -4, 99, 3, 4, 5, 8, 9, 8, 7, 3, 2, 1]\n"
     ]
    }
   ],
   "source": [
    "print(L)\n",
    "L[0:3] = [-2,-3,-4]\n",
    "print(L)"
   ]
  },
  {
   "cell_type": "code",
   "execution_count": 18,
   "metadata": {
    "autoscroll": false,
    "ein.hycell": false,
    "ein.tags": "worksheet-0",
    "slideshow": {
     "slide_type": "-"
    }
   },
   "outputs": [
    {
     "name": "stdout",
     "output_type": "stream",
     "text": [
      "[-9, -3, -4, 99, 3, 4, 5, 8, 9, 8, 7, 3, 0, 1]\n"
     ]
    }
   ],
   "source": [
    "L[0] = -9\n",
    "L[-2:]=[0,1]\n",
    "print(L)"
   ]
  },
  {
   "cell_type": "code",
   "execution_count": 19,
   "metadata": {
    "autoscroll": false,
    "ein.hycell": false,
    "ein.tags": "worksheet-0",
    "slideshow": {
     "slide_type": "-"
    }
   },
   "outputs": [
    {
     "name": "stdout",
     "output_type": "stream",
     "text": [
      "[-9, -3, -4, 99, 3, 4, 5, 8, 9, 8, 7, 3, 0, 1]\n",
      "[-9, -3, -4, 99, 4, 5, 8, 9, 8, 7, 3, 0, 1]\n"
     ]
    }
   ],
   "source": [
    "print(L)\n",
    "L.remove(3)                     # Remueve la primera ocurrencia de 3\n",
    "print(L)"
   ]
  },
  {
   "cell_type": "markdown",
   "metadata": {
    "ein.tags": "worksheet-0",
    "slideshow": {
     "slide_type": "-"
    }
   },
   "source": [
    "### Tuplas\n",
    "\n",
    "Las tuplas son objetos similares a las listas, sobre las que se puede iterar y seleccionar partes según su índice. La principal diferencia es que son inmutables mientras que las listas pueden modificarse.\n",
    "Los ejemplos anteriores del tipo `L[0] = -9` resulta en un error si lo intentamos con tuplas"
   ]
  },
  {
   "cell_type": "code",
   "execution_count": 20,
   "metadata": {
    "autoscroll": false,
    "ein.hycell": false,
    "ein.tags": "worksheet-0",
    "slideshow": {
     "slide_type": "-"
    }
   },
   "outputs": [
    {
     "name": "stdout",
     "output_type": "stream",
     "text": [
      "2 [3, 4, 5]\n",
      "2 (3, 4, 5)\n"
     ]
    }
   ],
   "source": [
    "L1 = [0,1,2,3,4,5] # Las listas se definen con corchetes\n",
    "T1 = (0,1,2,3,4,5) # Las tuplas se definen con paréntesis\n",
    "print(L1[2], L1[-3:])\n",
    "print(T1[2], T1[-3:])\n"
   ]
  },
  {
   "cell_type": "code",
   "execution_count": 21,
   "metadata": {
    "autoscroll": false,
    "ein.hycell": false,
    "ein.tags": "worksheet-0",
    "slideshow": {
     "slide_type": "-"
    }
   },
   "outputs": [],
   "source": [
    "L1[0] =- 1"
   ]
  },
  {
   "cell_type": "code",
   "execution_count": 22,
   "metadata": {
    "autoscroll": false,
    "ein.hycell": false,
    "ein.tags": "worksheet-0",
    "slideshow": {
     "slide_type": "-"
    }
   },
   "outputs": [
    {
     "ename": "SyntaxError",
     "evalue": "unexpected EOF while parsing (<ipython-input-22-2d25084c44c9>, line 2)",
     "output_type": "error",
     "traceback": [
      "\u001b[0;36m  File \u001b[0;32m\"<ipython-input-22-2d25084c44c9>\"\u001b[0;36m, line \u001b[0;32m2\u001b[0m\n\u001b[0;31m    T1[0] =- 1\u001b[0m\n\u001b[0m              ^\u001b[0m\n\u001b[0;31mSyntaxError\u001b[0m\u001b[0;31m:\u001b[0m unexpected EOF while parsing\n"
     ]
    }
   ],
   "source": [
    "try:\n",
    "    T1[0] =- 1"
   ]
  },
  {
   "cell_type": "markdown",
   "metadata": {
    "ein.tags": "worksheet-0",
    "slideshow": {
     "slide_type": "-"
    }
   },
   "source": [
    "Las tuplas se usan cuando uno quiere crear una \"variable\" que no va a ser modificada. Además códigos similares con tuplas pueden ser un poco más rápidos que si usan listas.\n",
    "\n",
    "Un uso común de las tuplas es el de asignación a múltiples variables"
   ]
  },
  {
   "cell_type": "code",
   "execution_count": 23,
   "metadata": {
    "autoscroll": false,
    "ein.hycell": false,
    "ein.tags": "worksheet-0",
    "slideshow": {
     "slide_type": "-"
    }
   },
   "outputs": [],
   "source": [
    "a, b, c = (1, 3, 5)"
   ]
  },
  {
   "cell_type": "code",
   "execution_count": 24,
   "metadata": {
    "autoscroll": false,
    "ein.hycell": false,
    "ein.tags": "worksheet-0",
    "slideshow": {
     "slide_type": "-"
    }
   },
   "outputs": [
    {
     "name": "stdout",
     "output_type": "stream",
     "text": [
      "1 3 5\n"
     ]
    }
   ],
   "source": [
    "print(a,b,c)"
   ]
  },
  {
   "cell_type": "code",
   "execution_count": 25,
   "metadata": {
    "autoscroll": false,
    "ein.hycell": false,
    "ein.tags": "worksheet-0",
    "slideshow": {
     "slide_type": "-"
    }
   },
   "outputs": [
    {
     "name": "stdout",
     "output_type": "stream",
     "text": [
      "4 5 6\n"
     ]
    }
   ],
   "source": [
    "# Los paréntesis son opcionales en este caso\n",
    "a, b, c = 4, 5, 6\n",
    "print(a,b,c)"
   ]
  },
  {
   "cell_type": "markdown",
   "metadata": {},
   "source": [
    "Un uso muy común es el de intercambiar el valor de dos variables"
   ]
  },
  {
   "cell_type": "code",
   "execution_count": 26,
   "metadata": {
    "autoscroll": false,
    "ein.hycell": false,
    "ein.tags": "worksheet-0",
    "slideshow": {
     "slide_type": "-"
    }
   },
   "outputs": [
    {
     "name": "stdout",
     "output_type": "stream",
     "text": [
      "4 5\n",
      "5 4\n"
     ]
    }
   ],
   "source": [
    "print(a,b)\n",
    "a, b = b, a                     # swap \n",
    "print(a,b)"
   ]
  },
  {
   "cell_type": "markdown",
   "metadata": {},
   "source": [
    "### Rangos\n",
    "\n",
    "Los objetos de tipo [range](https://docs.python.org/es/3/library/stdtypes.html#ranges) representan una secuencia inmutable de números y se usan habitualmente para ejecutar un bucle [for](https://docs.python.org/es/3/reference/compound_stmts.html#for) un número determinado de veces."
   ]
  },
  {
   "cell_type": "code",
   "execution_count": 27,
   "metadata": {},
   "outputs": [
    {
     "data": {
      "text/plain": [
       "range(0, 5)"
      ]
     },
     "execution_count": 27,
     "metadata": {},
     "output_type": "execute_result"
    }
   ],
   "source": [
    "range(5)"
   ]
  },
  {
   "cell_type": "markdown",
   "metadata": {},
   "source": [
    "Es un tipo que permite fácilmente iterar sobre un \"contador\". Veremos más adelante su uso. Notar que podemos crear una lista (o una tupla) a partir del tipo `range` "
   ]
  },
  {
   "cell_type": "code",
   "execution_count": 28,
   "metadata": {},
   "outputs": [
    {
     "data": {
      "text/plain": [
       "[0, 1, 2, 3, 4]"
      ]
     },
     "execution_count": 28,
     "metadata": {},
     "output_type": "execute_result"
    }
   ],
   "source": [
    "list(range(5))"
   ]
  },
  {
   "cell_type": "markdown",
   "metadata": {},
   "source": [
    "### Ejercicios\n",
    "\n",
    "1. Manejos de listas **utilizando indexado**:\n",
    "    - Cree la lista **N** de longitud 50, donde cada elemento es un número entero de 1 a 50 inclusive (Ayuda: vea la expresión ``range``).\n",
    "    - Invierta la lista.\n",
    "    - Extraiga una lista **N2** que contenga sólo los elementos pares de **N**. (Resultado `[2, 4, ..., 50]`)\n",
    "    - Cree una nueva lista (a partir de **N**) que contenga sólo los primeros cinco y los últimos cinco elementos impares de **N** (el resultado esperado es: `[1,3,5,7,9,41,43,45,47,49]`)\n"
   ]
  },
  {
   "cell_type": "markdown",
   "metadata": {
    "ein.tags": "worksheet-0",
    "slideshow": {
     "slide_type": "-"
    }
   },
   "source": [
    "### Diccionarios\n",
    "\n",
    "Los diccionarios son colecciones de objetos  *en principio heterogéneos* que no están ordenados y no se refieren por índice (como `L1[3]`) sino por una etiqueta o clave (**key**).\n",
    "Las claves pueden ser cualquier objeto inmutable (cadenas de caracteres, numeros, tuplas) y los valores pueden ser cualquier tipo de objeto. Las claves no se pueden repetir pero los valores sí."
   ]
  },
  {
   "cell_type": "code",
   "execution_count": 29,
   "metadata": {
    "autoscroll": false,
    "ein.hycell": false,
    "ein.tags": "worksheet-0",
    "slideshow": {
     "slide_type": "-"
    }
   },
   "outputs": [],
   "source": [
    "d0 = {'a': 123}                 # Un diccionario con un sólo elemento"
   ]
  },
  {
   "cell_type": "code",
   "execution_count": 30,
   "metadata": {
    "autoscroll": false,
    "ein.hycell": false,
    "ein.tags": "worksheet-0",
    "slideshow": {
     "slide_type": "-"
    }
   },
   "outputs": [
    {
     "data": {
      "text/plain": [
       "123"
      ]
     },
     "execution_count": 30,
     "metadata": {},
     "output_type": "execute_result"
    }
   ],
   "source": [
    "d0['a']"
   ]
  },
  {
   "cell_type": "markdown",
   "metadata": {},
   "source": [
    "Definimos dos diccionarios, con varios elementos"
   ]
  },
  {
   "cell_type": "code",
   "execution_count": 31,
   "metadata": {
    "autoscroll": false,
    "ein.hycell": false,
    "ein.tags": "worksheet-0",
    "slideshow": {
     "slide_type": "-"
    }
   },
   "outputs": [],
   "source": [
    "d1 = {'nombre':'Juan', \n",
    "      'apellido': 'García', \n",
    "      'edad': 10, \n",
    "      'dirección': ['Av Bustillo','9500'], \n",
    "      'cod':8400,  \n",
    "      'ciudad': \"Bariloche\"}\n",
    "d2 = {'nombre':'Pepe', \n",
    "      'apellido': 'García', \n",
    "      'edad': 109, \n",
    "      'dirección': ['Av Bustillo','9500'], \n",
    "      'cod':8400,\n",
    "      'ciudad': \"Bariloche\"}"
   ]
  },
  {
   "cell_type": "code",
   "execution_count": 32,
   "metadata": {},
   "outputs": [
    {
     "data": {
      "text/plain": [
       "6"
      ]
     },
     "execution_count": 32,
     "metadata": {},
     "output_type": "execute_result"
    }
   ],
   "source": [
    "len(d1)"
   ]
  },
  {
   "cell_type": "markdown",
   "metadata": {},
   "source": [
    "Vemos que estos diccionarios tienen algunos valores que son *strings*, otros son números enteros, y la dirección tiene como valor una lista."
   ]
  },
  {
   "cell_type": "markdown",
   "metadata": {},
   "source": [
    "De la misma manera, podemos crear una lista cuyos elementos son diccionarios:"
   ]
  },
  {
   "cell_type": "code",
   "execution_count": 33,
   "metadata": {
    "autoscroll": false,
    "ein.hycell": false,
    "ein.tags": "worksheet-0",
    "slideshow": {
     "slide_type": "-"
    }
   },
   "outputs": [
    {
     "data": {
      "text/plain": [
       "'Juan'"
      ]
     },
     "execution_count": 33,
     "metadata": {},
     "output_type": "execute_result"
    }
   ],
   "source": [
    "L1 = [d1, d2]\n",
    "L1[0]['nombre']"
   ]
  },
  {
   "cell_type": "markdown",
   "metadata": {},
   "source": [
    "Acá, hemos creado una lista de dos elementos, donde cada uno es un diccionario.\n",
    "Similarmente, podemos crear un diccionario donde cada elemento es a su vez un diccionario:"
   ]
  },
  {
   "cell_type": "code",
   "execution_count": 34,
   "metadata": {
    "autoscroll": false,
    "ein.hycell": false,
    "ein.tags": "worksheet-0",
    "slideshow": {
     "slide_type": "-"
    }
   },
   "outputs": [],
   "source": [
    "integrantes = {d1['nombre']: d1, d2['nombre']: d2}"
   ]
  },
  {
   "cell_type": "code",
   "execution_count": 35,
   "metadata": {},
   "outputs": [
    {
     "data": {
      "text/plain": [
       "{'nombre': 'Pepe',\n",
       " 'apellido': 'García',\n",
       " 'edad': 109,\n",
       " 'dirección': ['Av Bustillo', '9500'],\n",
       " 'cod': 8400,\n",
       " 'ciudad': 'Bariloche'}"
      ]
     },
     "execution_count": 35,
     "metadata": {},
     "output_type": "execute_result"
    }
   ],
   "source": [
    "integrantes['Pepe']"
   ]
  },
  {
   "cell_type": "code",
   "execution_count": 36,
   "metadata": {
    "autoscroll": false,
    "ein.hycell": false,
    "ein.tags": "worksheet-0",
    "slideshow": {
     "slide_type": "-"
    }
   },
   "outputs": [],
   "source": [
    "# Agregamos un nuevo elemento al diccionario (que es otro diccionario)\n",
    "d1['tel'] = {'cel':1213, 'fijo':23848}"
   ]
  },
  {
   "cell_type": "code",
   "execution_count": 37,
   "metadata": {
    "autoscroll": false,
    "ein.hycell": false,
    "ein.tags": "worksheet-0",
    "slideshow": {
     "slide_type": "-"
    }
   },
   "outputs": [
    {
     "data": {
      "text/plain": [
       "{'nombre': 'Juan',\n",
       " 'apellido': 'García',\n",
       " 'edad': 10,\n",
       " 'dirección': ['Av Bustillo', '9500'],\n",
       " 'cod': 8400,\n",
       " 'ciudad': 'Bariloche',\n",
       " 'tel': {'cel': 1213, 'fijo': 23848}}"
      ]
     },
     "execution_count": 37,
     "metadata": {},
     "output_type": "execute_result"
    }
   ],
   "source": [
    "d1"
   ]
  },
  {
   "cell_type": "markdown",
   "metadata": {},
   "source": [
    "Como las componentes del diccionario `integrantes` eran `d1` y `d2`, al modificar `d1` también estamos modificando `integrantes`"
   ]
  },
  {
   "cell_type": "code",
   "execution_count": 38,
   "metadata": {
    "autoscroll": false,
    "ein.hycell": false,
    "ein.tags": "worksheet-0",
    "slideshow": {
     "slide_type": "-"
    }
   },
   "outputs": [
    {
     "data": {
      "text/plain": [
       "{'nombre': 'Juan',\n",
       " 'apellido': 'García',\n",
       " 'edad': 10,\n",
       " 'dirección': ['Av Bustillo', '9500'],\n",
       " 'cod': 8400,\n",
       " 'ciudad': 'Bariloche',\n",
       " 'tel': {'cel': 1213, 'fijo': 23848}}"
      ]
     },
     "execution_count": 38,
     "metadata": {},
     "output_type": "execute_result"
    }
   ],
   "source": [
    "integrantes['Juan']"
   ]
  },
  {
   "cell_type": "markdown",
   "metadata": {
    "ein.tags": "worksheet-0",
    "slideshow": {
     "slide_type": "-"
    }
   },
   "source": [
    "Los diccionarios pueden pensarse como pares *key*, *valor*. Para obtener todas las claves (*keys*), valores, o pares (clave, valor) usamos:"
   ]
  },
  {
   "cell_type": "code",
   "execution_count": 39,
   "metadata": {
    "autoscroll": false,
    "ein.hycell": false,
    "ein.tags": "worksheet-0",
    "slideshow": {
     "slide_type": "-"
    }
   },
   "outputs": [
    {
     "name": "stdout",
     "output_type": "stream",
     "text": [
      "\n",
      "++++++++++++++++++++++++++++++++++++++++++++++++++++++++++++++++++++++\n",
      "\tkeys:\n",
      "['nombre', 'apellido', 'edad', 'dirección', 'cod', 'ciudad', 'tel']\n",
      "\n",
      "++++++++++++++++++++++++++++++++++++++++++++++++++++++++++++++++++++++\n",
      "\tvalues:\n",
      "['Juan', 'García', 10, ['Av Bustillo', '9500'], 8400, 'Bariloche', {'cel': 1213, 'fijo': 23848}]\n",
      "\n",
      "\n",
      "\titems:\n",
      "[('nombre', 'Juan'), ('apellido', 'García'), ('edad', 10), ('dirección', ['Av Bustillo', '9500']), ('cod', 8400), ('ciudad', 'Bariloche'), ('tel', {'cel': 1213, 'fijo': 23848})]\n"
     ]
    }
   ],
   "source": [
    "print ('\\n' + 70*'+' + '\\n\\tkeys:')\n",
    "print (list(d1.keys()))\n",
    "print ('\\n' + 70*'+'+ '\\n\\tvalues:')\n",
    "print (list(d1.values()))\n",
    "print ('\\n' + 0*'+'+ '\\n\\titems:')\n",
    "print (list(d1.items()))"
   ]
  },
  {
   "cell_type": "markdown",
   "metadata": {
    "ein.tags": "worksheet-0",
    "slideshow": {
     "slide_type": "-"
    }
   },
   "source": [
    "### Arrays de Numpy\n",
    "\n",
    "Un paquete (incluyendo varios módulos) que es muy importante en el uso de Python para ciencias e ingenierías es [**Numpy**](http://numpy.org). Como con todos los módulos, se carga utilizando la palabra `import`.\n",
    "\n",
    "Existen variantes en la manera de importar los módulos que son \"equivalentes\". En este caso le vamos a dar un alias que sea más corto de tipear, este es el procedimiento habitual y es la manera en que van a encontrarlo usualmente en ejemplos si buscan ayuda *online*. "
   ]
  },
  {
   "cell_type": "code",
   "execution_count": 40,
   "metadata": {
    "autoscroll": false,
    "collapsed": false,
    "ein.hycell": false,
    "ein.tags": "worksheet-0",
    "jupyter": {
     "outputs_hidden": false
    },
    "slideshow": {
     "slide_type": "-"
    }
   },
   "outputs": [],
   "source": [
    "# Esta es la manera más usada de importar este módulo. \n",
    "import numpy as np"
   ]
  },
  {
   "cell_type": "code",
   "execution_count": 42,
   "metadata": {
    "autoscroll": false,
    "collapsed": false,
    "ein.hycell": false,
    "ein.tags": "worksheet-0",
    "jupyter": {
     "outputs_hidden": false
    },
    "slideshow": {
     "slide_type": "-"
    }
   },
   "outputs": [],
   "source": [
    "L = list(range(0,6))\n",
    "x = np.array(range(6))"
   ]
  },
  {
   "cell_type": "code",
   "execution_count": 43,
   "metadata": {
    "autoscroll": false,
    "collapsed": false,
    "ein.hycell": false,
    "ein.tags": "worksheet-0",
    "jupyter": {
     "outputs_hidden": false
    },
    "slideshow": {
     "slide_type": "-"
    }
   },
   "outputs": [
    {
     "data": {
      "text/plain": [
       "(list, numpy.ndarray)"
      ]
     },
     "execution_count": 43,
     "metadata": {},
     "output_type": "execute_result"
    }
   ],
   "source": [
    "type(L), type(x)"
   ]
  },
  {
   "cell_type": "code",
   "execution_count": 44,
   "metadata": {
    "autoscroll": false,
    "collapsed": false,
    "ein.hycell": false,
    "ein.tags": "worksheet-0",
    "jupyter": {
     "outputs_hidden": false
    },
    "slideshow": {
     "slide_type": "-"
    }
   },
   "outputs": [
    {
     "data": {
      "text/plain": [
       "[0, 1, 2, 3, 4, 5]"
      ]
     },
     "execution_count": 44,
     "metadata": {},
     "output_type": "execute_result"
    }
   ],
   "source": [
    "L"
   ]
  },
  {
   "cell_type": "code",
   "execution_count": 45,
   "metadata": {
    "autoscroll": false,
    "collapsed": false,
    "ein.hycell": false,
    "ein.tags": "worksheet-0",
    "jupyter": {
     "outputs_hidden": false
    },
    "slideshow": {
     "slide_type": "-"
    }
   },
   "outputs": [
    {
     "data": {
      "text/plain": [
       "array([0, 1, 2, 3, 4, 5])"
      ]
     },
     "execution_count": 45,
     "metadata": {},
     "output_type": "execute_result"
    }
   ],
   "source": [
    "x"
   ]
  },
  {
   "cell_type": "code",
   "execution_count": 46,
   "metadata": {},
   "outputs": [
    {
     "data": {
      "text/plain": [
       "array([ True,  True,  True,  True,  True,  True])"
      ]
     },
     "execution_count": 46,
     "metadata": {},
     "output_type": "execute_result"
    }
   ],
   "source": [
    "L == x"
   ]
  },
  {
   "cell_type": "markdown",
   "metadata": {
    "ein.tags": "worksheet-0",
    "slideshow": {
     "slide_type": "-"
    }
   },
   "source": [
    "Como vemos,\n",
    "- `L` es una **lista** con los números naturales de 0 a 5\n",
    "- `x` es un **array** con los mismos números.\n",
    "\n",
    "Nos referiremos al tipo de `x` como **array**, **numpy.array** o **numpy.ndarray** (o np.array, np.ndarray)"
   ]
  },
  {
   "cell_type": "markdown",
   "metadata": {
    "ein.tags": "worksheet-0",
    "slideshow": {
     "slide_type": "-"
    }
   },
   "source": [
    "Veamos cómo se comparan los *arrays* y las *listas*:"
   ]
  },
  {
   "cell_type": "code",
   "execution_count": 47,
   "metadata": {
    "autoscroll": false,
    "collapsed": false,
    "ein.hycell": false,
    "ein.tags": "worksheet-0",
    "jupyter": {
     "outputs_hidden": false
    },
    "slideshow": {
     "slide_type": "-"
    }
   },
   "outputs": [
    {
     "name": "stdout",
     "output_type": "stream",
     "text": [
      "[ 0  3  6  9 12 15]\n",
      "[0, 1, 2, 3, 4, 5, 0, 1, 2, 3, 4, 5, 0, 1, 2, 3, 4, 5]\n"
     ]
    }
   ],
   "source": [
    "# Multiplicación de arrays y listas por un entero\n",
    "print( 3*x )\n",
    "print( 3*L )"
   ]
  },
  {
   "cell_type": "code",
   "execution_count": 48,
   "metadata": {
    "autoscroll": false,
    "collapsed": false,
    "ein.hycell": false,
    "ein.tags": "worksheet-0",
    "jupyter": {
     "outputs_hidden": false
    },
    "slideshow": {
     "slide_type": "-"
    }
   },
   "outputs": [
    {
     "name": "stdout",
     "output_type": "stream",
     "text": [
      "[ 0  2  4  6  8 10]\n",
      "[0, 1, 2, 3, 4, 5, 0, 1, 2, 3, 4, 5]\n"
     ]
    }
   ],
   "source": [
    "# Suma de dos arrays o dos listas\n",
    "print( x + x )\n",
    "print( L + L )"
   ]
  },
  {
   "cell_type": "markdown",
   "metadata": {
    "ein.tags": "worksheet-0",
    "slideshow": {
     "slide_type": "-"
    }
   },
   "source": [
    "Mientras que la suma entre listas está definida (igual que para strings) como la concatenación, para arrays la suma (y todas las operaciones) se definen elemento a elemento."
   ]
  },
  {
   "cell_type": "markdown",
   "metadata": {
    "ein.tags": "worksheet-0",
    "slideshow": {
     "slide_type": "-"
    }
   },
   "source": [
    "## Control de flujo\n",
    "\n",
    "### if/elif/else\n",
    "\n",
    "En todo lenguaje necesitamos controlar el flujo de una ejecución segun una condición Verdadero/Falso (booleana). *Si (condicion) es verdadero hacé (bloque A); Sino hacé (Bloque B)*. En pseudo código:\n",
    "\n",
    "```\n",
    "    Si condición 1:\n",
    "        bloque A\n",
    "    sino y condición 2:\n",
    "        bloque B\n",
    "    sino:\n",
    "        bloque C\n",
    "```\n",
    "\n",
    "y en Python es muy parecido!\n",
    "\n",
    "```python\n",
    "   if condición_1:\n",
    "     bloque A\n",
    "   elif condicion_2:\n",
    "     bloque B\n",
    "   elif condicion_3:\n",
    "     bloque C\n",
    "   else:\n",
    "     Bloque final\n",
    "```\n",
    "\n",
    "En un `if`, la conversión a tipo *boolean* es implícita. El tipo `None` (vacío), el `0`,  una secuencia (lista, tupla, string) (o conjunto o diccionario, que ya veremos) vacía siempre evalua a ``False``. Cualquier otro objeto evalua a ``True``.\n",
    "\n",
    "Podemos tener multiples condiciones. Se ejecutará el primer bloque cuya condición sea verdadera, o en su defecto el bloque `else`. Esto es equivalente a la sentencia `switch` de otros lenguajes."
   ]
  },
  {
   "cell_type": "code",
   "execution_count": 49,
   "metadata": {
    "autoscroll": false,
    "ein.hycell": false,
    "ein.tags": "worksheet-0",
    "slideshow": {
     "slide_type": "-"
    }
   },
   "outputs": [
    {
     "name": "stdout",
     "output_type": "stream",
     "text": [
      "Bueno, al menos aprobó!\n"
     ]
    }
   ],
   "source": [
    "Nota = 7\n",
    "if Nota >= 8:\n",
    "    print (\"Aprobó cómodo, felicidades!\")\n",
    "elif 6 <= Nota < 8:\n",
    "    print (\"Bueno, al menos aprobó!\")\n",
    "elif (4 <= Nota) and (Nota < 6) :\n",
    "    print (\"Bastante bien, pero no le alcanzó\")\n",
    "else:\n",
    "    print(\"Debe esforzarse más!\")"
   ]
  },
  {
   "cell_type": "markdown",
   "metadata": {
    "ein.tags": "worksheet-0",
    "slideshow": {
     "slide_type": "-"
    }
   },
   "source": [
    "### Iteraciones\n",
    "\n",
    "#### Sentencia for\n",
    "\n",
    "Otro elemento de control es el que permite *iterar* sobre una secuencia (o *\"iterador\"*). Obtener cada elemento para hacer algo. En Python se logra con la sentencia `for`. En lugar de iterar sobre una condición aritmética hasta que se cumpla una condición (como en C o en Fortran) en Python la sentencia `for` itera sobre los ítems de una secuencia en forma ordenada"
   ]
  },
  {
   "cell_type": "code",
   "execution_count": 50,
   "metadata": {
    "autoscroll": false,
    "ein.hycell": false,
    "ein.tags": "worksheet-0",
    "slideshow": {
     "slide_type": "-"
    }
   },
   "outputs": [
    {
     "name": "stdout",
     "output_type": "stream",
     "text": [
      "auto\n",
      "casa\n",
      "perro\n",
      "gato\n",
      "árbol\n",
      "lechuza\n",
      "banana\n"
     ]
    }
   ],
   "source": [
    "Lista = ['auto', 'casa', \"perro\", \"gato\", \"árbol\", \"lechuza\", \"banana\"]\n",
    "for L in Lista:\n",
    "  print(L)"
   ]
  },
  {
   "cell_type": "markdown",
   "metadata": {},
   "source": [
    "Iterando sobre una lista podemos actuar de la manera que necesitemos"
   ]
  },
  {
   "cell_type": "code",
   "execution_count": 51,
   "metadata": {
    "autoscroll": false,
    "ein.hycell": false,
    "ein.tags": "worksheet-0",
    "slideshow": {
     "slide_type": "-"
    }
   },
   "outputs": [
    {
     "name": "stdout",
     "output_type": "stream",
     "text": [
      "En la palabra auto hay 1 letras \"a\"\n",
      "En la palabra casa hay 2 letras \"a\"\n",
      "En la palabra perro hay 0 letras \"a\"\n",
      "En la palabra gato hay 1 letras \"a\"\n",
      "En la palabra árbol hay 0 letras \"a\"\n",
      "En la palabra lechuza hay 1 letras \"a\"\n",
      "En la palabra banana hay 3 letras \"a\"\n",
      "\n",
      "La palabra más larga es lechuza\n"
     ]
    }
   ],
   "source": [
    "for L in Lista:\n",
    "    print(f'En la palabra {L} hay {L.count(\"a\")} letras \"a\"')\n",
    "    \n",
    "print(f'\\nLa palabra más larga es {max(Lista, key=len)}')"
   ]
  },
  {
   "cell_type": "markdown",
   "metadata": {
    "ein.tags": "worksheet-0",
    "slideshow": {
     "slide_type": "-"
    }
   },
   "source": [
    "En estos ejemplos, en cada iteración `L` toma sucesivamente los valores de `Lista`. La primera vez es `L='auto'`, la segunda `L='casa'`, ...\n",
    "El cuerpo del *loop* `for`, como todos los bloques en **Python** está definido por la **indentación**. La última línea está fuera del loop y se ejecuta al terminar todas las iteraciones del `for`."
   ]
  },
  {
   "cell_type": "markdown",
   "metadata": {
    "ein.tags": "worksheet-0",
    "slideshow": {
     "slide_type": "-"
    }
   },
   "source": [
    "Veamos otro ejemplo, donde iteramos sobre un `range` actuando como \"contador\":"
   ]
  },
  {
   "cell_type": "code",
   "execution_count": 52,
   "metadata": {
    "autoscroll": false,
    "ein.hycell": false,
    "ein.tags": "worksheet-0",
    "slideshow": {
     "slide_type": "-"
    }
   },
   "outputs": [
    {
     "name": "stdout",
     "output_type": "stream",
     "text": [
      "0, 1, 2, 3, 4, 5, 6, 7, 8, 9, "
     ]
    }
   ],
   "source": [
    "for elemento in range(10):\n",
    "    print(elemento, end=', ')\n"
   ]
  },
  {
   "cell_type": "markdown",
   "metadata": {},
   "source": [
    "En este ejemplo la función range devuelve en cada iteración un contador que se inicia en 0 y termina en 10. Si bien esto nos permite trabajar de la manera usual en otros lenguajes iterando sobre un contador y eligiendo el elemento por su índice en la forma `Lista[i]`, en Python es mucho más simple, claro y eficiente hacerlo como lo hicimos anteriormente. Compare la forma \"equivocada\" con el ejemplo anterior: "
   ]
  },
  {
   "cell_type": "code",
   "execution_count": 53,
   "metadata": {},
   "outputs": [
    {
     "name": "stdout",
     "output_type": "stream",
     "text": [
      "En la palabra auto hay 1 letras \"a\"\n",
      "En la palabra casa hay 2 letras \"a\"\n",
      "En la palabra perro hay 0 letras \"a\"\n",
      "En la palabra gato hay 1 letras \"a\"\n",
      "En la palabra árbol hay 0 letras \"a\"\n",
      "En la palabra lechuza hay 1 letras \"a\"\n",
      "En la palabra banana hay 3 letras \"a\"\n",
      "\n",
      "La palabra más larga es lechuza\n"
     ]
    }
   ],
   "source": [
    "# ESTE BLOQUE NOOOOOO!\n",
    "m = 0\n",
    "indice=0\n",
    "for i in range(len(Lista)):\n",
    "    print(f'En la palabra {Lista[i]} hay {Lista[i].count(\"a\")} letras \"a\"')\n",
    "    if len(Lista[i]) > m: \n",
    "        m = len(Lista[i])\n",
    "        indice = i\n",
    "    \n",
    "print(f'\\nLa palabra más larga es {Lista[indice]}')    \n"
   ]
  },
  {
   "cell_type": "markdown",
   "metadata": {},
   "source": [
    "Esta no es la manera \"correcta\" en Python, ya que estamos usando la lista para determinar el contador, que a su vez se usa como índice para determinar el elemento de la lista. En la primera versión (`for L in Lista:`) directamente tenemos el elemento."
   ]
  },
  {
   "cell_type": "markdown",
   "metadata": {},
   "source": [
    "## Ejercicios\n",
    "\n",
    "1. Cree una lista de la forma `L = [1,3,5,...,17,19,19,17,...,3,1]`\n",
    "\n",
    "8. Utilizando el string:\n",
    "\n",
    "```python\n",
    "s1='En un lugar de la Mancha de cuyo nombre no quiero acordarme'\n",
    "```\n",
    "\n",
    "y utilizando funciones y [métodos de strings](https://docs.python.org/es/3/library/stdtypes.html#string-methods):\n",
    "\n",
    "- Obtenga la cantidad de caracteres.\n",
    "- Imprima la frase anterior pero con cada palabra empezando en mayúsculas.\n",
    "- Cuente cuantas letras 'a' tiene la frase, ¿cuántas vocales tiene?\n",
    "- Imprima el string `s1` centrado en una línea de 80 caracteres, rodeado de guiones en la forma:\n",
    "    \n",
    "    ``----------En un lugar de la Mancha de cuyo nombre no quiero acordarme-----------``\n",
    "\n",
    "- Obtenga una lista **L1** donde cada elemento sea una palabra.\n",
    "  - Cuente la cantidad de elementos en ``L1`` (utilizando python).\n",
    "  - Ordene la lista **L1** en orden alfabético.\n",
    "  - Ordene la lista **L1** tal que las palabras más cortas estén primero.\n",
    "  - Ordene la lista **L1** tal que las palabras más largas estén primero.\n",
    "  - Construya un string **s2** con la lista del resultado del punto anterior.\n",
    "  - Encuentre la palabra más larga y la más corta de la frase.\n",
    "  \n",
    "3. Usando estructuras de control, calcule la suma:\n",
    "   $$ s_{1} = \\frac{1}{2} \\left(\\sum_{k=1}^{100}k^{-1} \\right)$$\n",
    "\n",
    "    1. Incluyendo todos los valores de `k`\n",
    "    2. Incluyendo únicamente los valores pares de `k`.\n"
   ]
  }
 ],
 "metadata": {
  "kernelspec": {
   "display_name": "Python 3",
   "language": "python",
   "name": "python3"
  },
  "language_info": {
   "codemirror_mode": {
    "name": "ipython",
    "version": 3
   },
   "file_extension": ".py",
   "mimetype": "text/x-python",
   "name": "python",
   "nbconvert_exporter": "python",
   "pygments_lexer": "ipython3",
   "version": "3.9.1"
  },
  "name": "01_introd_python.ipynb",
  "toc": {
   "base_numbering": 1,
   "nav_menu": {
    "height": "519.933px",
    "width": "251.167px"
   },
   "number_sections": true,
   "sideBar": true,
   "skip_h1_title": false,
   "title_cell": "Contenidos",
   "title_sidebar": "Contenidos",
   "toc_cell": false,
   "toc_position": null,
   "toc_section_display": true,
   "toc_window_display": false
  }
 },
 "nbformat": 4,
 "nbformat_minor": 4
}
