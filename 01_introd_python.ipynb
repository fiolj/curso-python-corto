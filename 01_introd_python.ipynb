{
 "cells": [
  {
   "cell_type": "markdown",
   "metadata": {
    "ein.tags": "worksheet-0",
    "slideshow": {
     "slide_type": "-"
    }
   },
   "source": [
    "# Conceptos básicos de Python    <a class=\"tocSkip\">"
   ]
  },
  {
   "cell_type": "markdown",
   "metadata": {
    "ein.tags": "worksheet-0",
    "slideshow": {
     "slide_type": "-"
    }
   },
   "source": [
    "## Características generales del lenguaje\n",
    "Python presenta características modernas. Posiblemente su característica más visible/notable es que la estructuración del código está fuertemente relacionada con su legibilidad:\n",
    "\n",
    "- Es un lenguaje interpretado (no se compila separadamente)\n",
    "\n",
    "- Provee tanto un entorno interactivo como de programas separados \n",
    "\n",
    "- Las funciones, bloques, ámbitos están definidos por la indentación\n",
    "\n",
    "- Tiene una estructura altamente modular, permitiendo su reusabilidad\n",
    "\n",
    "- Es un lenguaje de *tipeado dinámico*, no tenemos que declarar el tipo de variable antes de usarla."
   ]
  },
  {
   "cell_type": "markdown",
   "metadata": {
    "ein.tags": "worksheet-0",
    "slideshow": {
     "slide_type": "-"
    }
   },
   "source": [
    "Python es un lenguaje altamente modular con una biblioteca standard que provee de funciones y tipos para un amplio rango de aplicaciones, y que se distribuye junto con el lenguaje. Además hay un conjunto muy importante de utilidades que pueden instalarse e incorporarse muy fácilmente. El núcleo del lenguaje es pequeño, existiendo sólo unas pocas palabras reservadas:\n",
    "\n",
    "\n",
    "\n",
    "| False    | class      | finally   | is         | return   |\n",
    "|----------|------------|-----------|------------|----------|\n",
    "| None     | continue   | for       | lambda     | try      |\n",
    "| True     | def        | from      | nonlocal   | while    |\n",
    "| and      | del        | global    | not        | with     |\n",
    "| as       | elif       | if        | or         | yield    |\n",
    "| assert   | else       | import    | pass       |          |\n",
    "| break    | except     | in        | raise      |          |"
   ]
  },
  {
   "cell_type": "markdown",
   "metadata": {
    "ein.tags": "worksheet-0",
    "slideshow": {
     "slide_type": "-"
    }
   },
   "source": [
    "Además de las palabras reservadas, es relevante el caracter `#`, porque inicia un comentario que se continúa hasta el final de la línea. Los comentarios son fragmentos que se ignoran completamente en la ejecución del código."
   ]
  },
  {
   "cell_type": "code",
   "execution_count": null,
   "metadata": {},
   "outputs": [],
   "source": [
    "1+1\n",
    "# 3+3"
   ]
  },
  {
   "cell_type": "markdown",
   "metadata": {},
   "source": [
    "Como vemos, la segunda línea es ignorada completamente."
   ]
  },
  {
   "cell_type": "markdown",
   "metadata": {
    "ein.tags": "worksheet-0",
    "slideshow": {
     "slide_type": "-"
    }
   },
   "source": [
    "## Tipos simples de variables\n",
    "\n",
    "Python es un lenguaje de muy alto nivel y por lo tanto trae muchos *tipos* de datos ya definidos:\n",
    "\n",
    "  - Números: enteros, reales, complejos\n",
    "  - Tipos lógicos (booleanos)\n",
    "  - Cadenas de caracteres (strings) y bytes\n",
    "  - Listas: una lista es una colección de cosas, ordenadas, que pueden ser todas distintas entre sí\n",
    "  - Diccionarios: También son colecciones de cosas, pero no están ordenadas y son identificadas con una etiqueta\n",
    "  - Conjuntos, tuples, ..."
   ]
  },
  {
   "cell_type": "markdown",
   "metadata": {
    "ein.tags": "worksheet-0",
    "slideshow": {
     "slide_type": "-"
    }
   },
   "source": [
    "### Números\n",
    "\n",
    "Hay varios tipos de números en Python. Aquí definimos y asignamos valor a distintas variables:"
   ]
  },
  {
   "cell_type": "code",
   "execution_count": 5,
   "metadata": {
    "autoscroll": false,
    "ein.hycell": false,
    "ein.tags": "worksheet-0",
    "slideshow": {
     "slide_type": "-"
    }
   },
   "outputs": [],
   "source": [
    "a = 13\n",
    "b = 1.235\n",
    "c = a + b"
   ]
  },
  {
   "cell_type": "code",
   "execution_count": 6,
   "metadata": {
    "autoscroll": false,
    "ein.hycell": false,
    "ein.tags": "worksheet-0",
    "slideshow": {
     "slide_type": "-"
    }
   },
   "outputs": [
    {
     "name": "stdout",
     "output_type": "stream",
     "text": [
      "13 <class 'int'>\n"
     ]
    }
   ],
   "source": [
    "print(a, type(a))"
   ]
  },
  {
   "cell_type": "code",
   "execution_count": 7,
   "metadata": {
    "autoscroll": false,
    "ein.hycell": false,
    "ein.tags": "worksheet-0",
    "slideshow": {
     "slide_type": "-"
    }
   },
   "outputs": [
    {
     "name": "stdout",
     "output_type": "stream",
     "text": [
      "1.235 <class 'float'>\n",
      "14.235 <class 'float'>\n"
     ]
    }
   ],
   "source": [
    "print(b, type(b))\n",
    "print(c, type(c))"
   ]
  },
  {
   "cell_type": "markdown",
   "metadata": {
    "ein.tags": "worksheet-0",
    "slideshow": {
     "slide_type": "-"
    }
   },
   "source": [
    "Esta es una de las características de Python. Se define el tipo de variable en forma dinámica, al asignarle un valor. "
   ]
  },
  {
   "cell_type": "markdown",
   "metadata": {
    "ein.tags": "worksheet-0",
    "slideshow": {
     "slide_type": "-"
    }
   },
   "source": [
    "De la misma manera se cambia el tipo de una variable en forma dinámica, para poder operar. Por ejemplo en el último caso, la variable `a` es de tipo `int`, pero para poder sumarla con la variable `b` debe convertirse su valor a otra de tipo `float`."
   ]
  },
  {
   "cell_type": "code",
   "execution_count": 9,
   "metadata": {
    "autoscroll": false,
    "ein.hycell": false,
    "ein.tags": "worksheet-0",
    "slideshow": {
     "slide_type": "-"
    }
   },
   "outputs": [
    {
     "name": "stdout",
     "output_type": "stream",
     "text": [
      "19.5 <class 'float'>\n",
      "29.25 <class 'float'>\n"
     ]
    }
   ],
   "source": [
    "print (a, type(a))\n",
    "a = 1.5 * a\n",
    "print (a, type(a))"
   ]
  },
  {
   "cell_type": "markdown",
   "metadata": {
    "ein.tags": "worksheet-0",
    "slideshow": {
     "slide_type": "-"
    }
   },
   "source": [
    "Ahora, la variable `a` es del tipo `float`. "
   ]
  },
  {
   "cell_type": "markdown",
   "metadata": {
    "ein.tags": "worksheet-0",
    "slideshow": {
     "slide_type": "-"
    }
   },
   "source": [
    "-----\n",
    "\n",
    "**Nota:** La función `print`\n",
    "\n",
    "Estuvimos usando, sin hacer ningún comentario, la función \n",
    "\n",
    "```\n",
    "print(arg1, arg2, arg3, ..., sep=' ', end='\\n', file=sys.stdout, flush=False)` \n",
    "```\n",
    "\n",
    "acepta un número variable de argumentos. Imprime por pantalla todos los argumentos que se le pasan separados por el string `sep` (cuyo valor por defecto es un espacio), y termina con el string `end` (con valor por defecto *newline*)."
   ]
  },
  {
   "cell_type": "code",
   "execution_count": null,
   "metadata": {
    "autoscroll": false,
    "ein.hycell": false,
    "ein.tags": "worksheet-0",
    "slideshow": {
     "slide_type": "-"
    }
   },
   "outputs": [],
   "source": [
    "print?"
   ]
  },
  {
   "cell_type": "code",
   "execution_count": 10,
   "metadata": {
    "autoscroll": false,
    "ein.hycell": false,
    "ein.tags": "worksheet-0",
    "slideshow": {
     "slide_type": "-"
    }
   },
   "outputs": [
    {
     "name": "stdout",
     "output_type": "stream",
     "text": [
      "3 2 hola\n",
      "4 1 chau\n"
     ]
    }
   ],
   "source": [
    "print(3,2,'hola')\n",
    "print(4,1,'chau')"
   ]
  },
  {
   "cell_type": "code",
   "execution_count": 11,
   "metadata": {
    "autoscroll": false,
    "ein.hycell": false,
    "ein.tags": "worksheet-0",
    "slideshow": {
     "slide_type": "-"
    }
   },
   "outputs": [
    {
     "name": "stdout",
     "output_type": "stream",
     "text": [
      "3++++2++++hola -> 4++++1++++chau\n"
     ]
    }
   ],
   "source": [
    "print(3,2,'hola',sep='++++',end=' -> ')\n",
    "print(4,1,'chau',sep='++++')"
   ]
  },
  {
   "cell_type": "code",
   "execution_count": 13,
   "metadata": {
    "autoscroll": false,
    "ein.hycell": false,
    "ein.tags": "worksheet-0",
    "slideshow": {
     "slide_type": "-"
    }
   },
   "outputs": [
    {
     "name": "stdout",
     "output_type": "stream",
     "text": [
      "3,2,hola\n"
     ]
    }
   ],
   "source": [
    "print(3,2,'hola',sep=',')"
   ]
  },
  {
   "cell_type": "markdown",
   "metadata": {},
   "source": [
    "\n",
    "--------"
   ]
  },
  {
   "cell_type": "markdown",
   "metadata": {
    "ein.tags": "worksheet-0",
    "slideshow": {
     "slide_type": "-"
    }
   },
   "source": [
    "#### Números complejos\n",
    "\n",
    "Los números complejos son parte standard del lenguaje, y las operaciones básicas que están incorporadas en forma nativa pueden utilizarse normalmente"
   ]
  },
  {
   "cell_type": "code",
   "execution_count": 14,
   "metadata": {
    "autoscroll": false,
    "ein.hycell": false,
    "ein.tags": "worksheet-0",
    "slideshow": {
     "slide_type": "-"
    }
   },
   "outputs": [
    {
     "name": "stdout",
     "output_type": "stream",
     "text": [
      "z1 = (3+1j) , z2 = (2+2.124j)\n"
     ]
    }
   ],
   "source": [
    "z1 = 3 + 1j\n",
    "z2 = 2 + 2.124j\n",
    "print ('z1 =', z1, ', z2 =', z2)"
   ]
  },
  {
   "cell_type": "code",
   "execution_count": 15,
   "metadata": {},
   "outputs": [
    {
     "data": {
      "text/plain": [
       "complex"
      ]
     },
     "execution_count": 15,
     "metadata": {},
     "output_type": "execute_result"
    }
   ],
   "source": [
    "type(z1)"
   ]
  },
  {
   "cell_type": "code",
   "execution_count": 16,
   "metadata": {
    "autoscroll": false,
    "ein.hycell": false,
    "ein.tags": "worksheet-0",
    "slideshow": {
     "slide_type": "-"
    }
   },
   "outputs": [
    {
     "name": "stdout",
     "output_type": "stream",
     "text": [
      "1.5j * z2 + z1 =  (-0.18599999999999994+4j)\n",
      "z2² =  (-0.5113760000000003+8.496j)\n",
      "conj(z1) =  (3-1j)\n"
     ]
    }
   ],
   "source": [
    "print('1.5j * z2 + z1 = ', 1.5j * z2 + z1)  # sumas, multiplicaciones de números complejos\n",
    "print('z2² = ', z2**2)  # potencia de números complejos\n",
    "print('conj(z1) = ',  z1.conjugate()  )"
   ]
  },
  {
   "cell_type": "code",
   "execution_count": 17,
   "metadata": {
    "autoscroll": false,
    "ein.hycell": false,
    "ein.tags": "worksheet-0",
    "slideshow": {
     "slide_type": "-"
    }
   },
   "outputs": [
    {
     "name": "stdout",
     "output_type": "stream",
     "text": [
      "Im(z1) =  1.0\n",
      "Re(z1) =  3.0\n",
      "abs(z1) =  3.1622776601683795\n"
     ]
    }
   ],
   "source": [
    "print ('Im(z1) = ', z1.imag)\n",
    "print ('Re(z1) = ', z1.real)\n",
    "print ('abs(z1) = ', abs(z1))"
   ]
  },
  {
   "cell_type": "markdown",
   "metadata": {
    "ein.tags": "worksheet-0",
    "slideshow": {
     "slide_type": "-"
    }
   },
   "source": [
    "#### Operaciones\n",
    "Las operaciones aritméticas básicas son:\n",
    "\n",
    "* adición: `+`\n",
    "* sustracción: `-`\n",
    "* multiplicación: `*`\n",
    "* división: `/`\n",
    "* potencia: `**`\n",
    "* módulo: `%`\n",
    "* división entera: `//`\n",
    "\n",
    "Las operaciones se pueden agrupar con parentesis y tienen precedencia estándar.\n",
    "\n",
    "División entera (//) significa quedarse con la parte entera de la división (sin redondear).\n",
    "\n",
    "--------\n",
    "\n",
    "**Nota:**  Las operaciones matemáticas están incluidas en el lenguaje, pero las funciones no.\n",
    "\n",
    "En particular las funciones elementales: trigonométricas, hiperbólicas, logaritmos no están incluidas. En todos los casos es fácil utilizarlas porque las proveen módulos. Lo veremos pronto. \n",
    "\n",
    "--------\n"
   ]
  },
  {
   "cell_type": "code",
   "execution_count": 21,
   "metadata": {
    "autoscroll": false,
    "ein.hycell": false,
    "ein.tags": "worksheet-0",
    "slideshow": {
     "slide_type": "-"
    }
   },
   "outputs": [
    {
     "name": "stdout",
     "output_type": "stream",
     "text": [
      "división de 20/3:          6.666666666666667\n",
      "parte entera de 20/3:      6\n",
      "fracción restante de 20/3: 0.666666666666667\n",
      "Resto de 20/3:             2\n"
     ]
    }
   ],
   "source": [
    "print('división de 20/3:         ', 20/3)\n",
    "print('parte entera de 20/3:     ', 20//3)\n",
    "print('fracción restante de 20/3:', 20/3 - 20//3)\n",
    "print('Resto de 20/3:            ', 20%3)"
   ]
  },
  {
   "cell_type": "markdown",
   "metadata": {
    "ein.tags": "worksheet-0",
    "slideshow": {
     "slide_type": "-"
    }
   },
   "source": [
    "En Python 3 la división entre números enteros da como resultado un número flotante "
   ]
  },
  {
   "cell_type": "code",
   "execution_count": 22,
   "metadata": {
    "autoscroll": false,
    "ein.hycell": false,
    "ein.tags": "worksheet-0",
    "slideshow": {
     "slide_type": "-"
    }
   },
   "outputs": [
    {
     "name": "stdout",
     "output_type": "stream",
     "text": [
      "4.0\n",
      "<class 'float'>\n",
      "6.666666666666667\n"
     ]
    }
   ],
   "source": [
    "print(20/5)\n",
    "print(type(20/5))\n",
    "print(20/3)"
   ]
  },
  {
   "cell_type": "markdown",
   "metadata": {
    "ein.tags": "worksheet-0",
    "slideshow": {
     "slide_type": "-"
    }
   },
   "source": [
    "----\n",
    "\n",
    "**Advertencia:** En *Python 2.x* la división entre números enteros es entera"
   ]
  },
  {
   "cell_type": "code",
   "execution_count": 23,
   "metadata": {
    "autoscroll": false,
    "ein.hycell": false,
    "ein.tags": "worksheet-0",
    "slideshow": {
     "slide_type": "-"
    }
   },
   "outputs": [
    {
     "name": "stdout",
     "output_type": "stream",
     "text": [
      "0 6\n"
     ]
    }
   ],
   "source": [
    "%%python2\n",
    "print 1/2,  20/3"
   ]
  },
  {
   "cell_type": "code",
   "execution_count": 24,
   "metadata": {
    "autoscroll": false,
    "ein.hycell": false,
    "ein.tags": "worksheet-0",
    "slideshow": {
     "slide_type": "-"
    }
   },
   "outputs": [
    {
     "name": "stdout",
     "output_type": "stream",
     "text": [
      "0 6\n",
      "0.5 6.666666666666667\n"
     ]
    }
   ],
   "source": [
    "print( 1//2,  20//3)  # División entera \n",
    "print( 1/2,  20/3)    # División"
   ]
  },
  {
   "cell_type": "markdown",
   "metadata": {},
   "source": [
    "-----"
   ]
  },
  {
   "cell_type": "markdown",
   "metadata": {
    "ein.tags": "worksheet-0",
    "slideshow": {
     "slide_type": "-"
    }
   },
   "source": [
    "### Tipos simples: Booleanos\n",
    "\n",
    "Los tipos lógicos o *booleanos*, pueden tomar los valores *Verdadero* o *Falso* (`True` o `False`).\n",
    "También hay un tipo *especial*, el elemento ``None``."
   ]
  },
  {
   "cell_type": "code",
   "execution_count": 25,
   "metadata": {
    "autoscroll": false,
    "ein.hycell": false,
    "ein.tags": "worksheet-0",
    "slideshow": {
     "slide_type": "-"
    }
   },
   "outputs": [
    {
     "name": "stdout",
     "output_type": "stream",
     "text": [
      "¿t is True? False\n",
      "¿t is False? True\n"
     ]
    }
   ],
   "source": [
    "t = False\n",
    "print('¿t is True?', t == True)\n",
    "print('¿t is False?', t == False)"
   ]
  },
  {
   "cell_type": "markdown",
   "metadata": {},
   "source": [
    "Los valores se pueden asignar a variables, como se hace con números "
   ]
  },
  {
   "cell_type": "code",
   "execution_count": 26,
   "metadata": {
    "autoscroll": false,
    "ein.hycell": false,
    "ein.tags": "worksheet-0",
    "slideshow": {
     "slide_type": "-"
    }
   },
   "outputs": [
    {
     "name": "stdout",
     "output_type": "stream",
     "text": [
      "¿t is True? False\n",
      "<class 'bool'>\n"
     ]
    }
   ],
   "source": [
    "c = (t == True)\n",
    "print('¿t is True?', c)\n",
    "print (type(c))"
   ]
  },
  {
   "cell_type": "markdown",
   "metadata": {},
   "source": [
    "El tipo `None` no es un número, pero tampoco es Verdadero o Falso"
   ]
  },
  {
   "cell_type": "code",
   "execution_count": 27,
   "metadata": {
    "autoscroll": false,
    "ein.hycell": false,
    "ein.tags": "worksheet-0",
    "slideshow": {
     "slide_type": "-"
    }
   },
   "outputs": [
    {
     "name": "stdout",
     "output_type": "stream",
     "text": [
      "True == None:  False\n",
      "False == None:  False\n"
     ]
    }
   ],
   "source": [
    "print ('True == None: ',True == None)\n",
    "print ('False == None: ', False == None)"
   ]
  },
  {
   "cell_type": "code",
   "execution_count": 28,
   "metadata": {
    "autoscroll": false,
    "ein.hycell": false,
    "ein.tags": "worksheet-0",
    "slideshow": {
     "slide_type": "-"
    }
   },
   "outputs": [
    {
     "name": "stdout",
     "output_type": "stream",
     "text": [
      "type(a):  <class 'NoneType'>\n",
      "False\n"
     ]
    }
   ],
   "source": [
    "a = None\n",
    "print ('type(a): ',type(a))\n",
    "print (bool(None))"
   ]
  },
  {
   "cell_type": "markdown",
   "metadata": {
    "ein.tags": "worksheet-0",
    "slideshow": {
     "slide_type": "-"
    }
   },
   "source": [
    "Aquí hemos estado preguntando si dos cosas eran iguales o no (igualdad). También podemos preguntar si una **es** la otra (identidad). En el siguiente ejemplo vemos que dos variables pueden tener el mismo valor pero ser diferentes"
   ]
  },
  {
   "cell_type": "code",
   "execution_count": 29,
   "metadata": {
    "autoscroll": false,
    "ein.hycell": false,
    "ein.tags": "worksheet-0",
    "slideshow": {
     "slide_type": "-"
    }
   },
   "outputs": [
    {
     "name": "stdout",
     "output_type": "stream",
     "text": [
      "True\n",
      "True\n"
     ]
    }
   ],
   "source": [
    "d = 1.5\n",
    "a = d\n",
    "print(d == a)\n",
    "print(d is a)"
   ]
  },
  {
   "cell_type": "code",
   "execution_count": 30,
   "metadata": {},
   "outputs": [
    {
     "name": "stdout",
     "output_type": "stream",
     "text": [
      "True\n",
      "False\n"
     ]
    }
   ],
   "source": [
    "d = 1.5\n",
    "a = 1.5\n",
    "print(d == a)\n",
    "print(d is a)"
   ]
  },
  {
   "cell_type": "markdown",
   "metadata": {},
   "source": [
    "Sin embargo, dos variables que tienen valores `True` son efectivamente \"la misma\" (son idénticas). Lo mismo ocurre con `False` y `None`"
   ]
  },
  {
   "cell_type": "code",
   "execution_count": 31,
   "metadata": {
    "autoscroll": false,
    "ein.hycell": false,
    "ein.tags": "worksheet-0",
    "slideshow": {
     "slide_type": "-"
    }
   },
   "outputs": [
    {
     "name": "stdout",
     "output_type": "stream",
     "text": [
      "a is True:  True\n",
      "c is None:  True\n",
      "¿Son idénticas las variables?\n",
      "b is a:  True\n",
      "d is c:  True\n"
     ]
    }
   ],
   "source": [
    "a = True\n",
    "b = True\n",
    "c = None\n",
    "d = None\n",
    "print ('a is True: ', a is True)\n",
    "print ('c is None: ', c is None)\n",
    "print(\"¿Son idénticas las variables?\")\n",
    "print ('b is a: ', b is a)\n",
    "print ('d is c: ', d is c)"
   ]
  },
  {
   "cell_type": "markdown",
   "metadata": {
    "ein.tags": "worksheet-0",
    "slideshow": {
     "slide_type": "-"
    }
   },
   "source": [
    "#### Operadores lógicos\n",
    "\n",
    "Los operadores lógicos en Python son muy explicitos:\n",
    "\n",
    "    A == B  (A igual que B)\n",
    "    A > B   (A mayor que B)\n",
    "    A < B   (A menor que B)\n",
    "    A >= B  (A igual o mayor que B)\n",
    "    A <= B  (A igual o menor que B)\n",
    "    A != B  (A diferente que B)\n",
    "    A in B  (A incluido en B)\n",
    "    A is B  (Identidad: A es el mismo elemento que B)\n",
    "\n",
    "y a todos los podemos combinar con `not`, que niega la condición"
   ]
  },
  {
   "cell_type": "code",
   "execution_count": 32,
   "metadata": {
    "autoscroll": false,
    "ein.hycell": false,
    "ein.tags": "worksheet-0",
    "slideshow": {
     "slide_type": "-"
    }
   },
   "outputs": [
    {
     "name": "stdout",
     "output_type": "stream",
     "text": [
      "¿20/3 == 6?  -> False\n",
      "¿20//3 == 6? -> True\n",
      "¿20//3 >= 6? -> True\n",
      "¿20//3 > 6?  -> False\n"
     ]
    }
   ],
   "source": [
    "print ('¿20/3 == 6?  ->', 20/3 == 6)\n",
    "print ('¿20//3 == 6? ->', 20//3 == 6)\n",
    "print ('¿20//3 >= 6? ->', 20//3 >= 6)\n",
    "print ('¿20//3 > 6?  ->', 20//3 > 6)"
   ]
  },
  {
   "cell_type": "code",
   "execution_count": 33,
   "metadata": {
    "autoscroll": false,
    "ein.hycell": false,
    "ein.tags": "worksheet-0",
    "slideshow": {
     "slide_type": "-"
    }
   },
   "outputs": [
    {
     "name": "stdout",
     "output_type": "stream",
     "text": [
      "a == b     -> True\n",
      "a is b     -> False\n",
      "a is not b -> True\n"
     ]
    }
   ],
   "source": [
    "a = 1001\n",
    "b = 1001\n",
    "print ('a == b     ->', a == b)\n",
    "print ('a is b     ->', a is b)\n",
    "print ('a is not b ->', a is not b)"
   ]
  },
  {
   "cell_type": "markdown",
   "metadata": {
    "ein.tags": "worksheet-0",
    "slideshow": {
     "slide_type": "-"
    }
   },
   "source": [
    "Note que en las últimas dos líneas estamos fijándonos si las dos variables son la misma (identidad), y no ocurre aunque sus valores son iguales."
   ]
  },
  {
   "cell_type": "markdown",
   "metadata": {},
   "source": [
    "## Modularización y reuso"
   ]
  },
  {
   "cell_type": "markdown",
   "metadata": {
    "ein.tags": "worksheet-0",
    "slideshow": {
     "slide_type": "-"
    }
   },
   "source": [
    "Los módulos son el mecanismo de Python para reusar código. Una gran ventaja del lenguaje es que ya existen muchos módulos que son parte de la biblioteca *standard*. Además, existen numerosas bibliotecas y módulos para ayudarnos en cualquier tarea.\n",
    "\n",
    "El uso de los módulos es muy simple, para poder aprovecharlo necesitaremos saber dos cosas:\n",
    "\n",
    "* Qué funciones están ya definidas y listas para usar\n",
    "* Cómo acceder a ellas\n",
    "\n",
    "La primera pregunta: cómo saber cuáles son los posibles módulos que ya están definidos, su nombre, y que funciones están disponibles tiene una respuesta muy general que es \"buscar\" (en internet). \n",
    "La primera respuesta que podemos (deberíamos) intentar es: la [documentación](https://docs.python.org/es/3/index.html), y en particular la [biblioteca standard](https://docs.python.org/es/3/library/index.html).\n",
    "\n",
    "La segunda cuestión: una vez que sabemos qué existe (y no necesitamos reinventar), cómo podemos usarlo:\n",
    "\n",
    "Para utilizar todas las funcionalidades que están definidas en un *modulo* debemos primero hacerle saber a nuestro programa que existen. Eso se hace *importando* el módulo con el simple comando `import modulo`, donde modulo es el nombre que queremos importar.\n",
    "\n",
    "Una vez importado, podemos utilizar constantes y funciones definidas en el módulo con la notación \"de punto\": `modulo.funcion()`."
   ]
  },
  {
   "cell_type": "markdown",
   "metadata": {},
   "source": [
    "### Ejemplos: Módulos math y cmath\n",
    "\n",
    "El módulo [math](https://docs.python.org/es/3/library/math.html) contiene funciones y utilidades para trabajar con números reales (enteros y punto flotante). Es parte de la biblioteca standard de Python por lo que no tenemos que instalar nada nuevo. Contiene todas las funciones más comunes (trigonométricas, exponenciales, logaritmos, etc) y algunas constantes importantes ($\\pi$, e, etc). En realidad es una interface para dar acceso a la biblioteca ``math`` en C.\n",
    "\n",
    "Veamos como utilizarlo:"
   ]
  },
  {
   "cell_type": "code",
   "execution_count": 38,
   "metadata": {
    "autoscroll": false,
    "ein.hycell": false,
    "ein.tags": "worksheet-0",
    "slideshow": {
     "slide_type": "-"
    }
   },
   "outputs": [],
   "source": [
    "import math"
   ]
  },
  {
   "cell_type": "markdown",
   "metadata": {},
   "source": [
    "Después de este comando, tenemos disponible todos los objetos definidos (por algún amable programador) en el módulo [math](https://docs.python.org/es/3/library/math.html)"
   ]
  },
  {
   "cell_type": "code",
   "execution_count": 35,
   "metadata": {},
   "outputs": [
    {
     "data": {
      "text/plain": [
       "3.141592653589793"
      ]
     },
     "execution_count": 35,
     "metadata": {},
     "output_type": "execute_result"
    }
   ],
   "source": [
    "# Veamos el valor de Pi:\n",
    "math.pi"
   ]
  },
  {
   "cell_type": "code",
   "execution_count": 36,
   "metadata": {
    "autoscroll": false,
    "ein.hycell": false,
    "ein.tags": "worksheet-0",
    "slideshow": {
     "slide_type": "-"
    }
   },
   "outputs": [],
   "source": [
    "# algunas constantes y funciones elementales\n",
    "raiz5pi = math.sqrt(5*math.pi)"
   ]
  },
  {
   "cell_type": "code",
   "execution_count": 37,
   "metadata": {},
   "outputs": [
    {
     "data": {
      "text/plain": [
       "3.963327297606011"
      ]
     },
     "execution_count": 37,
     "metadata": {},
     "output_type": "execute_result"
    }
   ],
   "source": [
    "raiz5pi"
   ]
  },
  {
   "cell_type": "markdown",
   "metadata": {},
   "source": [
    "Otras funciones disponibles son `floor` y `ceil`:"
   ]
  },
  {
   "cell_type": "code",
   "execution_count": 39,
   "metadata": {
    "autoscroll": false,
    "ein.hycell": false,
    "ein.tags": "worksheet-0",
    "slideshow": {
     "slide_type": "-"
    }
   },
   "outputs": [
    {
     "name": "stdout",
     "output_type": "stream",
     "text": [
      "3.963327297606011 3 4\n",
      "2.718281828459045 2 3\n"
     ]
    }
   ],
   "source": [
    "print (raiz5pi, math.floor(raiz5pi), math.ceil(raiz5pi))\n",
    "print (math.e, math.floor(math.e), math.ceil(math.e))"
   ]
  },
  {
   "cell_type": "markdown",
   "metadata": {
    "autoscroll": false,
    "ein.hycell": false,
    "ein.tags": "worksheet-0",
    "slideshow": {
     "slide_type": "-"
    }
   },
   "source": [
    "Como puede leerse en la documentación del módulo, se definen también funciones elementales:"
   ]
  },
  {
   "cell_type": "code",
   "execution_count": 40,
   "metadata": {
    "autoscroll": false,
    "ein.hycell": false,
    "ein.tags": "worksheet-0",
    "slideshow": {
     "slide_type": "-"
    }
   },
   "outputs": [
    {
     "name": "stdout",
     "output_type": "stream",
     "text": [
      "10.0 3.0\n",
      "5040 362880 3628800\n",
      "Combinatorio: C(6,2): 15.0\n"
     ]
    }
   ],
   "source": [
    "# algunas funciones elementales\n",
    "print (math.log(1024,2), math.log(27,3))\n",
    "print (math.factorial(7), math.factorial(9), math.factorial(10))\n",
    "print ('Combinatorio: C(6,2):',math.factorial(6)/(math.factorial(4)*math.factorial(2)))"
   ]
  },
  {
   "cell_type": "markdown",
   "metadata": {
    "ein.tags": "worksheet-0",
    "slideshow": {
     "slide_type": "-"
    }
   },
   "source": [
    "A veces, sólo necesitamos unas pocas funciones de un módulo. Entonces para abreviar la notación combiene importar sólo lo que vamos a usar, usando la notación:\n",
    "\n",
    "   `from xxx import yyy`"
   ]
  },
  {
   "cell_type": "code",
   "execution_count": 41,
   "metadata": {
    "autoscroll": false,
    "ein.hycell": false,
    "ein.tags": "worksheet-0",
    "slideshow": {
     "slide_type": "-"
    }
   },
   "outputs": [],
   "source": [
    "from math import sqrt, pi, log, floor"
   ]
  },
  {
   "cell_type": "code",
   "execution_count": 42,
   "metadata": {
    "autoscroll": false,
    "ein.hycell": false,
    "ein.tags": "worksheet-0",
    "slideshow": {
     "slide_type": "-"
    }
   },
   "outputs": [
    {
     "name": "stdout",
     "output_type": "stream",
     "text": [
      "10.0\n",
      "3.963327297606011 3\n"
     ]
    }
   ],
   "source": [
    "raiz5pi = sqrt(5*pi)\n",
    "print (log(1024, 2))\n",
    "print (raiz5pi, floor(raiz5pi))"
   ]
  },
  {
   "cell_type": "markdown",
   "metadata": {
    "ein.tags": "worksheet-0",
    "slideshow": {
     "slide_type": "-"
    }
   },
   "source": [
    "-----\n",
    "\n",
    "**Nota:** Para importar todas las definiciones de un módulo pueden encontrar la (perfectamente válida) notación:\n",
    "\n",
    "  `from xxx import *`\n",
    "\n",
    "donde el asterisco indica \"todo\".\n",
    "Este uso no está recomendado porque varios módulos pueden usar los mismos nombres y no sabríamos cuál estamos usando. También puede traer inconvenientes si después queremos reusar el código que estamos escribiendo.\n",
    "\n",
    "------"
   ]
  },
  {
   "cell_type": "markdown",
   "metadata": {},
   "source": [
    "Otra opción es utilizar un \"alias\" para el módulo. Esto permite mantener información del origen de los objetos sin tener que escribir el nombre completo"
   ]
  },
  {
   "cell_type": "code",
   "execution_count": 43,
   "metadata": {
    "autoscroll": false,
    "ein.hycell": false,
    "ein.tags": "worksheet-0",
    "slideshow": {
     "slide_type": "-"
    }
   },
   "outputs": [
    {
     "data": {
      "text/plain": [
       "1.7888543819998317"
      ]
     },
     "execution_count": 43,
     "metadata": {},
     "output_type": "execute_result"
    }
   ],
   "source": [
    "import math as m\n",
    "m.sqrt(3.2)"
   ]
  },
  {
   "cell_type": "markdown",
   "metadata": {},
   "source": [
    "El módulo `math` contiene funciones para trabajar con números reales"
   ]
  },
  {
   "cell_type": "code",
   "execution_count": 45,
   "metadata": {
    "autoscroll": false,
    "ein.hycell": false,
    "ein.tags": "worksheet-0",
    "slideshow": {
     "slide_type": "-"
    }
   },
   "outputs": [
    {
     "ename": "SyntaxError",
     "evalue": "unexpected EOF while parsing (<ipython-input-45-dcf65d789be2>, line 3)",
     "output_type": "error",
     "traceback": [
      "\u001b[0;36m  File \u001b[0;32m\"<ipython-input-45-dcf65d789be2>\"\u001b[0;36m, line \u001b[0;32m3\u001b[0m\n\u001b[0;31m    math.sqrt(-1)\u001b[0m\n\u001b[0m                 ^\u001b[0m\n\u001b[0;31mSyntaxError\u001b[0m\u001b[0;31m:\u001b[0m unexpected EOF while parsing\n"
     ]
    }
   ],
   "source": [
    "import math\n",
    "try:\n",
    "    math.sqrt(-1)"
   ]
  },
  {
   "cell_type": "markdown",
   "metadata": {
    "ein.tags": "worksheet-0",
    "slideshow": {
     "slide_type": "-"
    }
   },
   "source": [
    "y falla con números complejos, para ello existe el módulo [cmath](https://docs.python.org/es/3/library/cmath.html)"
   ]
  },
  {
   "cell_type": "code",
   "execution_count": 46,
   "metadata": {
    "autoscroll": false,
    "ein.hycell": false,
    "ein.tags": "worksheet-0",
    "slideshow": {
     "slide_type": "-"
    }
   },
   "outputs": [],
   "source": [
    "import cmath as c"
   ]
  },
  {
   "cell_type": "markdown",
   "metadata": {},
   "source": [
    "Ahora tenemos a nuestra disposición todas las utilidades definidas en el módulo:"
   ]
  },
  {
   "cell_type": "code",
   "execution_count": 48,
   "metadata": {
    "autoscroll": false,
    "ein.hycell": false,
    "ein.tags": "worksheet-0",
    "slideshow": {
     "slide_type": "-"
    }
   },
   "outputs": [
    {
     "name": "stdout",
     "output_type": "stream",
     "text": [
      "Usando cmath (-1)^0.5:  1j\n"
     ]
    }
   ],
   "source": [
    "print('Usando cmath (-1)^0.5: ', c.sqrt(-1))"
   ]
  },
  {
   "cell_type": "code",
   "execution_count": 49,
   "metadata": {
    "autoscroll": false,
    "ein.hycell": false,
    "ein.tags": "worksheet-0",
    "slideshow": {
     "slide_type": "-"
    }
   },
   "outputs": [
    {
     "name": "stdout",
     "output_type": "stream",
     "text": [
      "(1.8810978455418161-3.1409532491755083j)\n"
     ]
    }
   ],
   "source": [
    "print(c.cos(c.pi/3 + 2j))"
   ]
  },
  {
   "cell_type": "markdown",
   "metadata": {
    "ein.tags": "worksheet-0",
    "slideshow": {
     "slide_type": "-"
    }
   },
   "source": [
    "Si queremos calcular la fase (el ángulo que forma con el eje x) podemos usar la función phase"
   ]
  },
  {
   "cell_type": "code",
   "execution_count": 52,
   "metadata": {
    "autoscroll": false,
    "ein.hycell": false,
    "ein.tags": "worksheet-0",
    "slideshow": {
     "slide_type": "-"
    }
   },
   "outputs": [
    {
     "data": {
      "text/plain": [
       "0.7853981633974483"
      ]
     },
     "execution_count": 52,
     "metadata": {},
     "output_type": "execute_result"
    }
   ],
   "source": [
    "z = 1 + 1j\n",
    "c.phase(z)                  # Resultado en radianes"
   ]
  },
  {
   "cell_type": "code",
   "execution_count": 54,
   "metadata": {
    "autoscroll": false,
    "ein.hycell": false,
    "ein.tags": "worksheet-0",
    "slideshow": {
     "slide_type": "-"
    }
   },
   "outputs": [
    {
     "data": {
      "text/plain": [
       "45.0"
      ]
     },
     "execution_count": 54,
     "metadata": {},
     "output_type": "execute_result"
    }
   ],
   "source": [
    "math.degrees(c.phase(z))    # Resultado en grados"
   ]
  },
  {
   "cell_type": "markdown",
   "metadata": {
    "ein.tags": "worksheet-0",
    "slideshow": {
     "slide_type": "-"
    }
   },
   "source": [
    "## Disgresión: Objetos\n",
    "\n",
    "En python, cualquier elemento es un *objeto*. Todos los objetos tienen, al menos:\n",
    "\n",
    "-  un tipo,\n",
    "-  un valor,\n",
    "-  una identidad.\n",
    "\n",
    "Además, pueden tener *métodos*, es decir funciones asociadas que, habitualmente, actúan sobre el objeto que la posee. Veamos algunos ejemplos cotidianos:"
   ]
  },
  {
   "cell_type": "code",
   "execution_count": 55,
   "metadata": {
    "autoscroll": false,
    "ein.hycell": false,
    "ein.tags": "worksheet-0",
    "slideshow": {
     "slide_type": "-"
    }
   },
   "outputs": [
    {
     "name": "stdout",
     "output_type": "stream",
     "text": [
      "(1+1j) <class 'complex'>\n",
      "1.0\n",
      "1.0\n",
      "<built-in method conjugate of complex object at 0x7f2873f0bd50>\n",
      "(1-1j)\n"
     ]
    }
   ],
   "source": [
    "z = 1 + 1j\n",
    "print(z, type(z))\n",
    "print( z.real )\n",
    "print( z.imag )\n",
    "print( z.conjugate )\n",
    "print( z.conjugate() )"
   ]
  },
  {
   "cell_type": "markdown",
   "metadata": {
    "ein.tags": "worksheet-0",
    "slideshow": {
     "slide_type": "-"
    }
   },
   "source": [
    "Los números complejos tienen un valor (en este caso $1 + i$), pero además tienen más información (su parte real, imaginaria) y una función que nos da su conjugado.\n",
    "\n",
    "Los números enteros, más simples, también son objetos, con propiedades y métodos:"
   ]
  },
  {
   "cell_type": "code",
   "execution_count": 56,
   "metadata": {
    "autoscroll": false,
    "ein.hycell": false,
    "ein.tags": "worksheet-0",
    "slideshow": {
     "slide_type": "-"
    }
   },
   "outputs": [
    {
     "name": "stdout",
     "output_type": "stream",
     "text": [
      "<class 'int'>\n"
     ]
    },
    {
     "data": {
      "text/plain": [
       "2"
      ]
     },
     "execution_count": 56,
     "metadata": {},
     "output_type": "execute_result"
    }
   ],
   "source": [
    "a = 3                           # Números enteros\n",
    "print(type(a))\n",
    "a.bit_length()"
   ]
  },
  {
   "cell_type": "code",
   "execution_count": 57,
   "metadata": {
    "autoscroll": false,
    "ein.hycell": false,
    "ein.tags": "worksheet-0",
    "slideshow": {
     "slide_type": "-"
    }
   },
   "outputs": [
    {
     "name": "stdout",
     "output_type": "stream",
     "text": [
      "<class 'int'>\n"
     ]
    },
    {
     "data": {
      "text/plain": [
       "14"
      ]
     },
     "execution_count": 57,
     "metadata": {},
     "output_type": "execute_result"
    }
   ],
   "source": [
    "a = 12312\n",
    "print(type(a))\n",
    "a.bit_length()"
   ]
  },
  {
   "cell_type": "markdown",
   "metadata": {
    "ein.tags": "worksheet-0",
    "slideshow": {
     "slide_type": "-"
    }
   },
   "source": [
    "En estos casos, usamos el método `bit_length` de los enteros, que nos dice cuántos bits son necesarios para representar el número. "
   ]
  },
  {
   "cell_type": "markdown",
   "metadata": {},
   "source": [
    "## Ejercicios\n",
    "\n",
    "1. Para el número complejo $z= 1 + 0.5 i$\n",
    "    * Calcular $z^2, z^3, z^4, z^5.$\n",
    "    * Calcular los complejos conjugados de $z$, $z^2$ y $z^3$.\n",
    "    * Escribir $z$, $z^2$ y $z^3$ en coordenadas polares.\n",
    "   \n",
    "   (Recuerde que puede utilizar los módulos `math` y/o `cmath`) "
   ]
  }
 ],
 "metadata": {
  "kernelspec": {
   "display_name": "Python 3",
   "language": "python",
   "name": "python3"
  },
  "language_info": {
   "codemirror_mode": {
    "name": "ipython",
    "version": 3
   },
   "file_extension": ".py",
   "mimetype": "text/x-python",
   "name": "python",
   "nbconvert_exporter": "python",
   "pygments_lexer": "ipython3",
   "version": "3.9.1"
  },
  "name": "01_introd_python.ipynb",
  "toc": {
   "base_numbering": 1,
   "nav_menu": {
    "height": "519.933px",
    "width": "251.167px"
   },
   "number_sections": true,
   "sideBar": true,
   "skip_h1_title": false,
   "title_cell": "Contenidos",
   "title_sidebar": "Contenidos",
   "toc_cell": false,
   "toc_position": null,
   "toc_section_display": true,
   "toc_window_display": false
  }
 },
 "nbformat": 4,
 "nbformat_minor": 4
}
