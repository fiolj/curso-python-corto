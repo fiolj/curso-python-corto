{
 "cells": [
  {
   "cell_type": "markdown",
   "metadata": {
    "ein.tags": "worksheet-0",
    "slideshow": {
     "slide_type": "-"
    }
   },
   "source": [
    "# Clase 2: Python en Ciencia e ingeniería  <a class=\"tocSkip\">\n",
    "\n",
    "Dos paquetes que van a resultar muy importantes para nosotros son los paquetes **Numpy** y **Matplotlib**. Como con todos los módulos, se cargan utilizando la palabra `import`, tal como hicimos en los ejemplos anteriores.\n",
    "\n",
    "Estos módulos definen objetos y funciones adecuadas para el trabajo científico-tecnológico:\n",
    "\n",
    "- **Numpy** define el tipo **array** y toda la estructura para trabajar con ellos (y muchas otras cosas)\n",
    "- **Matplotlib** define la maquinaria para hacer gráficos en dos dimensiones (principalmente), y en tres dimensiones.\n",
    "\n",
    "Existen variantes en la manera de importar los módulos que son \"equivalentes\". En este caso le vamos a dar un alias que sea más corto de tipear. Después podemos utilizar sus funciones y definiciones.\n",
    "\n",
    "## Introducción: Listas y *arrays*"
   ]
  },
  {
   "cell_type": "code",
   "execution_count": 83,
   "metadata": {
    "autoscroll": false,
    "collapsed": false,
    "ein.hycell": false,
    "ein.tags": "worksheet-0",
    "slideshow": {
     "slide_type": "-"
    }
   },
   "outputs": [],
   "source": [
    "# Esta es la manera más usada de importar estos dos módulos. \n",
    "import numpy as np\n",
    "import matplotlib.pyplot as plt # importamos el submódulo pyplot"
   ]
  },
  {
   "cell_type": "code",
   "execution_count": 84,
   "metadata": {
    "autoscroll": false,
    "collapsed": false,
    "ein.hycell": false,
    "ein.tags": "worksheet-0",
    "slideshow": {
     "slide_type": "-"
    }
   },
   "outputs": [],
   "source": [
    "L = list(range(0,6))\n",
    "x = np.arange(0,6)\n",
    "y = np.sin(x)"
   ]
  },
  {
   "cell_type": "code",
   "execution_count": 85,
   "metadata": {
    "autoscroll": false,
    "collapsed": false,
    "ein.hycell": false,
    "ein.tags": "worksheet-0",
    "slideshow": {
     "slide_type": "-"
    }
   },
   "outputs": [
    {
     "data": {
      "text/plain": [
       "(list, numpy.ndarray)"
      ]
     },
     "execution_count": 85,
     "metadata": {},
     "output_type": "execute_result"
    }
   ],
   "source": [
    "type(L), type(x)"
   ]
  },
  {
   "cell_type": "code",
   "execution_count": 86,
   "metadata": {
    "autoscroll": false,
    "collapsed": false,
    "ein.hycell": false,
    "ein.tags": "worksheet-0",
    "slideshow": {
     "slide_type": "-"
    }
   },
   "outputs": [
    {
     "data": {
      "text/plain": [
       "[0, 1, 2, 3, 4, 5]"
      ]
     },
     "execution_count": 86,
     "metadata": {},
     "output_type": "execute_result"
    }
   ],
   "source": [
    "L"
   ]
  },
  {
   "cell_type": "code",
   "execution_count": 87,
   "metadata": {
    "autoscroll": false,
    "collapsed": false,
    "ein.hycell": false,
    "ein.tags": "worksheet-0",
    "slideshow": {
     "slide_type": "-"
    }
   },
   "outputs": [
    {
     "data": {
      "text/plain": [
       "array([0, 1, 2, 3, 4, 5])"
      ]
     },
     "execution_count": 87,
     "metadata": {},
     "output_type": "execute_result"
    }
   ],
   "source": [
    "x"
   ]
  },
  {
   "cell_type": "markdown",
   "metadata": {
    "ein.tags": "worksheet-0",
    "slideshow": {
     "slide_type": "-"
    }
   },
   "source": [
    "Como vemos,\n",
    "- `L` es una **lista** con los números naturales de 0 a 5\n",
    "- `x` es un **array** con los mismos números.\n",
    "\n",
    "Nos referiremos al tipo **array**, o **numpy.ndarray** (o np.array, np.ndarray), definido en el módulo **Numpy**.\n",
    "Para poder acceder, crear, y usar estos tipos debemos importar el módulo.\n",
    "\n",
    "Veamos cómo se usan ambos tipos:"
   ]
  },
  {
   "cell_type": "code",
   "execution_count": 88,
   "metadata": {
    "autoscroll": false,
    "collapsed": false,
    "ein.hycell": false,
    "ein.tags": "worksheet-0",
    "slideshow": {
     "slide_type": "-"
    }
   },
   "outputs": [
    {
     "data": {
      "text/plain": [
       "[0, 1, 2, 3, 4, 5, 0, 1, 2, 3, 4, 5, 0, 1, 2, 3, 4, 5]"
      ]
     },
     "execution_count": 88,
     "metadata": {},
     "output_type": "execute_result"
    }
   ],
   "source": [
    "# Multiplicación de una lista por un entero\n",
    "3*L"
   ]
  },
  {
   "cell_type": "code",
   "execution_count": 89,
   "metadata": {
    "autoscroll": false,
    "collapsed": false,
    "ein.hycell": false,
    "ein.tags": "worksheet-0",
    "slideshow": {
     "slide_type": "-"
    }
   },
   "outputs": [
    {
     "data": {
      "text/plain": [
       "[0, 1, 2, 3, 4, 5, 0, 1, 2, 3, 4, 5]"
      ]
     },
     "execution_count": 89,
     "metadata": {},
     "output_type": "execute_result"
    }
   ],
   "source": [
    "# Suma de dos listas\n",
    "L + L"
   ]
  },
  {
   "cell_type": "code",
   "execution_count": 90,
   "metadata": {
    "autoscroll": false,
    "collapsed": false,
    "ein.hycell": false,
    "ein.tags": "worksheet-0",
    "slideshow": {
     "slide_type": "-"
    }
   },
   "outputs": [
    {
     "data": {
      "text/plain": [
       "array([ 0,  3,  6,  9, 12, 15])"
      ]
     },
     "execution_count": 90,
     "metadata": {},
     "output_type": "execute_result"
    }
   ],
   "source": [
    "# Multiplicación de un array por un número\n",
    "3*x"
   ]
  },
  {
   "cell_type": "code",
   "execution_count": 91,
   "metadata": {
    "autoscroll": false,
    "collapsed": false,
    "ein.hycell": false,
    "ein.tags": "worksheet-0",
    "slideshow": {
     "slide_type": "-"
    }
   },
   "outputs": [
    {
     "data": {
      "text/plain": [
       "array([ 0,  2,  4,  6,  8, 10])"
      ]
     },
     "execution_count": 91,
     "metadata": {},
     "output_type": "execute_result"
    }
   ],
   "source": [
    "# Suma de dos arrays\n",
    "x + x"
   ]
  },
  {
   "cell_type": "markdown",
   "metadata": {
    "ein.tags": "worksheet-0",
    "slideshow": {
     "slide_type": "-"
    }
   },
   "source": [
    "Mientras que la suma entre listas está definida (igual que para strings) como la concatenación, para arrays la suma (ytodas las operaciones) se definen elemento a elemento.\n",
    "\n",
    "## Visualización usando **Matplotlib**"
   ]
  },
  {
   "cell_type": "code",
   "execution_count": 92,
   "metadata": {
    "autoscroll": false,
    "collapsed": false,
    "ein.hycell": false,
    "ein.tags": "worksheet-0",
    "slideshow": {
     "slide_type": "-"
    }
   },
   "outputs": [
    {
     "data": {
      "image/png": "[encoded data removed]",
      "text/plain": [
       "<Figure size 432x288 with 1 Axes>"
      ]
     },
     "metadata": {},
     "output_type": "display_data"
    }
   ],
   "source": [
    "plt.plot(L,'o-')\n",
    "plt.xlabel('Índice')\n",
    "plt.ylabel('Valores de lista');"
   ]
  },
  {
   "cell_type": "code",
   "execution_count": 93,
   "metadata": {
    "autoscroll": false,
    "collapsed": false,
    "ein.hycell": false,
    "ein.tags": "worksheet-0",
    "slideshow": {
     "slide_type": "-"
    }
   },
   "outputs": [
    {
     "data": {
      "image/png": "[encoded data removed]",
      "text/plain": [
       "<Figure size 432x288 with 1 Axes>"
      ]
     },
     "metadata": {},
     "output_type": "display_data"
    }
   ],
   "source": [
    "plt.plot(x,'o-')\n",
    "plt.xlabel('Índice')\n",
    "plt.ylabel('Valores de array');"
   ]
  },
  {
   "cell_type": "code",
   "execution_count": 94,
   "metadata": {
    "autoscroll": false,
    "collapsed": false,
    "ein.hycell": false,
    "ein.tags": "worksheet-0",
    "slideshow": {
     "slide_type": "-"
    }
   },
   "outputs": [
    {
     "data": {
      "image/png": "[encoded data removed]",
      "text/plain": [
       "<Figure size 432x288 with 1 Axes>"
      ]
     },
     "metadata": {},
     "output_type": "display_data"
    }
   ],
   "source": [
    "plt.plot(x, x**2/3,'o-')\n",
    "plt.xlabel('x', fontsize='x-large')\n",
    "plt.ylabel('$x^{2}/3$', fontsize='x-large');"
   ]
  },
  {
   "cell_type": "markdown",
   "metadata": {
    "ein.tags": "worksheet-0",
    "slideshow": {
     "slide_type": "-"
    }
   },
   "source": [
    "La función `plot()`, definida en el submódulo `pyplot` de `matplotlib`, produce el gráfico.\n",
    "En el modo interactivo el gráfico se muestra inmediatamente, en caso contrario se muestra cuando se da el comando:\n",
    "`plt.show()`. Notar además la capacidad de agregar texto en el formato deseado (incluso matemático)\n",
    "\n",
    "En las primeras dos figuras, graficamos sólo un conjunto de datos (`L` y `x` respectivamente). En ese caso la función `plot` interpreta el argumento como los valores del eje $y$, y utiliza para el eje $x$ el índice del argumento.\n",
    "\n",
    "En la última figura le dimos explícitamente dos *arrays*, el primero corresponde al eje $x$ y el segundo al eje $y$.\n",
    "\n",
    "## Creación de **arrays**\n",
    "Para crear arrays tenemos varias funciones definidas en el módulo **Numpy**. El principal es el constructor `array`, pero existen otros. Veamos algunos ejemplos:\n",
    "\n",
    "### Constructor `array()`"
   ]
  },
  {
   "cell_type": "code",
   "execution_count": 95,
   "metadata": {
    "autoscroll": false,
    "collapsed": false,
    "ein.hycell": false,
    "ein.tags": "worksheet-0",
    "slideshow": {
     "slide_type": "-"
    }
   },
   "outputs": [
    {
     "data": {
      "text/plain": [
       "array([ 1. , 34.4,  5.1,  2. , -3. ,  4. ])"
      ]
     },
     "execution_count": 95,
     "metadata": {},
     "output_type": "execute_result"
    }
   ],
   "source": [
    "a = np.array([1, 34.4, 5.1, 2, -3, 12-8])\n",
    "a"
   ]
  },
  {
   "cell_type": "markdown",
   "metadata": {
    "ein.tags": "worksheet-0",
    "slideshow": {
     "slide_type": "-"
    }
   },
   "source": [
    "Como vemos, podemos crear un array a partir de una lista (u otros iterables), usando el constructor `array()`.\n",
    "Una característica importante de los *array* es que todos sus elementos son del mismo tipo (en las listas pueden ser diferentes).\n",
    "\n",
    "De la misma manera podemos crear *arrays* de más de una dimensión. Por ejemplo para dos dimensiones:"
   ]
  },
  {
   "cell_type": "code",
   "execution_count": 96,
   "metadata": {
    "autoscroll": false,
    "collapsed": false,
    "ein.hycell": false,
    "ein.tags": "worksheet-0",
    "slideshow": {
     "slide_type": "-"
    }
   },
   "outputs": [
    {
     "name": "stdout",
     "output_type": "stream",
     "text": [
      "[[ 1.   2.   3. ]\n",
      " [ 0.2 -0.2 -1. ]\n",
      " [-1.   2.   9. ]\n",
      " [ 0.   0.5  0. ]]\n"
     ]
    }
   ],
   "source": [
    "L1 = [ [1, 2, 3], [.2, -.2, -1], [-1, 2, 9], [0, 0.5, 0] ]\n",
    "\n",
    "A = np.array(L1)\n",
    "print(A)"
   ]
  },
  {
   "cell_type": "code",
   "execution_count": 97,
   "metadata": {
    "autoscroll": false,
    "collapsed": false,
    "ein.hycell": false,
    "ein.tags": "worksheet-0",
    "slideshow": {
     "slide_type": "-"
    }
   },
   "outputs": [
    {
     "name": "stdout",
     "output_type": "stream",
     "text": [
      "Dimensiones de A: 2\n",
      "Forma de A      : (4, 3)\n",
      "Longitud de A   : 4\n"
     ]
    }
   ],
   "source": [
    "print('Dimensiones de A:', A.ndim)\n",
    "print('Forma de A      :', A.shape)\n",
    "print('Longitud de A   :', len(A))\n"
   ]
  },
  {
   "cell_type": "markdown",
   "metadata": {
    "ein.tags": "worksheet-0",
    "slideshow": {
     "slide_type": "-"
    }
   },
   "source": [
    "### Creación de datos equiespaciados\n",
    "\n",
    "Para obtener datos equiespaciados hay dos funciones complementarias"
   ]
  },
  {
   "cell_type": "code",
   "execution_count": 98,
   "metadata": {
    "autoscroll": false,
    "collapsed": false,
    "ein.hycell": false,
    "ein.tags": "worksheet-0",
    "slideshow": {
     "slide_type": "-"
    }
   },
   "outputs": [
    {
     "data": {
      "text/plain": [
       "array([ True,  True,  True,  True,  True,  True,  True,  True,  True,\n        True,  True,  True,  True,  True,  True,  True,  True,  True,\n        True])"
      ]
     },
     "execution_count": 98,
     "metadata": {},
     "output_type": "execute_result"
    }
   ],
   "source": [
    "a1 = np.arange(0,190,10)\n",
    "a2 = np.linspace(0,180,19)\n",
    "a1 == a2"
   ]
  },
  {
   "cell_type": "code",
   "execution_count": 99,
   "metadata": {
    "autoscroll": false,
    "collapsed": false,
    "ein.hycell": false,
    "ein.tags": "worksheet-0",
    "slideshow": {
     "slide_type": "-"
    }
   },
   "outputs": [
    {
     "data": {
      "text/plain": [
       "array([  0,  10,  20,  30,  40,  50,  60,  70,  80,  90, 100, 110, 120,\n       130, 140, 150, 160, 170, 180])"
      ]
     },
     "execution_count": 99,
     "metadata": {},
     "output_type": "execute_result"
    }
   ],
   "source": [
    "a1"
   ]
  },
  {
   "cell_type": "markdown",
   "metadata": {
    "ein.tags": "worksheet-0",
    "slideshow": {
     "slide_type": "-"
    }
   },
   "source": [
    "Como vemos, ambos pueden dar resultados similares, y es una cuestión de conveniencia cual utilizar. El uso es:\n",
    "\n",
    "```python\n",
    "np.arange([start,] stop[, step,], dtype=None)\n",
    "np.linspace(start, stop, num=50, endpoint=True, retstep=False, dtype=None)\n",
    "```\n",
    "\n",
    "Mientras que a `arange()` le decimos cuál es el paso a utilizar, a `linspace()` debemos (podemos) darle como tercer argumento el número de valores que queremos.\n",
    "\n",
    "Existe también una función para crear un *array* de datos logarítmicamente equiespaciados:\n",
    "```python\n",
    "np.logspace(start, stop, num=50, endpoint=True, base=10.0, dtype=None)\n",
    "```"
   ]
  },
  {
   "cell_type": "code",
   "execution_count": 100,
   "metadata": {
    "autoscroll": false,
    "collapsed": false,
    "ein.hycell": false,
    "ein.tags": "worksheet-0",
    "slideshow": {
     "slide_type": "slide"
    }
   },
   "outputs": [
    {
     "data": {
      "text/plain": [
       "array([  1.        ,   1.66810054,   2.7825594 ,   4.64158883,\n         7.74263683,  12.91549665,  21.5443469 ,  35.93813664,\n        59.94842503, 100.        ])"
      ]
     },
     "execution_count": 100,
     "metadata": {},
     "output_type": "execute_result"
    }
   ],
   "source": [
    "np.logspace(0,2,10)"
   ]
  },
  {
   "cell_type": "markdown",
   "metadata": {
    "ein.tags": "worksheet-0",
    "slideshow": {
     "slide_type": "-"
    }
   },
   "source": [
    "### Otras maneras de crear *arrays*\n",
    "\n",
    "Existen otras funciones para crear arrays en forma conveniente:\n"
   ]
  },
  {
   "cell_type": "code",
   "execution_count": 101,
   "metadata": {
    "autoscroll": false,
    "collapsed": false,
    "ein.hycell": false,
    "ein.tags": "worksheet-0",
    "slideshow": {
     "slide_type": "-"
    }
   },
   "outputs": [],
   "source": [
    "e1 = np.empty(3)                # empty, 1D\n",
    "e2 = np.empty((3,2))            # empty, 2D\n",
    "z1 = np.zeros(3)                # ceros, 1D\n",
    "z2 = np.zeros((3,2))            # ceros, 2D\n",
    "o1 = np.ones(3)                 # unos, 1D\n",
    "o2 = np.ones((3,2))             # unos, 2D\n",
    "r1 = np.random.random(3)        # random, 1D\n",
    "r2 = np.random.random((3,2))    # random, 2D"
   ]
  },
  {
   "cell_type": "code",
   "execution_count": 102,
   "metadata": {
    "autoscroll": false,
    "collapsed": false,
    "ein.hycell": false,
    "ein.tags": "worksheet-0",
    "slideshow": {
     "slide_type": "-"
    }
   },
   "outputs": [
    {
     "name": "stdout",
     "output_type": "stream",
     "text": [
      "vacíos:\n",
      " e1= "
     ]
    },
    {
     "name": "stdout",
     "output_type": "stream",
     "text": [
      "[0. 0. 1.] \n",
      "e2=\n",
      " [[ 1.  34.4]\n",
      " [ 5.1  2. ]\n",
      " [ 3.   4. ]]\n"
     ]
    }
   ],
   "source": [
    "print('vacíos:\\n e1=', e1,'\\ne2=\\n', e2)"
   ]
  },
  {
   "cell_type": "code",
   "execution_count": 103,
   "metadata": {
    "autoscroll": false,
    "collapsed": false,
    "ein.hycell": false,
    "ein.tags": "worksheet-0",
    "slideshow": {
     "slide_type": "-"
    }
   },
   "outputs": [
    {
     "name": "stdout",
     "output_type": "stream",
     "text": [
      "ceros:\n",
      " z1= [0. 0. 0.] \n",
      "z2=\n",
      " [[0. 0.]\n",
      " [0. 0.]\n",
      " [0. 0.]]\n"
     ]
    }
   ],
   "source": [
    "print('ceros:\\n z1=', z1,'\\nz2=\\n', z2)"
   ]
  },
  {
   "cell_type": "code",
   "execution_count": 104,
   "metadata": {
    "autoscroll": false,
    "collapsed": false,
    "ein.hycell": false,
    "ein.tags": "worksheet-0",
    "slideshow": {
     "slide_type": "-"
    }
   },
   "outputs": [
    {
     "name": "stdout",
     "output_type": "stream",
     "text": [
      "unos:\n",
      " o1= "
     ]
    },
    {
     "name": "stdout",
     "output_type": "stream",
     "text": [
      "[1. 1. 1.] \n",
      "o2=\n",
      " [[1. 1.]\n",
      " [1. 1.]\n",
      " [1. 1.]]\n"
     ]
    }
   ],
   "source": [
    "print('unos:\\n o1=', o1,'\\no2=\\n', o2)"
   ]
  },
  {
   "cell_type": "code",
   "execution_count": 105,
   "metadata": {
    "autoscroll": false,
    "collapsed": false,
    "ein.hycell": false,
    "ein.tags": "worksheet-0",
    "slideshow": {
     "slide_type": "-"
    }
   },
   "outputs": [
    {
     "name": "stdout",
     "output_type": "stream",
     "text": [
      "random:\n",
      " r1= [0.72252173 0.77211307 0.13742484] \n",
      "r2=\n",
      " [[0.91520481 0.53285458]\n",
      " [0.4369261  0.67691652]\n",
      " [0.8631281  0.91019323]]\n"
     ]
    }
   ],
   "source": [
    "print('random:\\n r1=', r1,'\\nr2=\\n', r2)"
   ]
  },
  {
   "cell_type": "markdown",
   "metadata": {
    "ein.tags": "worksheet-0",
    "slideshow": {
     "slide_type": "-"
    }
   },
   "source": [
    "## Acceso a elementos de **arrays**\n",
    "\n",
    "Para acceder a elementos individuales o *subarrays* usamos la misma notación que para listas o strings:"
   ]
  },
  {
   "cell_type": "code",
   "execution_count": 106,
   "metadata": {
    "autoscroll": false,
    "collapsed": false,
    "ein.hycell": false,
    "ein.tags": "worksheet-0",
    "slideshow": {
     "slide_type": "-"
    }
   },
   "outputs": [
    {
     "name": "stdout",
     "output_type": "stream",
     "text": [
      "vec = "
     ]
    },
    {
     "name": "stdout",
     "output_type": "stream",
     "text": [
      "[ 0  1  2  3  4  5  6  7  8  9 10]\n",
      "Primer elemento de vec  = 0\n",
      "Segundo elemento de vec = 1\n",
      "Tercer elemento de vec  = 2\n",
      "Último elemento de vec  = 10\n"
     ]
    }
   ],
   "source": [
    "vec  = np.arange(11)\n",
    "print('vec =', vec)\n",
    "print('Primer elemento de vec  =', vec[0])\n",
    "print('Segundo elemento de vec =', vec[1])\n",
    "print('Tercer elemento de vec  =', vec[2])\n",
    "print('Último elemento de vec  =', vec[-1])"
   ]
  },
  {
   "cell_type": "code",
   "execution_count": 107,
   "metadata": {
    "autoscroll": false,
    "collapsed": false,
    "ein.hycell": false,
    "ein.tags": "worksheet-0",
    "slideshow": {
     "slide_type": "-"
    }
   },
   "outputs": [
    {
     "name": "stdout",
     "output_type": "stream",
     "text": [
      "[[ 0  1  2  3  4  5  6  7  8  9 10]\n",
      " [11 12 13 14 15 16 17 18 19 20 21]\n",
      " [22 23 24 25 26 27 28 29 30 31 32]\n",
      " [33 34 35 36 37 38 39 40 41 42 43]\n",
      " [44 45 46 47 48 49 50 51 52 53 54]]\n"
     ]
    }
   ],
   "source": [
    "# Para un array bidimensional\n",
    "X = np.arange(55).reshape((5,-1))\n",
    "print(X)"
   ]
  },
  {
   "cell_type": "code",
   "execution_count": 108,
   "metadata": {
    "autoscroll": false,
    "collapsed": false,
    "ein.hycell": false,
    "ein.tags": "worksheet-0",
    "slideshow": {
     "slide_type": "-"
    }
   },
   "outputs": [
    {
     "name": "stdout",
     "output_type": "stream",
     "text": [
      "Primer elemento de X = 0\n",
      "Fila 0, Columna 3 de X = 3\n",
      "Primera fila de X = [ 0  1  2  3  4  5  6  7  8  9 10]\n",
      "Última fila de X = [44 45 46 47 48 49 50 51 52 53 54]\n"
     ]
    }
   ],
   "source": [
    "print('Primer elemento de X =', X[0,0])\n",
    "print('Fila 0, Columna 3 de X =', X[0,3])\n",
    "print('Primera fila de X =', X[0])\n",
    "print('Última fila de X =', X[-1])"
   ]
  },
  {
   "cell_type": "markdown",
   "metadata": {
    "ein.tags": "worksheet-0",
    "slideshow": {
     "slide_type": "-"
    }
   },
   "source": [
    "Para seleccionar partes de un array se usa la notación `[i:f:p]`. Entre corchetes se indican `i`nicio, `f`inal, `p`asoseparadas por `:`. Las tres partes son opcionales, veamos que significa:"
   ]
  },
  {
   "cell_type": "code",
   "execution_count": 109,
   "metadata": {
    "autoscroll": false,
    "collapsed": false,
    "ein.hycell": false,
    "ein.tags": "worksheet-0",
    "slideshow": {
     "slide_type": "-"
    }
   },
   "outputs": [
    {
     "name": "stdout",
     "output_type": "stream",
     "text": [
      "Primeros tres elementos de vec = [0 1 2]\n",
      "Primeros tres elementos de vec = [0 1 2]\n",
      "Primeros tres elementos de vec = [0 1 2]\n",
      "Elementos 4 a 7 de vec = [4 5 6]\n",
      "Elemento por medio de vec = [ 0  2  4  6  8 10]\n",
      "Elemento por medio de vec, desde atrás = [10  8  6  4  2  0]\n"
     ]
    }
   ],
   "source": [
    "print('Primeros tres elementos de vec =', vec[0:3:1])\n",
    "print('Primeros tres elementos de vec =', vec[0:3])\n",
    "print('Primeros tres elementos de vec =', vec[:3])\n",
    "print('Elementos 4 a 7 de vec =', vec[4:7])\n",
    "print('Elemento por medio de vec =', vec[::2])\n",
    "print('Elemento por medio de vec, desde atrás =', vec[::-2])"
   ]
  },
  {
   "cell_type": "code",
   "execution_count": 110,
   "metadata": {
    "autoscroll": false,
    "collapsed": false,
    "ein.hycell": false,
    "ein.tags": "worksheet-0",
    "slideshow": {
     "slide_type": "-"
    }
   },
   "outputs": [
    {
     "name": "stdout",
     "output_type": "stream",
     "text": [
      "Segunda columna de X = [ 1 12 23 34 45]\n",
      "Segunda columna de X = [ 1 12 23 34 45]\n",
      "Segunda columna de X = "
     ]
    },
    {
     "name": "stdout",
     "output_type": "stream",
     "text": [
      "[ 1 12 23 34 45]\n",
      "Última  columna de X = [10 21 32 43 54]\n"
     ]
    }
   ],
   "source": [
    "print('Segunda columna de X =', X[0:5,1])\n",
    "print('Segunda columna de X =', X[0:,1])\n",
    "print('Segunda columna de X =', X[:,1])\n",
    "print('Última  columna de X =', X[:,-1])"
   ]
  },
  {
   "cell_type": "markdown",
   "metadata": {
    "ein.tags": "worksheet-0",
    "slideshow": {
     "slide_type": "-"
    }
   },
   "source": [
    "![](figuras/numpy_indexing.png) "
   ]
  },
  {
   "cell_type": "markdown",
   "metadata": {
    "ein.tags": "worksheet-0",
    "slideshow": {
     "slide_type": "-"
    }
   },
   "source": [
    "## Operaciones entre **arrays**\n",
    "\n",
    "Todas las operaciones entre arrays (sumas, multiplicaciones, divisiones, etc), así como con números se realizan \"elemento a elemento\""
   ]
  },
  {
   "cell_type": "code",
   "execution_count": 111,
   "metadata": {
    "autoscroll": false,
    "collapsed": false,
    "ein.hycell": false,
    "ein.tags": "worksheet-0",
    "slideshow": {
     "slide_type": "-"
    }
   },
   "outputs": [
    {
     "name": "stdout",
     "output_type": "stream",
     "text": [
      "x= [0.   0.25 0.5  0.75 1.  ]\n",
      "y= [1. 1. 1. 1. 1.]\n"
     ]
    }
   ],
   "source": [
    "x = np.linspace(0,1,5)          # Equiespaciado entre 0 y 1\n",
    "y = np.ones(5)\n",
    "print('x=',x)\n",
    "print('y=',y)"
   ]
  },
  {
   "cell_type": "code",
   "execution_count": 112,
   "metadata": {
    "autoscroll": false,
    "collapsed": false,
    "ein.hycell": false,
    "ein.tags": "worksheet-0",
    "slideshow": {
     "slide_type": "-"
    }
   },
   "outputs": [
    {
     "name": "stdout",
     "output_type": "stream",
     "text": [
      "y = 2*y/3 - 1/3 = [0.33333333 0.33333333 0.33333333 0.33333333 0.33333333]\n"
     ]
    }
   ],
   "source": [
    "# Multiplicación, división y suma con escalares\n",
    "y = 2*y/3 - 1/3\n",
    "print(\"y = 2*y/3 - 1/3 =\", y)"
   ]
  },
  {
   "cell_type": "code",
   "execution_count": 113,
   "metadata": {
    "autoscroll": false,
    "collapsed": false,
    "ein.hycell": false,
    "ein.tags": "worksheet-0",
    "slideshow": {
     "slide_type": "-"
    }
   },
   "outputs": [
    {
     "name": "stdout",
     "output_type": "stream",
     "text": [
      "z = 2*x + y  = [0.33333333 0.83333333 1.33333333 1.83333333 2.33333333]\n"
     ]
    }
   ],
   "source": [
    "# Combinación lineal\n",
    "z = 2*x + y               \n",
    "print('z = 2*x + y  =', z)"
   ]
  },
  {
   "cell_type": "code",
   "execution_count": 114,
   "metadata": {
    "autoscroll": false,
    "collapsed": false,
    "ein.hycell": false,
    "ein.tags": "worksheet-0",
    "slideshow": {
     "slide_type": "-"
    }
   },
   "outputs": [
    {
     "name": "stdout",
     "output_type": "stream",
     "text": [
      "y * z = [0.11111111 0.27777778 0.44444444 0.61111111 0.77777778]\n"
     ]
    }
   ],
   "source": [
    "# Multiplicación de dos arrays\n",
    "print('y * z =', y * z )"
   ]
  },
  {
   "cell_type": "code",
   "execution_count": 115,
   "metadata": {
    "autoscroll": false,
    "collapsed": false,
    "ein.hycell": false,
    "ein.tags": "worksheet-0",
    "slideshow": {
     "slide_type": "-"
    }
   },
   "outputs": [
    {
     "name": "stdout",
     "output_type": "stream",
     "text": [
      "y / z = [1.         0.4        0.25       0.18181818 0.14285714]\n"
     ]
    }
   ],
   "source": [
    "# División de dos arrays\n",
    "print('y / z =', y / z )"
   ]
  },
  {
   "cell_type": "code",
   "execution_count": 116,
   "metadata": {
    "autoscroll": false,
    "collapsed": false,
    "ein.hycell": false,
    "ein.tags": "worksheet-0",
    "slideshow": {
     "slide_type": "-"
    }
   },
   "outputs": [
    {
     "name": "stdout",
     "output_type": "stream",
     "text": [
      "(x+2)^z = [ 1.25992105  1.96555605  3.39302202  6.38915276 12.98024613]\n"
     ]
    }
   ],
   "source": [
    "# Elevación a potencia\n",
    "print('(x+2)^z =', (x+2)**z )"
   ]
  },
  {
   "cell_type": "code",
   "execution_count": 117,
   "metadata": {
    "autoscroll": false,
    "collapsed": false,
    "ein.hycell": false,
    "ein.tags": "worksheet-0",
    "slideshow": {
     "slide_type": "-"
    }
   },
   "outputs": [
    {
     "name": "stdout",
     "output_type": "stream",
     "text": [
      "z= [0.33333333 0.83333333 1.33333333 1.83333333 2.33333333]\n",
      "x= [0.   0.25 0.5  0.75 1.  ]\n",
      "y < x = [False False  True  True  True]\n",
      "y < z = [False  True  True  True  True]\n",
      "y > x = [ True  True False False False]\n",
      "y > z = [False False False False False]\n",
      "y >= z = [ True False False False False]\n",
      "y == z = [ True False False False False]\n",
      "y != z = [False  True  True  True  True]\n"
     ]
    }
   ],
   "source": [
    "# Comparación entre arrays\n",
    "print('z=',z)\n",
    "print('x=',x)\n",
    "print ('y < x =', y < x)        # menor\n",
    "print ('y < z =', y < z)        # menor\n",
    "print ('y > x =', y > x)        # mayor\n",
    "print ('y > z =', y > z)        # mayor\n",
    "print ('y >= z =', y >= z)      # mayor o igual\n",
    "print ('y == z =', y == z)      # igual\n",
    "print ('y != z =', y != z)      # diferente"
   ]
  },
  {
   "cell_type": "markdown",
   "metadata": {
    "ein.tags": "worksheet-0",
    "slideshow": {
     "slide_type": "-"
    }
   },
   "source": [
    "## Funciones aplicadas a *arrays*\n",
    "\n",
    "**Numpy** tiene funciones que están definidas para actuar tanto sobre números escalares como sobre *arrays*"
   ]
  },
  {
   "cell_type": "code",
   "execution_count": 118,
   "metadata": {
    "autoscroll": false,
    "collapsed": false,
    "ein.hycell": false,
    "ein.tags": "worksheet-0",
    "slideshow": {
     "slide_type": "-"
    }
   },
   "outputs": [
    {
     "name": "stdout",
     "output_type": "stream",
     "text": [
      "z= [0.33333333 0.83333333 1.33333333 1.83333333 2.33333333]\n",
      "sin(pi/4) = 0.7071067811865475\n",
      "sin(z) = [0.3271947  0.74017685 0.9719379  0.96573465 0.72308588]\n",
      "cos(z) = [ 0.94495695  0.67241224  0.23523757 -0.25953146 -0.69075814]\n",
      "log(z) = [-1.09861229 -0.18232156  0.28768207  0.6061358   0.84729786]\n",
      "log10(z) = "
     ]
    },
    {
     "name": "stdout",
     "output_type": "stream",
     "text": [
      "[-0.47712125 -0.07918125  0.12493874  0.26324143  0.36797679]\n",
      "arctan(z) = [0.32175055 0.69473828 0.92729522 1.07144961 1.16590454]\n",
      "arctan2(z,x) ="
     ]
    },
    {
     "name": "stdout",
     "output_type": "stream",
     "text": [
      " [1.57079633 1.27933953 1.21202566 1.18247761 1.16590454]\n",
      "tanh(z) = [0.32151274 0.68226179 0.87006166 0.95015115 0.98136808]\n",
      "cosh(z) = [1.05607187 1.36778705 2.02863252 3.20729035 5.20461523]\n"
     ]
    }
   ],
   "source": [
    "print('z=',z)\n",
    "print('sin(pi/4) =',np.sin(np.pi/4))\n",
    "print('sin(z) =',np.sin(z))\n",
    "print('cos(z) =',np.cos(z))\n",
    "print('log(z) =',np.log(z))\n",
    "print('log10(z) =',np.log10(z))\n",
    "print('arctan(z) =',np.arctan(z))\n",
    "print('arctan2(z,x) =',np.arctan2(z,x))\n",
    "print('tanh(z) =', np.tanh(z))\n",
    "print('cosh(z) =', np.cosh(z))"
   ]
  },
  {
   "cell_type": "markdown",
   "metadata": {
    "ein.tags": "worksheet-0",
    "slideshow": {
     "slide_type": "-"
    }
   },
   "source": [
    "Hay funciones que devuelven un valor computado a partir del *array*. Veamos como funciona con un *array* bidimensional"
   ]
  },
  {
   "cell_type": "code",
   "execution_count": 119,
   "metadata": {
    "autoscroll": false,
    "collapsed": false,
    "ein.hycell": false,
    "ein.tags": "worksheet-0",
    "slideshow": {
     "slide_type": "-"
    }
   },
   "outputs": [
    {
     "name": "stdout",
     "output_type": "stream",
     "text": [
      "z= [0.33333333 0.83333333 1.33333333 1.83333333 2.33333333]\n",
      "sum(z)  = 6.666666666666666\n",
      "prod(z) = 1.584362139917695\n",
      "min(z)  = 0.3333333333333333\n",
      "max(z)  = 2.3333333333333335\n",
      "argmin(z) = 0\n",
      "argmax(z) = 4\n",
      "mean(z) = 1.3333333333333333\n",
      "std(z)  = 0.7071067811865476\n"
     ]
    }
   ],
   "source": [
    "print('z=', z)\n",
    "print('sum(z)  =', np.sum(z))   # Suma de todos\n",
    "print('prod(z) =', np.prod(z))  # Producto de todos\n",
    "print('min(z)  =', np.min(z))   # Mínimo\n",
    "print('max(z)  =', np.max(z))   # Máximo\n",
    "print('argmin(z) =', np.argmin(z)) # Índice del mínimo\n",
    "print('argmax(z) =', np.argmax(z)) # Índice del máximo\n",
    "print('mean(z) =', np.mean(z))  # Valor medio\n",
    "print('std(z)  =', np.std(z))   # Desviación standard"
   ]
  },
  {
   "cell_type": "code",
   "execution_count": 120,
   "metadata": {
    "autoscroll": false,
    "collapsed": false,
    "ein.hycell": false,
    "ein.tags": "worksheet-0",
    "slideshow": {
     "slide_type": "-"
    }
   },
   "outputs": [
    {
     "name": "stdout",
     "output_type": "stream",
     "text": [
      "X= [[21.  21.5 22.  22.5 23.  23.5 24.  24.5 25.  25.5 26. ]\n",
      " [15.5 16.  16.5 17.  17.5 18.  18.5 19.  19.5 20.  20.5]\n",
      " [10.  10.5 11.  11.5 12.  12.5 13.  13.5 14.  14.5 15. ]\n",
      " [ 4.5  5.   5.5  6.   6.5  7.   7.5  8.   8.5  9.   9.5]\n",
      " [-1.  -0.5  0.   0.5  1.   1.5  2.   2.5  3.   3.5  4. ]]\n"
     ]
    },
    {
     "name": "stdout",
     "output_type": "stream",
     "text": [
      "sum(X)  = 687.5\n",
      "prod(X) = 0.0\n",
      "min(X)  = -1.0\n",
      "max(X)  = 26.0\n",
      "mean(X) = 12.5\n",
      "std(X)  = 7.937253933193772\n",
      "argmin(X) = 44\n",
      "argmax(X) = 10\n"
     ]
    }
   ],
   "source": [
    "# Funciona con arrays de más dimensiones (y también se puede elegir el eje a usar)\n",
    "X = 0.5*X[::-1,:] - 1\n",
    "print('X=', X)\n",
    "print('sum(X)  =', np.sum(X))   # Suma de todos\n",
    "print('prod(X) =', np.prod(X))  # Producto de todos\n",
    "print('min(X)  =', np.min(X))   # Mínimo\n",
    "print('max(X)  =', np.max(X))   # Máximo\n",
    "print('mean(X) =', np.mean(X))  # Valor medio\n",
    "print('std(X)  =', np.std(X))   # Desviación standard\n",
    "print('argmin(X) =', np.argmin(X))\n",
    "print('argmax(X) =', np.argmax(X))"
   ]
  },
  {
   "cell_type": "markdown",
   "metadata": {
    "ein.tags": "worksheet-0",
    "slideshow": {
     "slide_type": "-"
    }
   },
   "source": [
    "## Intervalo 1 con ejercicio\n",
    " \n",
    "Teniendo en cuenta que las ecuaciones de movimiento con aceleración constante son:\n",
    "\\begin{align}\n",
    "  v &= v_0 - g t \\,  \\\\\n",
    "  z &= z_0 + v_0 t - g t^2/2.\n",
    "\\end{align}\n",
    "\n",
    "Considere los valores de condición inicial: $v_0=10$ (en m/s), $g=-9.8$ (en m/s²) y $z_0=10$ m.\n",
    "\n",
    "- Cree un array `t` de 100 valores equiespaciados entre 0 y 2 segundos, correspondiente al tiempo de caída.\n",
    "- Aplique las fórmulas para obtener dos arrays:\n",
    "  - `v` tendrá los valores de velocidad como función del tiempo\n",
    "  - `z` tendrá los valores de altura como función del tiempo\n",
    "\n",
    "- Grafique separadamente la velocidad y la posición como función del tiempo (dos gráficos)\n",
    "- Grafique la velocidad como función de la posición\n",
    "- Calcular (no alcanza con ver en el gráfico) un valor aproximado de la altura máxima alcanzada, y en que instante ocurre."
   ]
  },
  {
   "cell_type": "markdown",
   "metadata": {
    "ein.tags": "worksheet-0",
    "slideshow": {
     "slide_type": "-"
    }
   },
   "source": [
    "## Funciones\n",
    "\n",
    "### Definición de funciones\n",
    "\n",
    "Las funciones en **Python**, como en la mayoría de los lenguajes, usan una notación matemática, con un nombre y uno o más argumentos entre paréntesis. Por ejemplo, ya usamos varias funciones matemáticas, que toman como argumento un número o un *array* de números, y devuelven un número o un array (dependiendo del argumento, y de la función). Lo que podemos decir es que toman uno o más argumentos y devuelven uno o más resultados."
   ]
  },
  {
   "cell_type": "code",
   "execution_count": 121,
   "metadata": {
    "autoscroll": false,
    "collapsed": false,
    "ein.hycell": false,
    "ein.tags": "worksheet-0",
    "slideshow": {
     "slide_type": "-"
    }
   },
   "outputs": [
    {
     "name": "stdout",
     "output_type": "stream",
     "text": [
      "sin(1.54) = 0.9995258306054791\n",
      "sin(vec) = [ 0.          0.84147098  0.90929743  0.14112001 -0.7568025  -0.95892427\n",
      " -0.2794155   0.6569866   0.98935825  0.41211849 -0.54402111]\n",
      "max(vec) = 10\n"
     ]
    }
   ],
   "source": [
    "print('sin(1.54) =', np.sin(1.54))\n",
    "print('sin(vec) =', np.sin(vec))\n",
    "print('max(vec) =', np.max(vec))"
   ]
  },
  {
   "cell_type": "markdown",
   "metadata": {
    "ein.tags": "worksheet-0",
    "slideshow": {
     "slide_type": "-"
    }
   },
   "source": [
    "Para mostrar como definir nuestras propias funciones, vamos a tomar el ejercicio de caída libre y encapsulemos el cálculo en una función:"
   ]
  },
  {
   "cell_type": "code",
   "execution_count": 122,
   "metadata": {
    "autoscroll": false,
    "collapsed": false,
    "ein.hycell": false,
    "ein.tags": "worksheet-0",
    "slideshow": {
     "slide_type": "-"
    }
   },
   "outputs": [],
   "source": [
    "z_0 = 10                       # altura inicial en m\n",
    "v_0 = 10                         # velocidad inicial en m/s\n",
    "g = -9.8                         # aceleración de la gravedad en m/s^2\n",
    "def caida(t):\n",
    "  \"\"\"Cálculo de velocidad y posición para una partícula en caída libre como función del tiempo\n",
    "  El tiempo `t` está en segundos\n",
    "  Devuelve:\n",
    "  v,h\n",
    "  donde:\n",
    "  `v` es la velocidad en m/s\n",
    "  `h` es la altura en m\n",
    "  \"\"\"\n",
    "  v = v_0 + g * t\n",
    "  h = z_0 + v_0 * t + g * t**2 / 2.\n",
    "  return v,h"
   ]
  },
  {
   "cell_type": "markdown",
   "metadata": {
    "ein.tags": "worksheet-0",
    "slideshow": {
     "slide_type": "-"
    }
   },
   "source": [
    "Elementos de la definición de funciones:\n",
    "\n",
    "- La primera línea:\n",
    "  - Se define empezando con la palabra `def`\n",
    "  - Luego se escribe el nombre de la función\n",
    "  - A continuación, entre paréntesis se escriben los argumentos separados por comas. Si no hay argumentos se dejan los paréntesis vacíos\n",
    "  - Se finaliza con los dos puntos (`:`)\n",
    "- En la segunda línea empieza un string de documentación (opcional pero **muy** recomendado)\n",
    "- Luego del string de documentación viene el cuerpo de la función (los cálculos en este caso)\n",
    "- Devuelve lo que viene a continuación de la palabra `return` (en este caso dos valores)\n",
    "\n",
    "Si no se escribe explícitamente que devuelve una función, va a devolver automáticamente `None`.\n",
    "\n",
    "Por ejemplo, la función `print()`  no devuelve nada, sólo imprime por pantalla"
   ]
  },
  {
   "cell_type": "code",
   "execution_count": 123,
   "metadata": {
    "autoscroll": false,
    "collapsed": false,
    "ein.hycell": false,
    "ein.tags": "worksheet-0",
    "slideshow": {
     "slide_type": "-"
    }
   },
   "outputs": [
    {
     "name": "stdout",
     "output_type": "stream",
     "text": [
      "hola\n"
     ]
    }
   ],
   "source": [
    "a = print('hola')"
   ]
  },
  {
   "cell_type": "code",
   "execution_count": 124,
   "metadata": {
    "autoscroll": false,
    "collapsed": false,
    "ein.hycell": false,
    "ein.tags": "worksheet-0",
    "slideshow": {
     "slide_type": "-"
    }
   },
   "outputs": [
    {
     "name": "stdout",
     "output_type": "stream",
     "text": [
      "None\n"
     ]
    }
   ],
   "source": [
    "print(a)"
   ]
  },
  {
   "cell_type": "markdown",
   "metadata": {
    "ein.tags": "worksheet-0",
    "slideshow": {
     "slide_type": "-"
    }
   },
   "source": [
    "Con esa definición de la función `caida` podemos obtener los dos valores de velocidad y posición simultáneamente"
   ]
  },
  {
   "cell_type": "code",
   "execution_count": 125,
   "metadata": {
    "autoscroll": false,
    "collapsed": false,
    "ein.hycell": false,
    "ein.tags": "worksheet-0",
    "slideshow": {
     "slide_type": "-"
    }
   },
   "outputs": [
    {
     "name": "stdout",
     "output_type": "stream",
     "text": [
      "A tiempo 1.0 s, la veloc. es 0.20 m/s y la altura es es 15.10 m\n"
     ]
    }
   ],
   "source": [
    "t1 = 1\n",
    "v1,h1 = caida(t1)\n",
    "print(\"A tiempo {:.1f} s, la veloc. es {:.2f} m/s y la altura es es {:.2f} m\".format(t1, v1, h1 ) )"
   ]
  },
  {
   "cell_type": "markdown",
   "metadata": {
    "ein.tags": "worksheet-0",
    "slideshow": {
     "slide_type": "-"
    }
   },
   "source": [
    "Como todas las operaciones son simples, si le pasamos a esta función un *array*, no tendrá problemas"
   ]
  },
  {
   "cell_type": "code",
   "execution_count": 126,
   "metadata": {
    "autoscroll": false,
    "collapsed": false,
    "ein.hycell": false,
    "ein.tags": "worksheet-0",
    "slideshow": {
     "slide_type": "-"
    }
   },
   "outputs": [
    {
     "data": {
      "text/plain": [
       "Text(0,0.5,'altura (m)')"
      ]
     },
     "execution_count": 126,
     "metadata": {},
     "output_type": "execute_result"
    },
    {
     "data": {
      "image/png": "[encoded data removed]",
      "text/plain": [
       "<Figure size 432x288 with 1 Axes>"
      ]
     },
     "metadata": {},
     "output_type": "display_data"
    }
   ],
   "source": [
    "t = np.linspace(0, 2, 100)\n",
    "v, h = caida(t)\n",
    "plt.plot(v,h)\n",
    "plt.xlabel('velocidad (m/s)')\n",
    "plt.ylabel('altura (m)')"
   ]
  },
  {
   "cell_type": "code",
   "execution_count": 127,
   "metadata": {
    "autoscroll": false,
    "collapsed": false,
    "ein.hycell": false,
    "ein.tags": "worksheet-0",
    "slideshow": {
     "slide_type": "-"
    }
   },
   "outputs": [
    {
     "ename": "SyntaxError",
     "evalue": "invalid syntax (<ipython-input-127-cac5a9e3e4cc>, line 3)",
     "output_type": "error",
     "traceback": [
      "\u001b[0;36m  File \u001b[0;32m\"<ipython-input-127-cac5a9e3e4cc>\"\u001b[0;36m, line \u001b[0;32m3\u001b[0m\n\u001b[0;31m    Cuando definimos la función le agregamos un string con una descripción. Esta puede utilizarse luego como documentación\u001b[0m\n\u001b[0m                   ^\u001b[0m\n\u001b[0;31mSyntaxError\u001b[0m\u001b[0;31m:\u001b[0m invalid syntax\n"
     ]
    }
   ],
   "source": [
    "#### Documentación (doc strings)\n",
    "\n",
    "Cuando definimos la función le agregamos un string con una descripción. Esta puede utilizarse luego como documentación"
   ]
  },
  {
   "cell_type": "code",
   "execution_count": 128,
   "metadata": {
    "autoscroll": false,
    "collapsed": false,
    "ein.hycell": false,
    "ein.tags": "worksheet-0",
    "slideshow": {
     "slide_type": "-"
    }
   },
   "outputs": [
    {
     "name": "stdout",
     "output_type": "stream",
     "text": [
      "Help on function caida in module __main__:\n",
      "\n",
      "caida(t)\n",
      "    Cálculo de velocidad y posición para una partícula en caída libre como función del tiempo\n",
      "    El tiempo `t` está en segundos\n",
      "    Devuelve:\n",
      "    v,h\n",
      "    donde:\n",
      "    `v` es la velocidad en m/s\n",
      "    `h` es la altura en m\n",
      "\n"
     ]
    }
   ],
   "source": [
    "help(caida)"
   ]
  },
  {
   "cell_type": "markdown",
   "metadata": {
    "ein.tags": "worksheet-0",
    "slideshow": {
     "slide_type": "-"
    }
   },
   "source": [
    "### Las funciones son objetos\n",
    "\n",
    "Las funciones en **Python**, como en la mayoría de los lenguajes, usan una notación similar a la de las funciones matemáticas, con un nombre y uno o más argumentos entre paréntesis. Por ejemplo, ya usamos la función `sum` cuyo argumento puede ser un array o lista de números"
   ]
  },
  {
   "cell_type": "code",
   "execution_count": 129,
   "metadata": {
    "autoscroll": false,
    "collapsed": false,
    "ein.hycell": false,
    "ein.tags": "worksheet-0",
    "slideshow": {
     "slide_type": "-"
    }
   },
   "outputs": [
    {
     "name": "stdout",
     "output_type": "stream",
     "text": [
      "<function sum at 0x7f6e3c089378>\n"
     ]
    }
   ],
   "source": [
    "print(np.sum)"
   ]
  },
  {
   "cell_type": "code",
   "execution_count": 130,
   "metadata": {
    "autoscroll": false,
    "collapsed": false,
    "ein.hycell": false,
    "ein.tags": "worksheet-0",
    "slideshow": {
     "slide_type": "-"
    }
   },
   "outputs": [
    {
     "name": "stdout",
     "output_type": "stream",
     "text": [
      "<function sum at 0x7f6e3c089378>\n"
     ]
    }
   ],
   "source": [
    "f = np.sum\n",
    "print(f)"
   ]
  },
  {
   "cell_type": "code",
   "execution_count": 131,
   "metadata": {
    "autoscroll": false,
    "collapsed": false,
    "ein.hycell": false,
    "ein.tags": "worksheet-0",
    "slideshow": {
     "slide_type": "-"
    }
   },
   "outputs": [
    {
     "name": "stdout",
     "output_type": "stream",
     "text": [
      "55 55\n"
     ]
    }
   ],
   "source": [
    "print(np.sum(vec), f(vec))"
   ]
  },
  {
   "cell_type": "code",
   "execution_count": 132,
   "metadata": {
    "autoscroll": false,
    "collapsed": false,
    "ein.hycell": false,
    "ein.tags": "worksheet-0",
    "slideshow": {
     "slide_type": "-"
    }
   },
   "outputs": [
    {
     "name": "stdout",
     "output_type": "stream",
     "text": [
      "(-4.700000000000001, 13.975)\n",
      "(-4.700000000000001, 13.975)\n"
     ]
    }
   ],
   "source": [
    "f1 = caida\n",
    "print(caida(1.5))\n",
    "print(f1(1.5))"
   ]
  },
  {
   "cell_type": "markdown",
   "metadata": {
    "ein.tags": "worksheet-0",
    "slideshow": {
     "slide_type": "-"
    }
   },
   "source": [
    "### Funciones con argumentos opcionales\n",
    "\n",
    "Las funciones pueden tener muchos argumentos. En **Python** pueden tener un número variable de argumentos y pueden tener valores por *default* para algunos de ellos. En el caso de la función de caída libre, vamos a extenderlo de manera que podamos usarlo fuera de la tierra (o en otras latitudes) permitiendo cambiar el valor de la gravedad y asumiendo que, a menos que lo pidamos explícitamente se trata de una simple caída libre:"
   ]
  },
  {
   "cell_type": "code",
   "execution_count": 133,
   "metadata": {
    "autoscroll": false,
    "collapsed": false,
    "ein.hycell": false,
    "ein.tags": "worksheet-0",
    "slideshow": {
     "slide_type": "-"
    }
   },
   "outputs": [],
   "source": [
    "def caida_libre(t, z_0=10, v_0 = 0., g=9.8):\n",
    "  \"\"\"Devuelve la velocidad y la posición de una partícula en\n",
    "  caída libre para condiciones iniciales dadas\n",
    "\n",
    "  Parameters\n",
    "  ----------\n",
    "  t : float\n",
    "      el tiempo al que queremos realizar el cálculo (default = 10.)\n",
    "  z_0: float \n",
    "      la altura inicial\n",
    "  v_0: float (opcional)\n",
    "      la velocidad inicial (default = 0.0)\n",
    "   g: float (opcional)\n",
    "      valor de la aceleración de la gravedad (default = -9.8)\n",
    "\n",
    "  Returns\n",
    "  -------\n",
    "  (v,h):  tuple of floats\n",
    "       v= v0 - g*t\n",
    "       h= h0 - v0*t -g*t^2/2\n",
    "  \n",
    "  \"\"\"\n",
    "  v = v_0 + g * t\n",
    "  h = z_0 + v_0 * t + g*t**2/2.\n",
    "  return v,h\n",
    "\n"
   ]
  },
  {
   "cell_type": "markdown",
   "metadata": {
    "ein.tags": "worksheet-0",
    "slideshow": {
     "slide_type": "-"
    }
   },
   "source": [
    "Ahora podemos utilizar la función con más flexibilidad"
   ]
  },
  {
   "cell_type": "code",
   "execution_count": 146,
   "metadata": {
    "autoscroll": false,
    "collapsed": false,
    "ein.hycell": false,
    "ein.tags": "worksheet-0",
    "slideshow": {
     "slide_type": "-"
    }
   },
   "outputs": [
    {
     "name": "stdout",
     "output_type": "stream",
     "text": [
      "(-29.400000000000002, -34.1)\n",
      "(-29.400000000000002, -34.1)\n",
      "(-29.400000000000002, -34.1)\n",
      "(-29.400000000000002, -34.1)\n"
     ]
    }
   ],
   "source": [
    "# Estas son todas equivalentes\n",
    "print(caida_libre(3))\n",
    "print(caida_libre(3, 10))\n",
    "print(caida_libre(3, 10, 0))\n",
    "print(caida_libre(3, 10, 0, 9.8))"
   ]
  },
  {
   "cell_type": "code",
   "execution_count": 147,
   "metadata": {
    "autoscroll": false,
    "collapsed": false,
    "ein.hycell": false,
    "ein.tags": "worksheet-0",
    "slideshow": {
     "slide_type": "-"
    }
   },
   "outputs": [
    {
     "name": "stdout",
     "output_type": "stream",
     "text": [
      "(-29.400000000000002, 55.9)\n",
      "(-19.400000000000002, 25.9)\n",
      "(14.2, 76.3)\n"
     ]
    }
   ],
   "source": [
    "print(caida_libre(3, z_0=100))\n",
    "print(caida_libre(3, v_0=10, z_0=100))\n",
    "print(caida_libre(3, v_0=10, z_0=100, g=-1.4))"
   ]
  },
  {
   "cell_type": "markdown",
   "metadata": {
    "ein.tags": "worksheet-0",
    "slideshow": {
     "slide_type": "-"
    }
   },
   "source": [
    "## Intervalo 2 con ejercicio\n",
    "\n",
    "En un archivo llamado *gaussiana.py* definir una función llamada `pdf_norm` que permita calcular una gaussiana normalizada, según la fórmula:\n",
    "\n",
    "$$ \\frac{1}{\\sqrt{2 \\pi \\sigma^2}} e^{(x - \\mu)^2/(2 \\sigma^2)} $$\n",
    "\n",
    "La función tiene que tener los siguientes argumentos\n",
    "- `x`: Un array donde se calcula la función (los valores de $x$).\n",
    "- `loc`: La posición del centro ($\\mu$) (valor por defecto igual a cero).\n",
    "- `scale`: el ancho ($\\sigma$).  (valor por defecto igual a 1).\n",
    "\n",
    "- En un segundo archivo, utilizando esta función, graficar tres gaussianas localizadas en $x=-1$, $x=0$, y $x=1$, con anchos 0.05, 0,1 y 0.2 respectivamente.\n",
    "- Graficar en la misma figura, la suma de las tres funciones anteriores."
   ]
  },
  {
   "cell_type": "markdown",
   "metadata": {
    "ein.tags": "worksheet-0",
    "slideshow": {
     "slide_type": "-"
    }
   },
   "source": [
    "## Lectura y escritura de datos a archivos\n",
    "\n",
    "Numpy tiene funciones que permiten escribir y leer datos de varias maneras, tanto en formato *texto* como en *binario*. En general el modo *texto* ocupa más espacio pero puede ser leído y modificado con un editor."
   ]
  },
  {
   "cell_type": "code",
   "execution_count": 134,
   "metadata": {
    "autoscroll": false,
    "collapsed": false,
    "ein.hycell": false,
    "ein.tags": "worksheet-0",
    "slideshow": {
     "slide_type": "-"
    }
   },
   "outputs": [],
   "source": [
    "t = np.linspace(0,3,500)\n",
    "v, h = caida_libre(t, v_0=20, z_0= 100)\n"
   ]
  },
  {
   "cell_type": "code",
   "execution_count": 135,
   "metadata": {
    "autoscroll": false,
    "collapsed": false,
    "ein.hycell": false,
    "ein.tags": "worksheet-0",
    "slideshow": {
     "slide_type": "-"
    }
   },
   "outputs": [],
   "source": [
    "X = np.vstack([t,h,v])\n",
    "Y = np.transpose(X)"
   ]
  },
  {
   "cell_type": "code",
   "execution_count": 136,
   "metadata": {
    "autoscroll": false,
    "collapsed": false,
    "ein.hycell": false,
    "ein.tags": "worksheet-0",
    "slideshow": {
     "slide_type": "-"
    }
   },
   "outputs": [
    {
     "data": {
      "text/plain": [
       "((500,), (3, 500), (500, 3))"
      ]
     },
     "execution_count": 136,
     "metadata": {},
     "output_type": "execute_result"
    }
   ],
   "source": [
    "t.shape, X.shape, Y.shape"
   ]
  },
  {
   "cell_type": "code",
   "execution_count": 137,
   "metadata": {
    "autoscroll": false,
    "collapsed": false,
    "ein.hycell": false,
    "ein.tags": "worksheet-0",
    "slideshow": {
     "slide_type": "-"
    }
   },
   "outputs": [],
   "source": [
    "np.savetxt('caida.txt', Y, fmt='%.3g')"
   ]
  },
  {
   "cell_type": "code",
   "execution_count": 138,
   "metadata": {
    "autoscroll": false,
    "collapsed": false,
    "ein.hycell": false,
    "ein.tags": "worksheet-0",
    "slideshow": {
     "slide_type": "-"
    }
   },
   "outputs": [],
   "source": [
    "YY = np.loadtxt('caida.txt')"
   ]
  },
  {
   "cell_type": "code",
   "execution_count": 139,
   "metadata": {
    "autoscroll": false,
    "collapsed": false,
    "ein.hycell": false,
    "ein.tags": "worksheet-0",
    "slideshow": {
     "slide_type": "-"
    }
   },
   "outputs": [
    {
     "name": "stdout",
     "output_type": "stream",
     "text": [
      "(500, 3) (500, 3)\n"
     ]
    }
   ],
   "source": [
    "print(Y.shape, YY.shape)"
   ]
  },
  {
   "cell_type": "code",
   "execution_count": 145,
   "metadata": {
    "autoscroll": false,
    "collapsed": false,
    "ein.hycell": false,
    "ein.tags": "worksheet-0",
    "slideshow": {
     "slide_type": "-"
    }
   },
   "outputs": [
    {
     "data": {
      "image/png": "[encoded data removed]",
      "text/plain": [
       "<Figure size 432x288 with 1 Axes>"
      ]
     },
     "metadata": {},
     "output_type": "display_data"
    }
   ],
   "source": [
    "plt.plot(Y[:,0], Y[:,1], '-', YY[:,0], YY[:,1], '--');"
   ]
  }
 ],
 "metadata": {
  "kernelspec": {
   "display_name": "Python 3",
   "name": "python3"
  },
  "name": "clase2.ipynb"
 },
 "nbformat": 4,
 "nbformat_minor": 2
}
