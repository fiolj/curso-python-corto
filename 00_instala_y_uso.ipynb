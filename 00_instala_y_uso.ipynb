{
 "cells": [
  {
   "cell_type": "markdown",
   "metadata": {},
   "source": [
    "\n",
    "# Introducción al lenguaje: Instalación y uso\n",
    "\n",
    "[Python](https://www.python.org) es un lenguaje de programación interpretado que se puede ejecutar sobre distintos sistemas operativos; esto se conoce como multiplataforma (suele usarse el término *cross-platform*). Además, la mayoría de los programas que existen (y posiblemente todos los que nosotros escribamos) pueden ejecutarse tanto en Linux, como en Windows y en Mac sin realizar ningún cambio. Hay dos versiones activas del lenguaje Python.\n",
    "\n",
    "  - **Python2.X** (Python 2) es una versión madura, estable, y con muchas aplicaciones, y utilidades disponibles. No se sigue desarrollando pero se corrigen los errores.\n",
    "\n",
    "  - **Python3.X** (Python 3) es la versión presente y futura. Se introdujo por primera vez en 2008, y produjo cambios incompatibles con Python 2. Por esa razón se mantienen ambas versiones y algunos de los desarrollos de Python 3 se *portan* a Python 2. En este momento la gran mayoría de los paquetes y utilidades utilizan Python 3 por lo que, salvo muy contadas excepciones, no hay razones para seguir utilizando Python 2.\n",
    "\n",
    "En este curso utilizaremos **Python 3**"
   ]
  },
  {
   "cell_type": "markdown",
   "metadata": {},
   "source": [
    "## Documentación y ayuda\n",
    "\n",
    "* [Un curso más comprensivo](https://fiolj.github.io/intro-python-IB/), dictado en los últimos años en el Instituto Balseiro.\n",
    "\n",
    "Algunas fuentes *permanentes* de ayuda son:\n",
    "\n",
    "* [La documentación oficial de Python](https://docs.python.org/3/)\n",
    "\n",
    "* El [Tutorial](https://docs.python.org/3/tutorial/), también [en español](https://docs.python.org/es/3/tutorial/) y la [referencia de bibliotecas](https://docs.python.org/3/reference/index.html)\n",
    "* En una *notebook* o en una consola interactiva de **Python**, mediante `help(<comando>)`\n",
    "* La documentación de los paquetes:\n",
    "    - [Numpy](http://docs.scipy.org/doc/numpy/user/)\n",
    "    - [Matplotlib](http://matplotlib.org), en particular la [galería](https://matplotlib.org/stable/gallery/index.html)\n",
    "    - [Scipy](http://docs.scipy.org/doc/scipy/reference/)\n",
    "* Buscar \"palabras clave + python\" en un buscador. Es particularmente útil el sitio [stackoverflow](http://stackoverflow.com/)\n"
   ]
  },
  {
   "cell_type": "markdown",
   "metadata": {},
   "source": [
    "## Instalación\n",
    "\n",
    "Para una instalación fácil de Python y los paquetes para uso científico se pueden usar alguna de las distribuciones disponibles ([Anaconda](https://www.anaconda.com/distribution), [Canopy](http://www.enthought.com/product/canopy/), [Winpython](https://github.com/winpython/winpython)).\n",
    "\n",
    "Si no tiene instaladas las herramientas, una buena opción es instalar la distribución [Anaconda](https://www.anaconda.com/distribution) que funciona en Linux, Windows y MacOs. Para ello:\n",
    "\n",
    "  - Descargue el [instalador](https://www.anaconda.com/products/individual#Downloads) para su plataforma.\n",
    "\n",
    "  - Ejecútelo, y asegúrese de decir que sí cuando pregunte si quiere utilizar *Python* de Anaconda como predeterminado (importante en caso de que tenga otro!).\n",
    "\n",
    "--------\n",
    "\n",
    "**Nota:**\n",
    "\n",
    "Si bien Anaconda funciona perfectamente en Linux, puede ser más fácil instalar directamente todo lo necesario desde los repositorios de su distribución en la forma susual. \n",
    "\n",
    "Por ejemplo en Ubuntu: \n",
    "\n",
    "    `sudo apt-get install ipython3 ipython3-notebook spyder python3-matplotlib python3-numpy python3-scipy`\n",
    "\n",
    "o, en Fedora 28, en adelante:\n",
    "\n",
    "    `sudo dnf install python3-ipython python3-notebook python3-matplotlib python3-numpy python3-scipy`\n",
    "\n",
    "--------"
   ]
  },
  {
   "cell_type": "markdown",
   "metadata": {},
   "source": [
    "## Primer uso\n",
    "Si instaló Anaconda, busque en el menú de inicio el \"Navegador de Anaconda\" y ejecútelo. Puede tardar algunos segundos en iniciarse, tenga paciencia. \n",
    "Se encontrará con una pantalla con un menú de varias opciones como la siguiente:\n",
    "\n",
    "![](figuras/anaconda-start.png)\n"
   ]
  },
  {
   "cell_type": "markdown",
   "metadata": {},
   "source": [
    "En esta pantalla elija la opción \"JupyterLab\" (preferentemente) o \"Jupyter Notebook\" para iniciar una nueva *notebook* de Python3, que inicialmente está vacía\n",
    "\n",
    "![](figuras/notebook-empty.png)\n",
    "\n",
    "En la celda puede escribir sus comandos y ejecutarlo con [Ctrl]+[Enter], o simplemente apretar el botón \"Run\".\n",
    "\n",
    "Como se ve en el siguiente (corto) video:"
   ]
  },
  {
   "cell_type": "raw",
   "metadata": {},
   "source": [
    ".. raw:: html\n",
    "\n",
    "    <br/>\n",
    "\n",
    "    <video  style=\"display:block; width:100%; height:auto;\" autoplay controls loop=\"loop\">\n",
    "    <source src=\"_images/celdas-jupyter.webm\" type=\"video/webm\"/>\n",
    "    </video>\n",
    "\n",
    "    <br/>"
   ]
  },
  {
   "cell_type": "markdown",
   "metadata": {
    "ein.tags": "worksheet-0",
    "slideshow": {
     "slide_type": "-"
    }
   },
   "source": [
    "-------\n",
    "\n",
    "## Ejercicios\n",
    " \n",
    "1. Habra un *Notebook* nuevo y utilícelo como una calculadora para realizar las siguientes acciones:\n",
    "   - Suponiendo que, de las cuatro horas de clases, tomamos un descanso de 15 minutos y nos distraemos otros 13 minutos, calcular cuántos minutos efectivos de trabajo tendremos en las dos clases.\n",
    "   - Si hay nueve alumnos presentes: ¿cuántas horas-persona de trabajo hay involucradas?\n",
    "\n",
    "4. Para cubos de lados de longitud L= 1, 3, 5 y 8, calcule su superficie y su volumen.\n",
    "\n",
    "5. Para esferas de radios r= 1, 3, 5 y 8, calcule su superficie y su volumen."
   ]
  }
 ],
 "metadata": {
  "celltoolbar": "Slideshow",
  "kernelspec": {
   "display_name": "Python 3",
   "language": "python",
   "name": "python3"
  },
  "language_info": {
   "codemirror_mode": {
    "name": "ipython",
    "version": 3
   },
   "file_extension": ".py",
   "mimetype": "text/x-python",
   "name": "python",
   "nbconvert_exporter": "python",
   "pygments_lexer": "ipython3",
   "version": "3.9.1"
  },
  "name": "00_instala_y_uso.ipynb",
  "toc": {
   "base_numbering": 1,
   "nav_menu": null,
   "number_sections": true,
   "sideBar": true,
   "skip_h1_title": false,
   "title_cell": "Contenidos",
   "title_sidebar": "Contenidos",
   "toc_cell": false,
   "toc_position": null,
   "toc_section_display": true,
   "toc_window_display": false
  }
 },
 "nbformat": 4,
 "nbformat_minor": 4
}
